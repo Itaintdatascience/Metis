{
 "cells": [
  {
   "cell_type": "markdown",
   "id": "1f63bf80",
   "metadata": {},
   "source": [
    "# Yelp Dataset Challenge:\n",
    "Build a Recommender System to suggest best place for a given description."
   ]
  },
  {
   "cell_type": "code",
   "execution_count": 1,
   "id": "d2fddf56",
   "metadata": {},
   "outputs": [
    {
     "data": {
      "text/plain": [
       "['admin', 'config', 'events', 'local', 'yelp', 'yelp_reviews']"
      ]
     },
     "execution_count": 1,
     "metadata": {},
     "output_type": "execute_result"
    }
   ],
   "source": [
    "import json\n",
    "import pandas as pd\n",
    "from pymongo import MongoClient\n",
    "import requests\n",
    "\n",
    "client = MongoClient()\n",
    "client.list_database_names()"
   ]
  },
  {
   "cell_type": "code",
   "execution_count": 16,
   "id": "00e3bc55",
   "metadata": {},
   "outputs": [
    {
     "data": {
      "text/plain": [
       "{'nIndexesWas': 1, 'ns': 'yelp.yelp', 'ok': 1.0}"
      ]
     },
     "execution_count": 16,
     "metadata": {},
     "output_type": "execute_result"
    }
   ],
   "source": [
    "# db.drop_collection('yelp')"
   ]
  },
  {
   "cell_type": "code",
   "execution_count": 60,
   "id": "72079f82",
   "metadata": {},
   "outputs": [],
   "source": [
    "db = client.yelp_reviews\n",
    "\n",
    "def load_data(i):\n",
    "    data_file = open(\"/Users/darrenlee/Documents/YELP_DATA/{}\".format(i))\n",
    "\n",
    "#     data = []\n",
    "\n",
    "    for line in data_file:\n",
    "#         data.append(json.loads(line))\n",
    "        yelp = db.yelp_reviews.insert_one(json.loads(line))\n",
    "\n",
    "#     df = pd.DataFrame(data)\n",
    "    data_file.close()\n",
    "    \n",
    "    return df"
   ]
  },
  {
   "cell_type": "code",
   "execution_count": 18,
   "id": "16915f0e",
   "metadata": {},
   "outputs": [],
   "source": [
    "# df_biz = load_data(\"yelp_academic_dataset_business.json\")"
   ]
  },
  {
   "cell_type": "code",
   "execution_count": 121,
   "id": "23b56b6e",
   "metadata": {},
   "outputs": [],
   "source": [
    "# fileNames_list = ['yelp_academic_dataset_review.json', \n",
    "#                   'yelp_academic_dataset_business.json', \n",
    "#                   'yelp_academic_dataset_checkin.json', \n",
    "#                   'yelp_academic_dataset_tip.json', \n",
    "#                   'yelp_academic_dataset_user.json']"
   ]
  },
  {
   "cell_type": "code",
   "execution_count": 8,
   "id": "4a38f47f",
   "metadata": {},
   "outputs": [
    {
     "data": {
      "text/plain": [
       "(150346, 53)"
      ]
     },
     "execution_count": 8,
     "metadata": {},
     "output_type": "execute_result"
    }
   ],
   "source": [
    "df_biz = load_data(\"yelp_academic_dataset_business.json\")\n",
    "df_biz = pd.concat([df_biz, pd.json_normalize(df_biz['attributes']).fillna('None')], axis=1)\n",
    "df_biz['categories'] = [str(k).split(',') for k in df_biz['categories']]\n",
    "df_biz.shape"
   ]
  },
  {
   "cell_type": "code",
   "execution_count": 5,
   "id": "7ea21de8",
   "metadata": {},
   "outputs": [
    {
     "name": "stdout",
     "output_type": "stream",
     "text": [
      "Databases:\n",
      "\t ['admin', 'config', 'events', 'local', 'yelp']\n",
      "\n",
      "Collections in `yelp`:\n",
      "\t ['yelp']\n"
     ]
    }
   ],
   "source": [
    "print(\"Databases:\\n\\t\", client.list_database_names())\n",
    "print(\"\\nCollections in `yelp`:\\n\\t\", client.yelp.list_collection_names())"
   ]
  },
  {
   "cell_type": "code",
   "execution_count": 9,
   "id": "e3cd2831",
   "metadata": {},
   "outputs": [
    {
     "data": {
      "text/plain": [
       "{'_id': ObjectId('622df55a6737c2d75b8d0585'),\n",
       " 'business_id': 'Pns2l4eNsfO8kk83dixA6A',\n",
       " 'name': 'Abby Rappoport, LAC, CMQ',\n",
       " 'address': '1616 Chapala St, Ste 2',\n",
       " 'city': 'Santa Barbara',\n",
       " 'state': 'CA',\n",
       " 'postal_code': '93101',\n",
       " 'latitude': 34.4266787,\n",
       " 'longitude': -119.7111968,\n",
       " 'stars': 5.0,\n",
       " 'review_count': 7,\n",
       " 'is_open': 0,\n",
       " 'attributes': {'ByAppointmentOnly': 'True'},\n",
       " 'categories': 'Doctors, Traditional Chinese Medicine, Naturopathic/Holistic, Acupuncture, Health & Medical, Nutritionists',\n",
       " 'hours': None}"
      ]
     },
     "execution_count": 9,
     "metadata": {},
     "output_type": "execute_result"
    }
   ],
   "source": [
    "db.yelp.find_one({})"
   ]
  },
  {
   "cell_type": "code",
   "execution_count": 39,
   "id": "cfaf5ece",
   "metadata": {
    "scrolled": false
   },
   "outputs": [],
   "source": [
    "# db.yelp.find({\"city\": \"San\"}).count()"
   ]
  },
  {
   "cell_type": "code",
   "execution_count": 236,
   "id": "b84a6b9b",
   "metadata": {},
   "outputs": [
    {
     "data": {
      "text/plain": [
       "{'Monday': '8:0-22:0',\n",
       " 'Tuesday': '8:0-22:0',\n",
       " 'Wednesday': '8:0-22:0',\n",
       " 'Thursday': '8:0-22:0',\n",
       " 'Friday': '8:0-23:0',\n",
       " 'Saturday': '8:0-23:0',\n",
       " 'Sunday': '8:0-22:0'}"
      ]
     },
     "execution_count": 236,
     "metadata": {},
     "output_type": "execute_result"
    }
   ],
   "source": [
    "df.hours.iloc[2]"
   ]
  },
  {
   "cell_type": "code",
   "execution_count": 247,
   "id": "e5a9aabb",
   "metadata": {},
   "outputs": [
    {
     "data": {
      "text/plain": [
       "<AxesSubplot:>"
      ]
     },
     "execution_count": 247,
     "metadata": {},
     "output_type": "execute_result"
    },
    {
     "data": {
      "image/png": "[encoded data removed]",
      "text/plain": [
       "<Figure size 432x288 with 1 Axes>"
      ]
     },
     "metadata": {
      "needs_background": "light"
     },
     "output_type": "display_data"
    }
   ],
   "source": [
    "df.state.value_counts()[:10].plot.bar()"
   ]
  },
  {
   "cell_type": "code",
   "execution_count": 258,
   "id": "b2b6da6f",
   "metadata": {},
   "outputs": [
    {
     "data": {
      "text/plain": [
       "(150346, 54)"
      ]
     },
     "execution_count": 258,
     "metadata": {},
     "output_type": "execute_result"
    }
   ],
   "source": [
    "df.shape"
   ]
  },
  {
   "cell_type": "code",
   "execution_count": null,
   "id": "0d602dc5",
   "metadata": {},
   "outputs": [],
   "source": []
  },
  {
   "cell_type": "code",
   "execution_count": null,
   "id": "15af8832",
   "metadata": {},
   "outputs": [],
   "source": []
  },
  {
   "cell_type": "code",
   "execution_count": 253,
   "id": "a9493b1c",
   "metadata": {},
   "outputs": [
    {
     "data": {
      "text/plain": [
       "Index(['_id', 'business_id', 'name', 'address', 'city', 'state', 'postal_code',\n",
       "       'latitude', 'longitude', 'stars', 'review_count', 'is_open',\n",
       "       'attributes', 'categories', 'hours', 'ByAppointmentOnly',\n",
       "       'BusinessAcceptsCreditCards', 'BikeParking', 'RestaurantsPriceRange2',\n",
       "       'CoatCheck', 'RestaurantsTakeOut', 'RestaurantsDelivery', 'Caters',\n",
       "       'WiFi', 'BusinessParking', 'WheelchairAccessible', 'HappyHour',\n",
       "       'OutdoorSeating', 'HasTV', 'RestaurantsReservations', 'DogsAllowed',\n",
       "       'Alcohol', 'GoodForKids', 'RestaurantsAttire', 'Ambience',\n",
       "       'RestaurantsTableService', 'RestaurantsGoodForGroups', 'DriveThru',\n",
       "       'NoiseLevel', 'GoodForMeal', 'BusinessAcceptsBitcoin', 'Smoking',\n",
       "       'Music', 'GoodForDancing', 'AcceptsInsurance', 'BestNights', 'BYOB',\n",
       "       'Corkage', 'BYOBCorkage', 'HairSpecializesIn', 'Open24Hours',\n",
       "       'RestaurantsCounterService', 'AgesAllowed', 'DietaryRestrictions'],\n",
       "      dtype='object')"
      ]
     },
     "execution_count": 253,
     "metadata": {},
     "output_type": "execute_result"
    }
   ],
   "source": [
    "df.columns"
   ]
  },
  {
   "cell_type": "code",
   "execution_count": 38,
   "id": "c43d35fa",
   "metadata": {},
   "outputs": [],
   "source": [
    "# df_biz['categories'][0].split(',')"
   ]
  },
  {
   "cell_type": "code",
   "execution_count": 7,
   "id": "e7770ef8",
   "metadata": {},
   "outputs": [
    {
     "data": {
      "text/plain": [
       "(131930, 2)"
      ]
     },
     "execution_count": 7,
     "metadata": {},
     "output_type": "execute_result"
    }
   ],
   "source": [
    "# df_checkin = load_data(\"yelp_academic_dataset_checkin.json\")\n",
    "# df_checkin.shape"
   ]
  },
  {
   "cell_type": "code",
   "execution_count": 8,
   "id": "662acd37",
   "metadata": {},
   "outputs": [
    {
     "data": {
      "text/plain": [
       "(908915, 5)"
      ]
     },
     "execution_count": 8,
     "metadata": {},
     "output_type": "execute_result"
    }
   ],
   "source": [
    "# df_tip = load_data(\"yelp_academic_dataset_tip.json\")\n",
    "# df_tip.shape"
   ]
  },
  {
   "cell_type": "code",
   "execution_count": 7,
   "id": "892dbb81",
   "metadata": {},
   "outputs": [],
   "source": [
    "# df_user = load_data(\"yelp_academic_dataset_user.json\")\n",
    "# df_user.shape"
   ]
  },
  {
   "cell_type": "code",
   "execution_count": 61,
   "id": "5b30442f",
   "metadata": {},
   "outputs": [
    {
     "data": {
      "text/html": [
       "<div>\n",
       "<style scoped>\n",
       "    .dataframe tbody tr th:only-of-type {\n",
       "        vertical-align: middle;\n",
       "    }\n",
       "\n",
       "    .dataframe tbody tr th {\n",
       "        vertical-align: top;\n",
       "    }\n",
       "\n",
       "    .dataframe thead th {\n",
       "        text-align: right;\n",
       "    }\n",
       "</style>\n",
       "<table border=\"1\" class=\"dataframe\">\n",
       "  <thead>\n",
       "    <tr style=\"text-align: right;\">\n",
       "      <th></th>\n",
       "      <th>_id</th>\n",
       "      <th>business_id</th>\n",
       "      <th>name</th>\n",
       "      <th>address</th>\n",
       "      <th>city</th>\n",
       "      <th>state</th>\n",
       "      <th>postal_code</th>\n",
       "      <th>latitude</th>\n",
       "      <th>longitude</th>\n",
       "      <th>stars</th>\n",
       "      <th>...</th>\n",
       "      <th>AcceptsInsurance</th>\n",
       "      <th>BestNights</th>\n",
       "      <th>BYOB</th>\n",
       "      <th>Corkage</th>\n",
       "      <th>BYOBCorkage</th>\n",
       "      <th>HairSpecializesIn</th>\n",
       "      <th>Open24Hours</th>\n",
       "      <th>RestaurantsCounterService</th>\n",
       "      <th>AgesAllowed</th>\n",
       "      <th>DietaryRestrictions</th>\n",
       "    </tr>\n",
       "  </thead>\n",
       "  <tbody>\n",
       "    <tr>\n",
       "      <th>0</th>\n",
       "      <td>622df7606737c2d75b919c1b</td>\n",
       "      <td>Pns2l4eNsfO8kk83dixA6A</td>\n",
       "      <td>Abby Rappoport, LAC, CMQ</td>\n",
       "      <td>1616 Chapala St, Ste 2</td>\n",
       "      <td>Santa Barbara</td>\n",
       "      <td>CA</td>\n",
       "      <td>93101</td>\n",
       "      <td>34.426679</td>\n",
       "      <td>-119.711197</td>\n",
       "      <td>5.0</td>\n",
       "      <td>...</td>\n",
       "      <td>0</td>\n",
       "      <td>None</td>\n",
       "      <td>0</td>\n",
       "      <td>0</td>\n",
       "      <td>None</td>\n",
       "      <td>None</td>\n",
       "      <td>0</td>\n",
       "      <td>0</td>\n",
       "      <td>None</td>\n",
       "      <td>None</td>\n",
       "    </tr>\n",
       "    <tr>\n",
       "      <th>1</th>\n",
       "      <td>622df7606737c2d75b919c1c</td>\n",
       "      <td>mpf3x-BjTdTEA3yCZrAYPw</td>\n",
       "      <td>The UPS Store</td>\n",
       "      <td>87 Grasso Plaza Shopping Center</td>\n",
       "      <td>Affton</td>\n",
       "      <td>MO</td>\n",
       "      <td>63123</td>\n",
       "      <td>38.551126</td>\n",
       "      <td>-90.335695</td>\n",
       "      <td>3.0</td>\n",
       "      <td>...</td>\n",
       "      <td>0</td>\n",
       "      <td>None</td>\n",
       "      <td>0</td>\n",
       "      <td>0</td>\n",
       "      <td>None</td>\n",
       "      <td>None</td>\n",
       "      <td>0</td>\n",
       "      <td>0</td>\n",
       "      <td>None</td>\n",
       "      <td>None</td>\n",
       "    </tr>\n",
       "    <tr>\n",
       "      <th>2</th>\n",
       "      <td>622df7606737c2d75b919c1d</td>\n",
       "      <td>tUFrWirKiKi_TAnsVWINQQ</td>\n",
       "      <td>Target</td>\n",
       "      <td>5255 E Broadway Blvd</td>\n",
       "      <td>Tucson</td>\n",
       "      <td>AZ</td>\n",
       "      <td>85711</td>\n",
       "      <td>32.223236</td>\n",
       "      <td>-110.880452</td>\n",
       "      <td>3.5</td>\n",
       "      <td>...</td>\n",
       "      <td>0</td>\n",
       "      <td>None</td>\n",
       "      <td>0</td>\n",
       "      <td>0</td>\n",
       "      <td>None</td>\n",
       "      <td>None</td>\n",
       "      <td>0</td>\n",
       "      <td>0</td>\n",
       "      <td>None</td>\n",
       "      <td>None</td>\n",
       "    </tr>\n",
       "    <tr>\n",
       "      <th>3</th>\n",
       "      <td>622df7606737c2d75b919c1e</td>\n",
       "      <td>MTSW4McQd7CbVtyjqoe9mw</td>\n",
       "      <td>St Honore Pastries</td>\n",
       "      <td>935 Race St</td>\n",
       "      <td>Philadelphia</td>\n",
       "      <td>PA</td>\n",
       "      <td>19107</td>\n",
       "      <td>39.955505</td>\n",
       "      <td>-75.155564</td>\n",
       "      <td>4.0</td>\n",
       "      <td>...</td>\n",
       "      <td>0</td>\n",
       "      <td>None</td>\n",
       "      <td>0</td>\n",
       "      <td>0</td>\n",
       "      <td>None</td>\n",
       "      <td>None</td>\n",
       "      <td>0</td>\n",
       "      <td>0</td>\n",
       "      <td>None</td>\n",
       "      <td>None</td>\n",
       "    </tr>\n",
       "    <tr>\n",
       "      <th>4</th>\n",
       "      <td>622df7606737c2d75b919c1f</td>\n",
       "      <td>mWMc6_wTdE0EUBKIGXDVfA</td>\n",
       "      <td>Perkiomen Valley Brewery</td>\n",
       "      <td>101 Walnut St</td>\n",
       "      <td>Green Lane</td>\n",
       "      <td>PA</td>\n",
       "      <td>18054</td>\n",
       "      <td>40.338183</td>\n",
       "      <td>-75.471659</td>\n",
       "      <td>4.5</td>\n",
       "      <td>...</td>\n",
       "      <td>0</td>\n",
       "      <td>None</td>\n",
       "      <td>0</td>\n",
       "      <td>0</td>\n",
       "      <td>None</td>\n",
       "      <td>None</td>\n",
       "      <td>0</td>\n",
       "      <td>0</td>\n",
       "      <td>None</td>\n",
       "      <td>None</td>\n",
       "    </tr>\n",
       "    <tr>\n",
       "      <th>...</th>\n",
       "      <td>...</td>\n",
       "      <td>...</td>\n",
       "      <td>...</td>\n",
       "      <td>...</td>\n",
       "      <td>...</td>\n",
       "      <td>...</td>\n",
       "      <td>...</td>\n",
       "      <td>...</td>\n",
       "      <td>...</td>\n",
       "      <td>...</td>\n",
       "      <td>...</td>\n",
       "      <td>...</td>\n",
       "      <td>...</td>\n",
       "      <td>...</td>\n",
       "      <td>...</td>\n",
       "      <td>...</td>\n",
       "      <td>...</td>\n",
       "      <td>...</td>\n",
       "      <td>...</td>\n",
       "      <td>...</td>\n",
       "      <td>...</td>\n",
       "    </tr>\n",
       "    <tr>\n",
       "      <th>150341</th>\n",
       "      <td>622df7996737c2d75b93e760</td>\n",
       "      <td>IUQopTMmYQG-qRtBk-8QnA</td>\n",
       "      <td>Binh's Nails</td>\n",
       "      <td>3388 Gateway Blvd</td>\n",
       "      <td>Edmonton</td>\n",
       "      <td>AB</td>\n",
       "      <td>T6J 5H2</td>\n",
       "      <td>53.468419</td>\n",
       "      <td>-113.492054</td>\n",
       "      <td>3.0</td>\n",
       "      <td>...</td>\n",
       "      <td>0</td>\n",
       "      <td>None</td>\n",
       "      <td>0</td>\n",
       "      <td>0</td>\n",
       "      <td>None</td>\n",
       "      <td>None</td>\n",
       "      <td>0</td>\n",
       "      <td>0</td>\n",
       "      <td>None</td>\n",
       "      <td>None</td>\n",
       "    </tr>\n",
       "    <tr>\n",
       "      <th>150342</th>\n",
       "      <td>622df7996737c2d75b93e761</td>\n",
       "      <td>c8GjPIOTGVmIemT7j5_SyQ</td>\n",
       "      <td>Wild Birds Unlimited</td>\n",
       "      <td>2813 Bransford Ave</td>\n",
       "      <td>Nashville</td>\n",
       "      <td>TN</td>\n",
       "      <td>37204</td>\n",
       "      <td>36.115118</td>\n",
       "      <td>-86.766925</td>\n",
       "      <td>4.0</td>\n",
       "      <td>...</td>\n",
       "      <td>0</td>\n",
       "      <td>None</td>\n",
       "      <td>0</td>\n",
       "      <td>0</td>\n",
       "      <td>None</td>\n",
       "      <td>None</td>\n",
       "      <td>0</td>\n",
       "      <td>0</td>\n",
       "      <td>None</td>\n",
       "      <td>None</td>\n",
       "    </tr>\n",
       "    <tr>\n",
       "      <th>150343</th>\n",
       "      <td>622df7996737c2d75b93e762</td>\n",
       "      <td>_QAMST-NrQobXduilWEqSw</td>\n",
       "      <td>Claire's Boutique</td>\n",
       "      <td>6020 E 82nd St, Ste 46</td>\n",
       "      <td>Indianapolis</td>\n",
       "      <td>IN</td>\n",
       "      <td>46250</td>\n",
       "      <td>39.908707</td>\n",
       "      <td>-86.065088</td>\n",
       "      <td>3.5</td>\n",
       "      <td>...</td>\n",
       "      <td>0</td>\n",
       "      <td>None</td>\n",
       "      <td>0</td>\n",
       "      <td>0</td>\n",
       "      <td>None</td>\n",
       "      <td>None</td>\n",
       "      <td>0</td>\n",
       "      <td>0</td>\n",
       "      <td>None</td>\n",
       "      <td>None</td>\n",
       "    </tr>\n",
       "    <tr>\n",
       "      <th>150344</th>\n",
       "      <td>622df7996737c2d75b93e763</td>\n",
       "      <td>mtGm22y5c2UHNXDFAjaPNw</td>\n",
       "      <td>Cyclery &amp; Fitness Center</td>\n",
       "      <td>2472 Troy Rd</td>\n",
       "      <td>Edwardsville</td>\n",
       "      <td>IL</td>\n",
       "      <td>62025</td>\n",
       "      <td>38.782351</td>\n",
       "      <td>-89.950558</td>\n",
       "      <td>4.0</td>\n",
       "      <td>...</td>\n",
       "      <td>0</td>\n",
       "      <td>None</td>\n",
       "      <td>0</td>\n",
       "      <td>0</td>\n",
       "      <td>None</td>\n",
       "      <td>None</td>\n",
       "      <td>0</td>\n",
       "      <td>0</td>\n",
       "      <td>None</td>\n",
       "      <td>None</td>\n",
       "    </tr>\n",
       "    <tr>\n",
       "      <th>150345</th>\n",
       "      <td>622df7996737c2d75b93e764</td>\n",
       "      <td>jV_XOycEzSlTx-65W906pg</td>\n",
       "      <td>Sic Ink</td>\n",
       "      <td>238 Apollo Beach Blvd</td>\n",
       "      <td>Apollo beach</td>\n",
       "      <td>FL</td>\n",
       "      <td>33572</td>\n",
       "      <td>27.771002</td>\n",
       "      <td>-82.394910</td>\n",
       "      <td>4.5</td>\n",
       "      <td>...</td>\n",
       "      <td>0</td>\n",
       "      <td>None</td>\n",
       "      <td>0</td>\n",
       "      <td>0</td>\n",
       "      <td>None</td>\n",
       "      <td>None</td>\n",
       "      <td>0</td>\n",
       "      <td>0</td>\n",
       "      <td>None</td>\n",
       "      <td>None</td>\n",
       "    </tr>\n",
       "  </tbody>\n",
       "</table>\n",
       "<p>150346 rows × 54 columns</p>\n",
       "</div>"
      ],
      "text/plain": [
       "                             _id             business_id  \\\n",
       "0       622df7606737c2d75b919c1b  Pns2l4eNsfO8kk83dixA6A   \n",
       "1       622df7606737c2d75b919c1c  mpf3x-BjTdTEA3yCZrAYPw   \n",
       "2       622df7606737c2d75b919c1d  tUFrWirKiKi_TAnsVWINQQ   \n",
       "3       622df7606737c2d75b919c1e  MTSW4McQd7CbVtyjqoe9mw   \n",
       "4       622df7606737c2d75b919c1f  mWMc6_wTdE0EUBKIGXDVfA   \n",
       "...                          ...                     ...   \n",
       "150341  622df7996737c2d75b93e760  IUQopTMmYQG-qRtBk-8QnA   \n",
       "150342  622df7996737c2d75b93e761  c8GjPIOTGVmIemT7j5_SyQ   \n",
       "150343  622df7996737c2d75b93e762  _QAMST-NrQobXduilWEqSw   \n",
       "150344  622df7996737c2d75b93e763  mtGm22y5c2UHNXDFAjaPNw   \n",
       "150345  622df7996737c2d75b93e764  jV_XOycEzSlTx-65W906pg   \n",
       "\n",
       "                            name                          address  \\\n",
       "0       Abby Rappoport, LAC, CMQ           1616 Chapala St, Ste 2   \n",
       "1                  The UPS Store  87 Grasso Plaza Shopping Center   \n",
       "2                         Target             5255 E Broadway Blvd   \n",
       "3             St Honore Pastries                      935 Race St   \n",
       "4       Perkiomen Valley Brewery                    101 Walnut St   \n",
       "...                          ...                              ...   \n",
       "150341              Binh's Nails                3388 Gateway Blvd   \n",
       "150342      Wild Birds Unlimited               2813 Bransford Ave   \n",
       "150343         Claire's Boutique           6020 E 82nd St, Ste 46   \n",
       "150344  Cyclery & Fitness Center                     2472 Troy Rd   \n",
       "150345                   Sic Ink            238 Apollo Beach Blvd   \n",
       "\n",
       "                 city state postal_code   latitude   longitude  stars  ...  \\\n",
       "0       Santa Barbara    CA       93101  34.426679 -119.711197    5.0  ...   \n",
       "1              Affton    MO       63123  38.551126  -90.335695    3.0  ...   \n",
       "2              Tucson    AZ       85711  32.223236 -110.880452    3.5  ...   \n",
       "3        Philadelphia    PA       19107  39.955505  -75.155564    4.0  ...   \n",
       "4          Green Lane    PA       18054  40.338183  -75.471659    4.5  ...   \n",
       "...               ...   ...         ...        ...         ...    ...  ...   \n",
       "150341       Edmonton    AB     T6J 5H2  53.468419 -113.492054    3.0  ...   \n",
       "150342      Nashville    TN       37204  36.115118  -86.766925    4.0  ...   \n",
       "150343   Indianapolis    IN       46250  39.908707  -86.065088    3.5  ...   \n",
       "150344   Edwardsville    IL       62025  38.782351  -89.950558    4.0  ...   \n",
       "150345   Apollo beach    FL       33572  27.771002  -82.394910    4.5  ...   \n",
       "\n",
       "        AcceptsInsurance  BestNights BYOB Corkage BYOBCorkage  \\\n",
       "0                      0        None    0       0        None   \n",
       "1                      0        None    0       0        None   \n",
       "2                      0        None    0       0        None   \n",
       "3                      0        None    0       0        None   \n",
       "4                      0        None    0       0        None   \n",
       "...                  ...         ...  ...     ...         ...   \n",
       "150341                 0        None    0       0        None   \n",
       "150342                 0        None    0       0        None   \n",
       "150343                 0        None    0       0        None   \n",
       "150344                 0        None    0       0        None   \n",
       "150345                 0        None    0       0        None   \n",
       "\n",
       "        HairSpecializesIn  Open24Hours  RestaurantsCounterService AgesAllowed  \\\n",
       "0                    None            0                          0        None   \n",
       "1                    None            0                          0        None   \n",
       "2                    None            0                          0        None   \n",
       "3                    None            0                          0        None   \n",
       "4                    None            0                          0        None   \n",
       "...                   ...          ...                        ...         ...   \n",
       "150341               None            0                          0        None   \n",
       "150342               None            0                          0        None   \n",
       "150343               None            0                          0        None   \n",
       "150344               None            0                          0        None   \n",
       "150345               None            0                          0        None   \n",
       "\n",
       "        DietaryRestrictions  \n",
       "0                      None  \n",
       "1                      None  \n",
       "2                      None  \n",
       "3                      None  \n",
       "4                      None  \n",
       "...                     ...  \n",
       "150341                 None  \n",
       "150342                 None  \n",
       "150343                 None  \n",
       "150344                 None  \n",
       "150345                 None  \n",
       "\n",
       "[150346 rows x 54 columns]"
      ]
     },
     "execution_count": 61,
     "metadata": {},
     "output_type": "execute_result"
    }
   ],
   "source": [
    "df_review = load_data(\"yelp_academic_dataset_review.json\")\n",
    "# df_review.shape"
   ]
  },
  {
   "cell_type": "markdown",
   "id": "8c6849aa",
   "metadata": {},
   "source": [
    "# Check-in's to Biz"
   ]
  },
  {
   "cell_type": "code",
   "execution_count": 9,
   "id": "9d506145",
   "metadata": {},
   "outputs": [
    {
     "data": {
      "text/html": [
       "<div>\n",
       "<style scoped>\n",
       "    .dataframe tbody tr th:only-of-type {\n",
       "        vertical-align: middle;\n",
       "    }\n",
       "\n",
       "    .dataframe tbody tr th {\n",
       "        vertical-align: top;\n",
       "    }\n",
       "\n",
       "    .dataframe thead th {\n",
       "        text-align: right;\n",
       "    }\n",
       "</style>\n",
       "<table border=\"1\" class=\"dataframe\">\n",
       "  <thead>\n",
       "    <tr style=\"text-align: right;\">\n",
       "      <th></th>\n",
       "      <th>business_id</th>\n",
       "      <th>date</th>\n",
       "    </tr>\n",
       "  </thead>\n",
       "  <tbody>\n",
       "    <tr>\n",
       "      <th>0</th>\n",
       "      <td>---kPU91CF4Lq2-WlRu9Lw</td>\n",
       "      <td>2020-03-13 21:10:56, 2020-06-02 22:18:06, 2020...</td>\n",
       "    </tr>\n",
       "    <tr>\n",
       "      <th>1</th>\n",
       "      <td>--0iUa4sNDFiZFrAdIWhZQ</td>\n",
       "      <td>2010-09-13 21:43:09, 2011-05-04 23:08:15, 2011...</td>\n",
       "    </tr>\n",
       "    <tr>\n",
       "      <th>2</th>\n",
       "      <td>--30_8IhuyMHbSOcNWd6DQ</td>\n",
       "      <td>2013-06-14 23:29:17, 2014-08-13 23:20:22</td>\n",
       "    </tr>\n",
       "    <tr>\n",
       "      <th>3</th>\n",
       "      <td>--7PUidqRWpRSpXebiyxTg</td>\n",
       "      <td>2011-02-15 17:12:00, 2011-07-28 02:46:10, 2012...</td>\n",
       "    </tr>\n",
       "    <tr>\n",
       "      <th>4</th>\n",
       "      <td>--7jw19RH9JKXgFohspgQw</td>\n",
       "      <td>2014-04-21 20:42:11, 2014-04-28 21:04:46, 2014...</td>\n",
       "    </tr>\n",
       "  </tbody>\n",
       "</table>\n",
       "</div>"
      ],
      "text/plain": [
       "              business_id                                               date\n",
       "0  ---kPU91CF4Lq2-WlRu9Lw  2020-03-13 21:10:56, 2020-06-02 22:18:06, 2020...\n",
       "1  --0iUa4sNDFiZFrAdIWhZQ  2010-09-13 21:43:09, 2011-05-04 23:08:15, 2011...\n",
       "2  --30_8IhuyMHbSOcNWd6DQ           2013-06-14 23:29:17, 2014-08-13 23:20:22\n",
       "3  --7PUidqRWpRSpXebiyxTg  2011-02-15 17:12:00, 2011-07-28 02:46:10, 2012...\n",
       "4  --7jw19RH9JKXgFohspgQw  2014-04-21 20:42:11, 2014-04-28 21:04:46, 2014..."
      ]
     },
     "execution_count": 9,
     "metadata": {},
     "output_type": "execute_result"
    }
   ],
   "source": [
    "df_checkin.head()"
   ]
  },
  {
   "cell_type": "code",
   "execution_count": 10,
   "id": "7c91621f",
   "metadata": {},
   "outputs": [
    {
     "data": {
      "text/plain": [
       "Timestamp('2010-09-13 21:43:09')"
      ]
     },
     "execution_count": 10,
     "metadata": {},
     "output_type": "execute_result"
    }
   ],
   "source": [
    "pd.to_datetime(df_checkin.iloc[1]['date'].split(\",\")[0])"
   ]
  },
  {
   "cell_type": "code",
   "execution_count": 11,
   "id": "1bec0579",
   "metadata": {},
   "outputs": [
    {
     "data": {
      "text/html": [
       "<div>\n",
       "<style scoped>\n",
       "    .dataframe tbody tr th:only-of-type {\n",
       "        vertical-align: middle;\n",
       "    }\n",
       "\n",
       "    .dataframe tbody tr th {\n",
       "        vertical-align: top;\n",
       "    }\n",
       "\n",
       "    .dataframe thead th {\n",
       "        text-align: right;\n",
       "    }\n",
       "</style>\n",
       "<table border=\"1\" class=\"dataframe\">\n",
       "  <thead>\n",
       "    <tr style=\"text-align: right;\">\n",
       "      <th></th>\n",
       "      <th>business_id</th>\n",
       "      <th>date</th>\n",
       "      <th>date_counts</th>\n",
       "    </tr>\n",
       "  </thead>\n",
       "  <tbody>\n",
       "    <tr>\n",
       "      <th>0</th>\n",
       "      <td>---kPU91CF4Lq2-WlRu9Lw</td>\n",
       "      <td>[2020-03-13 21:10:56,  2020-06-02 22:18:06,  2...</td>\n",
       "      <td>11</td>\n",
       "    </tr>\n",
       "    <tr>\n",
       "      <th>1</th>\n",
       "      <td>--0iUa4sNDFiZFrAdIWhZQ</td>\n",
       "      <td>[2010-09-13 21:43:09,  2011-05-04 23:08:15,  2...</td>\n",
       "      <td>10</td>\n",
       "    </tr>\n",
       "    <tr>\n",
       "      <th>2</th>\n",
       "      <td>--30_8IhuyMHbSOcNWd6DQ</td>\n",
       "      <td>[2013-06-14 23:29:17,  2014-08-13 23:20:22]</td>\n",
       "      <td>2</td>\n",
       "    </tr>\n",
       "    <tr>\n",
       "      <th>3</th>\n",
       "      <td>--7PUidqRWpRSpXebiyxTg</td>\n",
       "      <td>[2011-02-15 17:12:00,  2011-07-28 02:46:10,  2...</td>\n",
       "      <td>10</td>\n",
       "    </tr>\n",
       "    <tr>\n",
       "      <th>4</th>\n",
       "      <td>--7jw19RH9JKXgFohspgQw</td>\n",
       "      <td>[2014-04-21 20:42:11,  2014-04-28 21:04:46,  2...</td>\n",
       "      <td>26</td>\n",
       "    </tr>\n",
       "  </tbody>\n",
       "</table>\n",
       "</div>"
      ],
      "text/plain": [
       "              business_id                                               date  \\\n",
       "0  ---kPU91CF4Lq2-WlRu9Lw  [2020-03-13 21:10:56,  2020-06-02 22:18:06,  2...   \n",
       "1  --0iUa4sNDFiZFrAdIWhZQ  [2010-09-13 21:43:09,  2011-05-04 23:08:15,  2...   \n",
       "2  --30_8IhuyMHbSOcNWd6DQ        [2013-06-14 23:29:17,  2014-08-13 23:20:22]   \n",
       "3  --7PUidqRWpRSpXebiyxTg  [2011-02-15 17:12:00,  2011-07-28 02:46:10,  2...   \n",
       "4  --7jw19RH9JKXgFohspgQw  [2014-04-21 20:42:11,  2014-04-28 21:04:46,  2...   \n",
       "\n",
       "   date_counts  \n",
       "0           11  \n",
       "1           10  \n",
       "2            2  \n",
       "3           10  \n",
       "4           26  "
      ]
     },
     "execution_count": 11,
     "metadata": {},
     "output_type": "execute_result"
    }
   ],
   "source": [
    "df_checkin['date'] = [df_checkin.iloc[k]['date'].split(\",\") for k in range(len(df_checkin))]\n",
    "df_checkin['date_counts'] = [len(k) for k in df_checkin['date']]\n",
    "df_checkin.head()"
   ]
  },
  {
   "cell_type": "code",
   "execution_count": 12,
   "id": "9a7589a6",
   "metadata": {},
   "outputs": [
    {
     "data": {
      "text/html": [
       "<div>\n",
       "<style scoped>\n",
       "    .dataframe tbody tr th:only-of-type {\n",
       "        vertical-align: middle;\n",
       "    }\n",
       "\n",
       "    .dataframe tbody tr th {\n",
       "        vertical-align: top;\n",
       "    }\n",
       "\n",
       "    .dataframe thead th {\n",
       "        text-align: right;\n",
       "    }\n",
       "</style>\n",
       "<table border=\"1\" class=\"dataframe\">\n",
       "  <thead>\n",
       "    <tr style=\"text-align: right;\">\n",
       "      <th></th>\n",
       "      <th>business_id</th>\n",
       "      <th>date</th>\n",
       "      <th>date_counts</th>\n",
       "    </tr>\n",
       "  </thead>\n",
       "  <tbody>\n",
       "    <tr>\n",
       "      <th>878</th>\n",
       "      <td>-QI8Qi8XWH3D8y8ethnajA</td>\n",
       "      <td>[2010-01-17 16:30:46,  2010-01-18 20:17:55,  2...</td>\n",
       "      <td>52144</td>\n",
       "    </tr>\n",
       "    <tr>\n",
       "      <th>33681</th>\n",
       "      <td>FEXhWNCMkv22qG04E83Qjg</td>\n",
       "      <td>[2010-01-16 07:39:02,  2010-01-17 14:04:18,  2...</td>\n",
       "      <td>40109</td>\n",
       "    </tr>\n",
       "    <tr>\n",
       "      <th>32401</th>\n",
       "      <td>Eb1XmmLWyt_way5NNZ7-Pw</td>\n",
       "      <td>[2010-01-21 19:43:12,  2010-02-03 10:17:21,  2...</td>\n",
       "      <td>37562</td>\n",
       "    </tr>\n",
       "    <tr>\n",
       "      <th>83440</th>\n",
       "      <td>c_4c5rJECZSfNgFj7frwHQ</td>\n",
       "      <td>[2010-02-06 18:03:00,  2010-02-08 00:06:52,  2...</td>\n",
       "      <td>37518</td>\n",
       "    </tr>\n",
       "    <tr>\n",
       "      <th>11840</th>\n",
       "      <td>4i4kmYm9wgSNyF1b6gKphg</td>\n",
       "      <td>[2010-01-21 19:31:34,  2010-01-26 22:12:24,  2...</td>\n",
       "      <td>31168</td>\n",
       "    </tr>\n",
       "  </tbody>\n",
       "</table>\n",
       "</div>"
      ],
      "text/plain": [
       "                  business_id  \\\n",
       "878    -QI8Qi8XWH3D8y8ethnajA   \n",
       "33681  FEXhWNCMkv22qG04E83Qjg   \n",
       "32401  Eb1XmmLWyt_way5NNZ7-Pw   \n",
       "83440  c_4c5rJECZSfNgFj7frwHQ   \n",
       "11840  4i4kmYm9wgSNyF1b6gKphg   \n",
       "\n",
       "                                                    date  date_counts  \n",
       "878    [2010-01-17 16:30:46,  2010-01-18 20:17:55,  2...        52144  \n",
       "33681  [2010-01-16 07:39:02,  2010-01-17 14:04:18,  2...        40109  \n",
       "32401  [2010-01-21 19:43:12,  2010-02-03 10:17:21,  2...        37562  \n",
       "83440  [2010-02-06 18:03:00,  2010-02-08 00:06:52,  2...        37518  \n",
       "11840  [2010-01-21 19:31:34,  2010-01-26 22:12:24,  2...        31168  "
      ]
     },
     "execution_count": 12,
     "metadata": {},
     "output_type": "execute_result"
    }
   ],
   "source": [
    "df_checkin.sort_values('date_counts', ascending=False).head()"
   ]
  },
  {
   "cell_type": "code",
   "execution_count": null,
   "id": "80b8944b",
   "metadata": {},
   "outputs": [],
   "source": [
    "# What are recent check-ins'?\n",
    "# How long ago was the oldest?"
   ]
  },
  {
   "cell_type": "code",
   "execution_count": null,
   "id": "0a21c652",
   "metadata": {},
   "outputs": [],
   "source": []
  },
  {
   "cell_type": "markdown",
   "id": "3b8c98d7",
   "metadata": {},
   "source": [
    "# Biz info:"
   ]
  },
  {
   "cell_type": "code",
   "execution_count": 13,
   "id": "27814f16",
   "metadata": {
    "scrolled": true
   },
   "outputs": [
    {
     "name": "stdout",
     "output_type": "stream",
     "text": [
      "<class 'pandas.core.frame.DataFrame'>\n",
      "RangeIndex: 150346 entries, 0 to 150345\n",
      "Data columns (total 53 columns):\n",
      " #   Column                      Non-Null Count   Dtype  \n",
      "---  ------                      --------------   -----  \n",
      " 0   business_id                 150346 non-null  object \n",
      " 1   name                        150346 non-null  object \n",
      " 2   address                     150346 non-null  object \n",
      " 3   city                        150346 non-null  object \n",
      " 4   state                       150346 non-null  object \n",
      " 5   postal_code                 150346 non-null  object \n",
      " 6   latitude                    150346 non-null  float64\n",
      " 7   longitude                   150346 non-null  float64\n",
      " 8   stars                       150346 non-null  float64\n",
      " 9   review_count                150346 non-null  int64  \n",
      " 10  is_open                     150346 non-null  int64  \n",
      " 11  attributes                  136602 non-null  object \n",
      " 12  categories                  150346 non-null  object \n",
      " 13  hours                       127123 non-null  object \n",
      " 14  ByAppointmentOnly           42339 non-null   object \n",
      " 15  BusinessAcceptsCreditCards  119765 non-null  object \n",
      " 16  BikeParking                 72638 non-null   object \n",
      " 17  RestaurantsPriceRange2      85314 non-null   object \n",
      " 18  CoatCheck                   5584 non-null    object \n",
      " 19  RestaurantsTakeOut          59857 non-null   object \n",
      " 20  RestaurantsDelivery         56282 non-null   object \n",
      " 21  Caters                      40127 non-null   object \n",
      " 22  WiFi                        56914 non-null   object \n",
      " 23  BusinessParking             91085 non-null   object \n",
      " 24  WheelchairAccessible        28953 non-null   object \n",
      " 25  HappyHour                   15171 non-null   object \n",
      " 26  OutdoorSeating              48802 non-null   object \n",
      " 27  HasTV                       45084 non-null   object \n",
      " 28  RestaurantsReservations     45247 non-null   object \n",
      " 29  DogsAllowed                 18284 non-null   object \n",
      " 30  Alcohol                     43189 non-null   object \n",
      " 31  GoodForKids                 53375 non-null   object \n",
      " 32  RestaurantsAttire           39255 non-null   object \n",
      " 33  Ambience                    44279 non-null   object \n",
      " 34  RestaurantsTableService     19982 non-null   object \n",
      " 35  RestaurantsGoodForGroups    44170 non-null   object \n",
      " 36  DriveThru                   7760 non-null    object \n",
      " 37  NoiseLevel                  37993 non-null   object \n",
      " 38  GoodForMeal                 29087 non-null   object \n",
      " 39  BusinessAcceptsBitcoin      17430 non-null   object \n",
      " 40  Smoking                     4567 non-null    object \n",
      " 41  Music                       7521 non-null    object \n",
      " 42  GoodForDancing              4628 non-null    object \n",
      " 43  AcceptsInsurance            5713 non-null    object \n",
      " 44  BestNights                  5694 non-null    object \n",
      " 45  BYOB                        4451 non-null    object \n",
      " 46  Corkage                     3553 non-null    object \n",
      " 47  BYOBCorkage                 1444 non-null    object \n",
      " 48  HairSpecializesIn           1065 non-null    object \n",
      " 49  Open24Hours                 39 non-null      object \n",
      " 50  RestaurantsCounterService   19 non-null      object \n",
      " 51  AgesAllowed                 129 non-null     object \n",
      " 52  DietaryRestrictions         31 non-null      object \n",
      "dtypes: float64(3), int64(2), object(48)\n",
      "memory usage: 60.8+ MB\n"
     ]
    }
   ],
   "source": [
    "df_biz.info()"
   ]
  },
  {
   "cell_type": "code",
   "execution_count": 49,
   "id": "5e250747",
   "metadata": {},
   "outputs": [],
   "source": [
    "# print (\"{} company has the most check-in's\".format(df_biz[df_biz.business_id == '7sxYa0-TwWeWGFr5CvMMkw']['name'].values[0]))\n",
    "# df_biz[df_biz.business_id == '7sxYa0-TwWeWGFr5CvMMkw']"
   ]
  },
  {
   "cell_type": "code",
   "execution_count": 17,
   "id": "ec697aad",
   "metadata": {},
   "outputs": [
    {
     "data": {
      "text/plain": [
       "['Doctors',\n",
       " ' Traditional Chinese Medicine',\n",
       " ' Naturopathic/Holistic',\n",
       " ' Acupuncture',\n",
       " ' Health & Medical',\n",
       " ' Nutritionists']"
      ]
     },
     "execution_count": 17,
     "metadata": {},
     "output_type": "execute_result"
    }
   ],
   "source": [
    "df_biz.categories[0]"
   ]
  },
  {
   "cell_type": "code",
   "execution_count": 18,
   "id": "77031f23",
   "metadata": {},
   "outputs": [
    {
     "data": {
      "text/plain": [
       "Philadelphia     14569\n",
       "Tucson            9250\n",
       "Tampa             9050\n",
       "Indianapolis      7540\n",
       "Nashville         6971\n",
       "New Orleans       6209\n",
       "Reno              5935\n",
       "Edmonton          5054\n",
       "Saint Louis       4827\n",
       "Santa Barbara     3829\n",
       "Name: city, dtype: int64"
      ]
     },
     "execution_count": 18,
     "metadata": {},
     "output_type": "execute_result"
    }
   ],
   "source": [
    "df_biz.city.value_counts()[:10]"
   ]
  },
  {
   "cell_type": "code",
   "execution_count": 19,
   "id": "046c7fd0",
   "metadata": {
    "scrolled": true
   },
   "outputs": [
    {
     "data": {
      "text/html": [
       "<div>\n",
       "<style scoped>\n",
       "    .dataframe tbody tr th:only-of-type {\n",
       "        vertical-align: middle;\n",
       "    }\n",
       "\n",
       "    .dataframe tbody tr th {\n",
       "        vertical-align: top;\n",
       "    }\n",
       "\n",
       "    .dataframe thead th {\n",
       "        text-align: right;\n",
       "    }\n",
       "</style>\n",
       "<table border=\"1\" class=\"dataframe\">\n",
       "  <thead>\n",
       "    <tr style=\"text-align: right;\">\n",
       "      <th></th>\n",
       "      <th>business_id</th>\n",
       "      <th>name</th>\n",
       "      <th>address</th>\n",
       "      <th>city</th>\n",
       "      <th>state</th>\n",
       "      <th>postal_code</th>\n",
       "      <th>latitude</th>\n",
       "      <th>longitude</th>\n",
       "      <th>stars</th>\n",
       "      <th>review_count</th>\n",
       "      <th>...</th>\n",
       "      <th>AcceptsInsurance</th>\n",
       "      <th>BestNights</th>\n",
       "      <th>BYOB</th>\n",
       "      <th>Corkage</th>\n",
       "      <th>BYOBCorkage</th>\n",
       "      <th>HairSpecializesIn</th>\n",
       "      <th>Open24Hours</th>\n",
       "      <th>RestaurantsCounterService</th>\n",
       "      <th>AgesAllowed</th>\n",
       "      <th>DietaryRestrictions</th>\n",
       "    </tr>\n",
       "  </thead>\n",
       "  <tbody>\n",
       "    <tr>\n",
       "      <th>30915</th>\n",
       "      <td>LqRNm5Wvr2V35jDGqpRa3g</td>\n",
       "      <td>Dollar General</td>\n",
       "      <td>32581 Sr 52</td>\n",
       "      <td>San Antonio</td>\n",
       "      <td>FL</td>\n",
       "      <td>33576</td>\n",
       "      <td>28.332183</td>\n",
       "      <td>-82.277261</td>\n",
       "      <td>2.5</td>\n",
       "      <td>6</td>\n",
       "      <td>...</td>\n",
       "      <td>NaN</td>\n",
       "      <td>NaN</td>\n",
       "      <td>NaN</td>\n",
       "      <td>NaN</td>\n",
       "      <td>NaN</td>\n",
       "      <td>NaN</td>\n",
       "      <td>NaN</td>\n",
       "      <td>NaN</td>\n",
       "      <td>NaN</td>\n",
       "      <td>NaN</td>\n",
       "    </tr>\n",
       "    <tr>\n",
       "      <th>38460</th>\n",
       "      <td>v2Iei5nqxD14RDMWIFJfWQ</td>\n",
       "      <td>Eddie's Roller Rink</td>\n",
       "      <td>31345 State Rd 52</td>\n",
       "      <td>San Antonio</td>\n",
       "      <td>FL</td>\n",
       "      <td>33576</td>\n",
       "      <td>28.330902</td>\n",
       "      <td>-82.297235</td>\n",
       "      <td>3.5</td>\n",
       "      <td>6</td>\n",
       "      <td>...</td>\n",
       "      <td>NaN</td>\n",
       "      <td>NaN</td>\n",
       "      <td>NaN</td>\n",
       "      <td>NaN</td>\n",
       "      <td>NaN</td>\n",
       "      <td>NaN</td>\n",
       "      <td>NaN</td>\n",
       "      <td>NaN</td>\n",
       "      <td>NaN</td>\n",
       "      <td>NaN</td>\n",
       "    </tr>\n",
       "    <tr>\n",
       "      <th>43714</th>\n",
       "      <td>P7MDMJfklIL43bBpFKUTQQ</td>\n",
       "      <td>Burger King</td>\n",
       "      <td>30005 State Rd 52</td>\n",
       "      <td>San Antonio</td>\n",
       "      <td>FL</td>\n",
       "      <td>33576</td>\n",
       "      <td>28.326147</td>\n",
       "      <td>-82.319831</td>\n",
       "      <td>2.0</td>\n",
       "      <td>14</td>\n",
       "      <td>...</td>\n",
       "      <td>NaN</td>\n",
       "      <td>NaN</td>\n",
       "      <td>NaN</td>\n",
       "      <td>NaN</td>\n",
       "      <td>NaN</td>\n",
       "      <td>NaN</td>\n",
       "      <td>NaN</td>\n",
       "      <td>NaN</td>\n",
       "      <td>NaN</td>\n",
       "      <td>NaN</td>\n",
       "    </tr>\n",
       "    <tr>\n",
       "      <th>47132</th>\n",
       "      <td>0szGGP-oRoPxabgr9z938Q</td>\n",
       "      <td>Tampa Bay Golf &amp; Country Club</td>\n",
       "      <td>10641 Old Tampa Bay Dr</td>\n",
       "      <td>San Antonio</td>\n",
       "      <td>FL</td>\n",
       "      <td>33576</td>\n",
       "      <td>28.312360</td>\n",
       "      <td>-82.330338</td>\n",
       "      <td>3.5</td>\n",
       "      <td>6</td>\n",
       "      <td>...</td>\n",
       "      <td>NaN</td>\n",
       "      <td>NaN</td>\n",
       "      <td>NaN</td>\n",
       "      <td>NaN</td>\n",
       "      <td>NaN</td>\n",
       "      <td>NaN</td>\n",
       "      <td>NaN</td>\n",
       "      <td>NaN</td>\n",
       "      <td>NaN</td>\n",
       "      <td>NaN</td>\n",
       "    </tr>\n",
       "    <tr>\n",
       "      <th>56074</th>\n",
       "      <td>UqKBohYGd-6O56HnmI-hzA</td>\n",
       "      <td>Local Public House &amp; Provisions</td>\n",
       "      <td>32750 Pennsylvania Ave</td>\n",
       "      <td>San Antonio</td>\n",
       "      <td>FL</td>\n",
       "      <td>33576</td>\n",
       "      <td>28.336007</td>\n",
       "      <td>-82.273879</td>\n",
       "      <td>4.0</td>\n",
       "      <td>98</td>\n",
       "      <td>...</td>\n",
       "      <td>NaN</td>\n",
       "      <td>{'monday': False, 'tuesday': False, 'friday': ...</td>\n",
       "      <td>NaN</td>\n",
       "      <td>NaN</td>\n",
       "      <td>NaN</td>\n",
       "      <td>NaN</td>\n",
       "      <td>NaN</td>\n",
       "      <td>NaN</td>\n",
       "      <td>NaN</td>\n",
       "      <td>NaN</td>\n",
       "    </tr>\n",
       "    <tr>\n",
       "      <th>76654</th>\n",
       "      <td>oblCKrCres-ICRKpJNMpUQ</td>\n",
       "      <td>Yellowstone Landscape</td>\n",
       "      <td>30319 Commerce Dr</td>\n",
       "      <td>San Antonio</td>\n",
       "      <td>FL</td>\n",
       "      <td>33576</td>\n",
       "      <td>28.327365</td>\n",
       "      <td>-82.314962</td>\n",
       "      <td>1.0</td>\n",
       "      <td>8</td>\n",
       "      <td>...</td>\n",
       "      <td>NaN</td>\n",
       "      <td>NaN</td>\n",
       "      <td>NaN</td>\n",
       "      <td>NaN</td>\n",
       "      <td>NaN</td>\n",
       "      <td>NaN</td>\n",
       "      <td>NaN</td>\n",
       "      <td>NaN</td>\n",
       "      <td>NaN</td>\n",
       "      <td>NaN</td>\n",
       "    </tr>\n",
       "    <tr>\n",
       "      <th>87027</th>\n",
       "      <td>EOfKEb-FH_u5351TDMdR_Q</td>\n",
       "      <td>San Antonio Cyclery</td>\n",
       "      <td>32747 State Rd 52</td>\n",
       "      <td>San Antonio</td>\n",
       "      <td>FL</td>\n",
       "      <td>33576</td>\n",
       "      <td>28.331979</td>\n",
       "      <td>-82.274037</td>\n",
       "      <td>4.0</td>\n",
       "      <td>5</td>\n",
       "      <td>...</td>\n",
       "      <td>NaN</td>\n",
       "      <td>NaN</td>\n",
       "      <td>NaN</td>\n",
       "      <td>NaN</td>\n",
       "      <td>NaN</td>\n",
       "      <td>NaN</td>\n",
       "      <td>NaN</td>\n",
       "      <td>NaN</td>\n",
       "      <td>NaN</td>\n",
       "      <td>NaN</td>\n",
       "    </tr>\n",
       "    <tr>\n",
       "      <th>91174</th>\n",
       "      <td>MZhkFAC0yG-b6ZVYOncW6w</td>\n",
       "      <td>San Ann Liquor Store &amp; Lounge</td>\n",
       "      <td>32625 State Road 52</td>\n",
       "      <td>San Antonio</td>\n",
       "      <td>FL</td>\n",
       "      <td>33576</td>\n",
       "      <td>28.332542</td>\n",
       "      <td>-82.276182</td>\n",
       "      <td>3.0</td>\n",
       "      <td>5</td>\n",
       "      <td>...</td>\n",
       "      <td>NaN</td>\n",
       "      <td>NaN</td>\n",
       "      <td>NaN</td>\n",
       "      <td>NaN</td>\n",
       "      <td>NaN</td>\n",
       "      <td>NaN</td>\n",
       "      <td>NaN</td>\n",
       "      <td>NaN</td>\n",
       "      <td>NaN</td>\n",
       "      <td>NaN</td>\n",
       "    </tr>\n",
       "    <tr>\n",
       "      <th>122053</th>\n",
       "      <td>Y1cEGONSrHOx4dDKgY7woQ</td>\n",
       "      <td>San Antonio Restaurant</td>\n",
       "      <td>32625 State Rd 52</td>\n",
       "      <td>San Antonio</td>\n",
       "      <td>FL</td>\n",
       "      <td>33576</td>\n",
       "      <td>28.332129</td>\n",
       "      <td>-82.276130</td>\n",
       "      <td>4.0</td>\n",
       "      <td>6</td>\n",
       "      <td>...</td>\n",
       "      <td>NaN</td>\n",
       "      <td>NaN</td>\n",
       "      <td>NaN</td>\n",
       "      <td>NaN</td>\n",
       "      <td>NaN</td>\n",
       "      <td>NaN</td>\n",
       "      <td>NaN</td>\n",
       "      <td>NaN</td>\n",
       "      <td>NaN</td>\n",
       "      <td>NaN</td>\n",
       "    </tr>\n",
       "    <tr>\n",
       "      <th>128863</th>\n",
       "      <td>wNkfYzasTvhspDmiPNB4dg</td>\n",
       "      <td>A Cup Of Organic</td>\n",
       "      <td>33024 State Rd 52</td>\n",
       "      <td>San Antonio</td>\n",
       "      <td>FL</td>\n",
       "      <td>33576</td>\n",
       "      <td>28.335271</td>\n",
       "      <td>-82.269846</td>\n",
       "      <td>5.0</td>\n",
       "      <td>16</td>\n",
       "      <td>...</td>\n",
       "      <td>NaN</td>\n",
       "      <td>NaN</td>\n",
       "      <td>NaN</td>\n",
       "      <td>NaN</td>\n",
       "      <td>NaN</td>\n",
       "      <td>NaN</td>\n",
       "      <td>NaN</td>\n",
       "      <td>NaN</td>\n",
       "      <td>NaN</td>\n",
       "      <td>NaN</td>\n",
       "    </tr>\n",
       "    <tr>\n",
       "      <th>130593</th>\n",
       "      <td>3ApMOxGydPvzqjPbtOo4FA</td>\n",
       "      <td>Al's Famous Pizza</td>\n",
       "      <td>11931 Curley St</td>\n",
       "      <td>San Antonio</td>\n",
       "      <td>FL</td>\n",
       "      <td>33576</td>\n",
       "      <td>28.331468</td>\n",
       "      <td>-82.274517</td>\n",
       "      <td>4.0</td>\n",
       "      <td>65</td>\n",
       "      <td>...</td>\n",
       "      <td>NaN</td>\n",
       "      <td>NaN</td>\n",
       "      <td>NaN</td>\n",
       "      <td>NaN</td>\n",
       "      <td>NaN</td>\n",
       "      <td>NaN</td>\n",
       "      <td>NaN</td>\n",
       "      <td>NaN</td>\n",
       "      <td>NaN</td>\n",
       "      <td>NaN</td>\n",
       "    </tr>\n",
       "    <tr>\n",
       "      <th>133266</th>\n",
       "      <td>H9sugQg2PyDvtqW_vIVm8A</td>\n",
       "      <td>Denny's</td>\n",
       "      <td>29933 State Road 52</td>\n",
       "      <td>San Antonio</td>\n",
       "      <td>FL</td>\n",
       "      <td>33576</td>\n",
       "      <td>28.326376</td>\n",
       "      <td>-82.322604</td>\n",
       "      <td>3.5</td>\n",
       "      <td>33</td>\n",
       "      <td>...</td>\n",
       "      <td>NaN</td>\n",
       "      <td>NaN</td>\n",
       "      <td>NaN</td>\n",
       "      <td>NaN</td>\n",
       "      <td>NaN</td>\n",
       "      <td>NaN</td>\n",
       "      <td>NaN</td>\n",
       "      <td>NaN</td>\n",
       "      <td>NaN</td>\n",
       "      <td>NaN</td>\n",
       "    </tr>\n",
       "    <tr>\n",
       "      <th>133593</th>\n",
       "      <td>C8KFRgrMtc_naR6I7yWytg</td>\n",
       "      <td>Pancho's Restaurant of San Ann</td>\n",
       "      <td>32804 Pennsylvania Ave</td>\n",
       "      <td>San Antonio</td>\n",
       "      <td>FL</td>\n",
       "      <td>33576</td>\n",
       "      <td>28.336012</td>\n",
       "      <td>-82.273552</td>\n",
       "      <td>4.5</td>\n",
       "      <td>234</td>\n",
       "      <td>...</td>\n",
       "      <td>NaN</td>\n",
       "      <td>NaN</td>\n",
       "      <td>NaN</td>\n",
       "      <td>False</td>\n",
       "      <td>'yes_free'</td>\n",
       "      <td>NaN</td>\n",
       "      <td>NaN</td>\n",
       "      <td>NaN</td>\n",
       "      <td>NaN</td>\n",
       "      <td>NaN</td>\n",
       "    </tr>\n",
       "    <tr>\n",
       "      <th>143291</th>\n",
       "      <td>xV7rWdtEHTy3DySAAux0aQ</td>\n",
       "      <td>Jiffy Food Stores</td>\n",
       "      <td>32951 College Ave</td>\n",
       "      <td>San Antonio</td>\n",
       "      <td>FL</td>\n",
       "      <td>33576</td>\n",
       "      <td>28.335934</td>\n",
       "      <td>-82.270524</td>\n",
       "      <td>5.0</td>\n",
       "      <td>14</td>\n",
       "      <td>...</td>\n",
       "      <td>NaN</td>\n",
       "      <td>NaN</td>\n",
       "      <td>NaN</td>\n",
       "      <td>NaN</td>\n",
       "      <td>NaN</td>\n",
       "      <td>NaN</td>\n",
       "      <td>NaN</td>\n",
       "      <td>NaN</td>\n",
       "      <td>NaN</td>\n",
       "      <td>NaN</td>\n",
       "    </tr>\n",
       "  </tbody>\n",
       "</table>\n",
       "<p>14 rows × 53 columns</p>\n",
       "</div>"
      ],
      "text/plain": [
       "                   business_id                             name  \\\n",
       "30915   LqRNm5Wvr2V35jDGqpRa3g                   Dollar General   \n",
       "38460   v2Iei5nqxD14RDMWIFJfWQ              Eddie's Roller Rink   \n",
       "43714   P7MDMJfklIL43bBpFKUTQQ                      Burger King   \n",
       "47132   0szGGP-oRoPxabgr9z938Q    Tampa Bay Golf & Country Club   \n",
       "56074   UqKBohYGd-6O56HnmI-hzA  Local Public House & Provisions   \n",
       "76654   oblCKrCres-ICRKpJNMpUQ            Yellowstone Landscape   \n",
       "87027   EOfKEb-FH_u5351TDMdR_Q              San Antonio Cyclery   \n",
       "91174   MZhkFAC0yG-b6ZVYOncW6w    San Ann Liquor Store & Lounge   \n",
       "122053  Y1cEGONSrHOx4dDKgY7woQ           San Antonio Restaurant   \n",
       "128863  wNkfYzasTvhspDmiPNB4dg                 A Cup Of Organic   \n",
       "130593  3ApMOxGydPvzqjPbtOo4FA                Al's Famous Pizza   \n",
       "133266  H9sugQg2PyDvtqW_vIVm8A                          Denny's   \n",
       "133593  C8KFRgrMtc_naR6I7yWytg   Pancho's Restaurant of San Ann   \n",
       "143291  xV7rWdtEHTy3DySAAux0aQ                Jiffy Food Stores   \n",
       "\n",
       "                       address         city state postal_code   latitude  \\\n",
       "30915              32581 Sr 52  San Antonio    FL       33576  28.332183   \n",
       "38460        31345 State Rd 52  San Antonio    FL       33576  28.330902   \n",
       "43714        30005 State Rd 52  San Antonio    FL       33576  28.326147   \n",
       "47132   10641 Old Tampa Bay Dr  San Antonio    FL       33576  28.312360   \n",
       "56074   32750 Pennsylvania Ave  San Antonio    FL       33576  28.336007   \n",
       "76654        30319 Commerce Dr  San Antonio    FL       33576  28.327365   \n",
       "87027        32747 State Rd 52  San Antonio    FL       33576  28.331979   \n",
       "91174      32625 State Road 52  San Antonio    FL       33576  28.332542   \n",
       "122053       32625 State Rd 52  San Antonio    FL       33576  28.332129   \n",
       "128863       33024 State Rd 52  San Antonio    FL       33576  28.335271   \n",
       "130593         11931 Curley St  San Antonio    FL       33576  28.331468   \n",
       "133266     29933 State Road 52  San Antonio    FL       33576  28.326376   \n",
       "133593  32804 Pennsylvania Ave  San Antonio    FL       33576  28.336012   \n",
       "143291       32951 College Ave  San Antonio    FL       33576  28.335934   \n",
       "\n",
       "        longitude  stars  review_count  ...  AcceptsInsurance  \\\n",
       "30915  -82.277261    2.5             6  ...               NaN   \n",
       "38460  -82.297235    3.5             6  ...               NaN   \n",
       "43714  -82.319831    2.0            14  ...               NaN   \n",
       "47132  -82.330338    3.5             6  ...               NaN   \n",
       "56074  -82.273879    4.0            98  ...               NaN   \n",
       "76654  -82.314962    1.0             8  ...               NaN   \n",
       "87027  -82.274037    4.0             5  ...               NaN   \n",
       "91174  -82.276182    3.0             5  ...               NaN   \n",
       "122053 -82.276130    4.0             6  ...               NaN   \n",
       "128863 -82.269846    5.0            16  ...               NaN   \n",
       "130593 -82.274517    4.0            65  ...               NaN   \n",
       "133266 -82.322604    3.5            33  ...               NaN   \n",
       "133593 -82.273552    4.5           234  ...               NaN   \n",
       "143291 -82.270524    5.0            14  ...               NaN   \n",
       "\n",
       "                                               BestNights BYOB Corkage  \\\n",
       "30915                                                 NaN  NaN     NaN   \n",
       "38460                                                 NaN  NaN     NaN   \n",
       "43714                                                 NaN  NaN     NaN   \n",
       "47132                                                 NaN  NaN     NaN   \n",
       "56074   {'monday': False, 'tuesday': False, 'friday': ...  NaN     NaN   \n",
       "76654                                                 NaN  NaN     NaN   \n",
       "87027                                                 NaN  NaN     NaN   \n",
       "91174                                                 NaN  NaN     NaN   \n",
       "122053                                                NaN  NaN     NaN   \n",
       "128863                                                NaN  NaN     NaN   \n",
       "130593                                                NaN  NaN     NaN   \n",
       "133266                                                NaN  NaN     NaN   \n",
       "133593                                                NaN  NaN   False   \n",
       "143291                                                NaN  NaN     NaN   \n",
       "\n",
       "       BYOBCorkage HairSpecializesIn Open24Hours RestaurantsCounterService  \\\n",
       "30915          NaN               NaN         NaN                       NaN   \n",
       "38460          NaN               NaN         NaN                       NaN   \n",
       "43714          NaN               NaN         NaN                       NaN   \n",
       "47132          NaN               NaN         NaN                       NaN   \n",
       "56074          NaN               NaN         NaN                       NaN   \n",
       "76654          NaN               NaN         NaN                       NaN   \n",
       "87027          NaN               NaN         NaN                       NaN   \n",
       "91174          NaN               NaN         NaN                       NaN   \n",
       "122053         NaN               NaN         NaN                       NaN   \n",
       "128863         NaN               NaN         NaN                       NaN   \n",
       "130593         NaN               NaN         NaN                       NaN   \n",
       "133266         NaN               NaN         NaN                       NaN   \n",
       "133593  'yes_free'               NaN         NaN                       NaN   \n",
       "143291         NaN               NaN         NaN                       NaN   \n",
       "\n",
       "       AgesAllowed DietaryRestrictions  \n",
       "30915          NaN                 NaN  \n",
       "38460          NaN                 NaN  \n",
       "43714          NaN                 NaN  \n",
       "47132          NaN                 NaN  \n",
       "56074          NaN                 NaN  \n",
       "76654          NaN                 NaN  \n",
       "87027          NaN                 NaN  \n",
       "91174          NaN                 NaN  \n",
       "122053         NaN                 NaN  \n",
       "128863         NaN                 NaN  \n",
       "130593         NaN                 NaN  \n",
       "133266         NaN                 NaN  \n",
       "133593         NaN                 NaN  \n",
       "143291         NaN                 NaN  \n",
       "\n",
       "[14 rows x 53 columns]"
      ]
     },
     "execution_count": 19,
     "metadata": {},
     "output_type": "execute_result"
    }
   ],
   "source": [
    "df_biz[df_biz['city'].str.contains(\"San Antonio\")]"
   ]
  },
  {
   "cell_type": "code",
   "execution_count": 94,
   "id": "16d54fc0",
   "metadata": {},
   "outputs": [
    {
     "data": {
      "text/html": [
       "<div>\n",
       "<style scoped>\n",
       "    .dataframe tbody tr th:only-of-type {\n",
       "        vertical-align: middle;\n",
       "    }\n",
       "\n",
       "    .dataframe tbody tr th {\n",
       "        vertical-align: top;\n",
       "    }\n",
       "\n",
       "    .dataframe thead th {\n",
       "        text-align: right;\n",
       "    }\n",
       "</style>\n",
       "<table border=\"1\" class=\"dataframe\">\n",
       "  <thead>\n",
       "    <tr style=\"text-align: right;\">\n",
       "      <th></th>\n",
       "      <th>business_id</th>\n",
       "      <th>name</th>\n",
       "      <th>address</th>\n",
       "      <th>city</th>\n",
       "      <th>state</th>\n",
       "      <th>postal_code</th>\n",
       "      <th>latitude</th>\n",
       "      <th>longitude</th>\n",
       "      <th>stars</th>\n",
       "      <th>review_count</th>\n",
       "      <th>...</th>\n",
       "      <th>BYOB</th>\n",
       "      <th>CoatCheck</th>\n",
       "      <th>Smoking</th>\n",
       "      <th>DriveThru</th>\n",
       "      <th>BYOBCorkage</th>\n",
       "      <th>Corkage</th>\n",
       "      <th>RestaurantsCounterService</th>\n",
       "      <th>AgesAllowed</th>\n",
       "      <th>DietaryRestrictions</th>\n",
       "      <th>Open24Hours</th>\n",
       "    </tr>\n",
       "  </thead>\n",
       "  <tbody>\n",
       "    <tr>\n",
       "      <th>0</th>\n",
       "      <td>6iYb2HFDywm3zjuRg0shjw</td>\n",
       "      <td>Oskar Blues Taproom</td>\n",
       "      <td>921 Pearl St</td>\n",
       "      <td>Boulder</td>\n",
       "      <td>CO</td>\n",
       "      <td>80302</td>\n",
       "      <td>40.017544</td>\n",
       "      <td>-105.283348</td>\n",
       "      <td>4.0</td>\n",
       "      <td>86</td>\n",
       "      <td>...</td>\n",
       "      <td>NaN</td>\n",
       "      <td>NaN</td>\n",
       "      <td>NaN</td>\n",
       "      <td>NaN</td>\n",
       "      <td>NaN</td>\n",
       "      <td>NaN</td>\n",
       "      <td>NaN</td>\n",
       "      <td>NaN</td>\n",
       "      <td>NaN</td>\n",
       "      <td>NaN</td>\n",
       "    </tr>\n",
       "    <tr>\n",
       "      <th>1</th>\n",
       "      <td>tCbdrRPZA0oiIYSmHG3J0w</td>\n",
       "      <td>Flying Elephants at PDX</td>\n",
       "      <td>7000 NE Airport Way</td>\n",
       "      <td>Portland</td>\n",
       "      <td>OR</td>\n",
       "      <td>97218</td>\n",
       "      <td>45.588906</td>\n",
       "      <td>-122.593331</td>\n",
       "      <td>4.0</td>\n",
       "      <td>126</td>\n",
       "      <td>...</td>\n",
       "      <td>NaN</td>\n",
       "      <td>NaN</td>\n",
       "      <td>NaN</td>\n",
       "      <td>NaN</td>\n",
       "      <td>NaN</td>\n",
       "      <td>NaN</td>\n",
       "      <td>NaN</td>\n",
       "      <td>NaN</td>\n",
       "      <td>NaN</td>\n",
       "      <td>NaN</td>\n",
       "    </tr>\n",
       "    <tr>\n",
       "      <th>2</th>\n",
       "      <td>bvN78flM8NLprQ1a1y5dRg</td>\n",
       "      <td>The Reclaimory</td>\n",
       "      <td>4720 Hawthorne Ave</td>\n",
       "      <td>Portland</td>\n",
       "      <td>OR</td>\n",
       "      <td>97214</td>\n",
       "      <td>45.511907</td>\n",
       "      <td>-122.613693</td>\n",
       "      <td>4.5</td>\n",
       "      <td>13</td>\n",
       "      <td>...</td>\n",
       "      <td>NaN</td>\n",
       "      <td>NaN</td>\n",
       "      <td>NaN</td>\n",
       "      <td>NaN</td>\n",
       "      <td>NaN</td>\n",
       "      <td>NaN</td>\n",
       "      <td>NaN</td>\n",
       "      <td>NaN</td>\n",
       "      <td>NaN</td>\n",
       "      <td>NaN</td>\n",
       "    </tr>\n",
       "    <tr>\n",
       "      <th>3</th>\n",
       "      <td>oaepsyvc0J17qwi8cfrOWg</td>\n",
       "      <td>Great Clips</td>\n",
       "      <td>2566 Enterprise Rd</td>\n",
       "      <td>Orange City</td>\n",
       "      <td>FL</td>\n",
       "      <td>32763</td>\n",
       "      <td>28.914482</td>\n",
       "      <td>-81.295979</td>\n",
       "      <td>3.0</td>\n",
       "      <td>8</td>\n",
       "      <td>...</td>\n",
       "      <td>NaN</td>\n",
       "      <td>NaN</td>\n",
       "      <td>NaN</td>\n",
       "      <td>NaN</td>\n",
       "      <td>NaN</td>\n",
       "      <td>NaN</td>\n",
       "      <td>NaN</td>\n",
       "      <td>NaN</td>\n",
       "      <td>NaN</td>\n",
       "      <td>NaN</td>\n",
       "    </tr>\n",
       "    <tr>\n",
       "      <th>4</th>\n",
       "      <td>PE9uqAjdw0E4-8mjGl3wVA</td>\n",
       "      <td>Crossfit Terminus</td>\n",
       "      <td>1046 Memorial Dr SE</td>\n",
       "      <td>Atlanta</td>\n",
       "      <td>GA</td>\n",
       "      <td>30316</td>\n",
       "      <td>33.747027</td>\n",
       "      <td>-84.353424</td>\n",
       "      <td>4.0</td>\n",
       "      <td>14</td>\n",
       "      <td>...</td>\n",
       "      <td>NaN</td>\n",
       "      <td>NaN</td>\n",
       "      <td>NaN</td>\n",
       "      <td>NaN</td>\n",
       "      <td>NaN</td>\n",
       "      <td>NaN</td>\n",
       "      <td>NaN</td>\n",
       "      <td>NaN</td>\n",
       "      <td>NaN</td>\n",
       "      <td>NaN</td>\n",
       "    </tr>\n",
       "  </tbody>\n",
       "</table>\n",
       "<p>5 rows × 53 columns</p>\n",
       "</div>"
      ],
      "text/plain": [
       "              business_id                     name              address  \\\n",
       "0  6iYb2HFDywm3zjuRg0shjw      Oskar Blues Taproom         921 Pearl St   \n",
       "1  tCbdrRPZA0oiIYSmHG3J0w  Flying Elephants at PDX  7000 NE Airport Way   \n",
       "2  bvN78flM8NLprQ1a1y5dRg           The Reclaimory   4720 Hawthorne Ave   \n",
       "3  oaepsyvc0J17qwi8cfrOWg              Great Clips   2566 Enterprise Rd   \n",
       "4  PE9uqAjdw0E4-8mjGl3wVA        Crossfit Terminus  1046 Memorial Dr SE   \n",
       "\n",
       "          city state postal_code   latitude   longitude  stars  review_count  \\\n",
       "0      Boulder    CO       80302  40.017544 -105.283348    4.0            86   \n",
       "1     Portland    OR       97218  45.588906 -122.593331    4.0           126   \n",
       "2     Portland    OR       97214  45.511907 -122.613693    4.5            13   \n",
       "3  Orange City    FL       32763  28.914482  -81.295979    3.0             8   \n",
       "4      Atlanta    GA       30316  33.747027  -84.353424    4.0            14   \n",
       "\n",
       "   ...  BYOB CoatCheck Smoking DriveThru BYOBCorkage Corkage  \\\n",
       "0  ...   NaN       NaN     NaN       NaN         NaN     NaN   \n",
       "1  ...   NaN       NaN     NaN       NaN         NaN     NaN   \n",
       "2  ...   NaN       NaN     NaN       NaN         NaN     NaN   \n",
       "3  ...   NaN       NaN     NaN       NaN         NaN     NaN   \n",
       "4  ...   NaN       NaN     NaN       NaN         NaN     NaN   \n",
       "\n",
       "  RestaurantsCounterService AgesAllowed DietaryRestrictions Open24Hours  \n",
       "0                       NaN         NaN                 NaN         NaN  \n",
       "1                       NaN         NaN                 NaN         NaN  \n",
       "2                       NaN         NaN                 NaN         NaN  \n",
       "3                       NaN         NaN                 NaN         NaN  \n",
       "4                       NaN         NaN                 NaN         NaN  \n",
       "\n",
       "[5 rows x 53 columns]"
      ]
     },
     "execution_count": 94,
     "metadata": {},
     "output_type": "execute_result"
    }
   ],
   "source": [
    "df_biz.groupby('business_id')['']"
   ]
  },
  {
   "cell_type": "code",
   "execution_count": 20,
   "id": "405907a7",
   "metadata": {},
   "outputs": [
    {
     "data": {
      "text/plain": [
       "dict_keys(['BusinessAcceptsCreditCards', 'WheelchairAccessible', 'RestaurantsTakeOut', 'BusinessParking', 'BikeParking', 'GoodForKids', 'Caters'])"
      ]
     },
     "execution_count": 20,
     "metadata": {},
     "output_type": "execute_result"
    }
   ],
   "source": [
    "df_biz.iloc[4]['attributes'].keys()"
   ]
  },
  {
   "cell_type": "code",
   "execution_count": 21,
   "id": "bf4d0bc2",
   "metadata": {},
   "outputs": [
    {
     "data": {
      "text/plain": [
       "Index(['business_id', 'name', 'address', 'city', 'state', 'postal_code',\n",
       "       'latitude', 'longitude', 'stars', 'review_count', 'is_open',\n",
       "       'attributes', 'categories', 'hours', 'ByAppointmentOnly',\n",
       "       'BusinessAcceptsCreditCards', 'BikeParking', 'RestaurantsPriceRange2',\n",
       "       'CoatCheck', 'RestaurantsTakeOut', 'RestaurantsDelivery', 'Caters',\n",
       "       'WiFi', 'BusinessParking', 'WheelchairAccessible', 'HappyHour',\n",
       "       'OutdoorSeating', 'HasTV', 'RestaurantsReservations', 'DogsAllowed',\n",
       "       'Alcohol', 'GoodForKids', 'RestaurantsAttire', 'Ambience',\n",
       "       'RestaurantsTableService', 'RestaurantsGoodForGroups', 'DriveThru',\n",
       "       'NoiseLevel', 'GoodForMeal', 'BusinessAcceptsBitcoin', 'Smoking',\n",
       "       'Music', 'GoodForDancing', 'AcceptsInsurance', 'BestNights', 'BYOB',\n",
       "       'Corkage', 'BYOBCorkage', 'HairSpecializesIn', 'Open24Hours',\n",
       "       'RestaurantsCounterService', 'AgesAllowed', 'DietaryRestrictions'],\n",
       "      dtype='object')"
      ]
     },
     "execution_count": 21,
     "metadata": {},
     "output_type": "execute_result"
    }
   ],
   "source": [
    "df_biz.columns"
   ]
  },
  {
   "cell_type": "code",
   "execution_count": 27,
   "id": "220a3039",
   "metadata": {},
   "outputs": [
    {
     "data": {
      "text/plain": [
       "None     0.878560\n",
       "False    0.081592\n",
       "True     0.039848\n",
       "Name: DogsAllowed, dtype: float64"
      ]
     },
     "execution_count": 27,
     "metadata": {},
     "output_type": "execute_result"
    }
   ],
   "source": [
    "df_biz.DogsAllowed.value_counts(normalize=True, dropna=False)"
   ]
  },
  {
   "cell_type": "code",
   "execution_count": 28,
   "id": "be552cd6",
   "metadata": {},
   "outputs": [
    {
     "data": {
      "text/plain": [
       "{'RestaurantsDelivery': 'False',\n",
       " 'BusinessAcceptsCreditCards': 'True',\n",
       " 'RestaurantsPriceRange2': '1',\n",
       " 'BikeParking': 'True',\n",
       " 'BusinessParking': \"{'garage': False, 'street': False, 'validated': False, 'lot': True, 'valet': False}\",\n",
       " 'RestaurantsTakeOut': 'True',\n",
       " 'DogsAllowed': 'True'}"
      ]
     },
     "execution_count": 28,
     "metadata": {},
     "output_type": "execute_result"
    }
   ],
   "source": [
    "df_biz[df_biz.DogsAllowed == 'True'].iloc[8]['attributes']"
   ]
  },
  {
   "cell_type": "code",
   "execution_count": 26,
   "id": "5d3332bc",
   "metadata": {},
   "outputs": [
    {
     "data": {
      "text/plain": [
       "None     0.899106\n",
       "True     0.064658\n",
       "False    0.036236\n",
       "Name: HappyHour, dtype: float64"
      ]
     },
     "execution_count": 26,
     "metadata": {},
     "output_type": "execute_result"
    }
   ],
   "source": [
    "df_biz.HappyHour.value_counts(normalize=True, dropna=False)"
   ]
  },
  {
   "cell_type": "code",
   "execution_count": 29,
   "id": "2fc5fac5",
   "metadata": {},
   "outputs": [
    {
     "data": {
      "text/plain": [
       "0                                                 None\n",
       "1                                                 None\n",
       "2    {'garage': False, 'street': False, 'validated'...\n",
       "3    {'garage': False, 'street': True, 'validated':...\n",
       "4    {'garage': None, 'street': None, 'validated': ...\n",
       "Name: BusinessParking, dtype: object"
      ]
     },
     "execution_count": 29,
     "metadata": {},
     "output_type": "execute_result"
    }
   ],
   "source": [
    "df_biz.BusinessParking"
   ]
  },
  {
   "cell_type": "code",
   "execution_count": 39,
   "id": "086079cd",
   "metadata": {},
   "outputs": [
    {
     "data": {
      "text/plain": [
       "(150346, 53)"
      ]
     },
     "execution_count": 39,
     "metadata": {},
     "output_type": "execute_result"
    }
   ],
   "source": [
    "df_biz.shape"
   ]
  },
  {
   "cell_type": "code",
   "execution_count": 58,
   "id": "e590ca7c",
   "metadata": {},
   "outputs": [
    {
     "data": {
      "text/plain": [
       "None     77788\n",
       "True     55040\n",
       "False    17518\n",
       "Name: BikeParking, dtype: int64"
      ]
     },
     "execution_count": 58,
     "metadata": {},
     "output_type": "execute_result"
    }
   ],
   "source": [
    "df_biz.BikeParking.value_counts()"
   ]
  },
  {
   "cell_type": "code",
   "execution_count": 53,
   "id": "197a369f",
   "metadata": {},
   "outputs": [
    {
     "data": {
      "text/plain": [
       "Index(['business_id', 'name', 'address', 'city', 'state', 'postal_code',\n",
       "       'latitude', 'longitude', 'stars', 'review_count', 'is_open',\n",
       "       'attributes', 'categories', 'hours', 'ByAppointmentOnly',\n",
       "       'BusinessAcceptsCreditCards', 'BikeParking', 'RestaurantsPriceRange2',\n",
       "       'CoatCheck', 'RestaurantsTakeOut', 'RestaurantsDelivery', 'Caters',\n",
       "       'WiFi', 'BusinessParking', 'WheelchairAccessible', 'HappyHour',\n",
       "       'OutdoorSeating', 'HasTV', 'RestaurantsReservations', 'DogsAllowed',\n",
       "       'Alcohol', 'GoodForKids', 'RestaurantsAttire', 'Ambience',\n",
       "       'RestaurantsTableService', 'RestaurantsGoodForGroups', 'DriveThru',\n",
       "       'NoiseLevel', 'GoodForMeal', 'BusinessAcceptsBitcoin', 'Smoking',\n",
       "       'Music', 'GoodForDancing', 'AcceptsInsurance', 'BestNights', 'BYOB',\n",
       "       'Corkage', 'BYOBCorkage', 'HairSpecializesIn', 'Open24Hours',\n",
       "       'RestaurantsCounterService', 'AgesAllowed', 'DietaryRestrictions'],\n",
       "      dtype='object')"
      ]
     },
     "execution_count": 53,
     "metadata": {},
     "output_type": "execute_result"
    }
   ],
   "source": [
    "df_biz.columns"
   ]
  },
  {
   "cell_type": "code",
   "execution_count": 35,
   "id": "d7624df7",
   "metadata": {},
   "outputs": [
    {
     "data": {
      "text/plain": [
       "['ByAppointmentOnly',\n",
       " 'BusinessAcceptsCreditCards',\n",
       " 'BikeParking',\n",
       " 'CoatCheck',\n",
       " 'RestaurantsTakeOut',\n",
       " 'RestaurantsDelivery',\n",
       " 'Caters',\n",
       " 'WheelchairAccessible',\n",
       " 'HappyHour',\n",
       " 'OutdoorSeating',\n",
       " 'HasTV',\n",
       " 'RestaurantsReservations',\n",
       " 'DogsAllowed',\n",
       " 'GoodForKids',\n",
       " 'RestaurantsTableService',\n",
       " 'RestaurantsGoodForGroups',\n",
       " 'DriveThru',\n",
       " 'BusinessAcceptsBitcoin',\n",
       " 'GoodForDancing',\n",
       " 'AcceptsInsurance',\n",
       " 'BYOB',\n",
       " 'Corkage',\n",
       " 'Open24Hours',\n",
       " 'RestaurantsCounterService',\n",
       " 'business_id',\n",
       " 'stars']"
      ]
     },
     "execution_count": 35,
     "metadata": {},
     "output_type": "execute_result"
    }
   ],
   "source": [
    "subset"
   ]
  },
  {
   "cell_type": "markdown",
   "id": "09138d49",
   "metadata": {},
   "source": [
    "## Build Recommender System based on Attributes:\n",
    "Matrix Factorization"
   ]
  },
  {
   "cell_type": "code",
   "execution_count": 6,
   "id": "017488c1",
   "metadata": {},
   "outputs": [],
   "source": [
    "import pandas as pd\n",
    "import json"
   ]
  },
  {
   "cell_type": "code",
   "execution_count": 4,
   "id": "711039e4",
   "metadata": {},
   "outputs": [
    {
     "data": {
      "text/plain": [
       "(150346, 53)"
      ]
     },
     "execution_count": 4,
     "metadata": {},
     "output_type": "execute_result"
    }
   ],
   "source": [
    "df_biz = load_data(\"yelp_academic_dataset_business.json\")\n",
    "df = pd.concat([df_biz, pd.json_normalize(df_biz['attributes']).fillna('None')], axis=1)\n",
    "df['categories'] = [str(k).split(',') for k in df_biz['categories']]\n",
    "df.shape"
   ]
  },
  {
   "cell_type": "code",
   "execution_count": 5,
   "id": "e3c97706",
   "metadata": {},
   "outputs": [
    {
     "data": {
      "text/plain": [
       "['ByAppointmentOnly',\n",
       " 'BusinessAcceptsCreditCards',\n",
       " 'BikeParking',\n",
       " 'RestaurantsPriceRange2',\n",
       " 'CoatCheck']"
      ]
     },
     "execution_count": 5,
     "metadata": {},
     "output_type": "execute_result"
    }
   ],
   "source": [
    "attribute_list = list(pd.json_normalize(df_biz['attributes']).columns)\n",
    "attribute_list[:5]"
   ]
  },
  {
   "cell_type": "code",
   "execution_count": 9,
   "id": "731d914b",
   "metadata": {},
   "outputs": [
    {
     "data": {
      "text/plain": [
       "39"
      ]
     },
     "execution_count": 9,
     "metadata": {},
     "output_type": "execute_result"
    }
   ],
   "source": [
    "len(attribute_list)"
   ]
  },
  {
   "cell_type": "code",
   "execution_count": 10,
   "id": "7fba1c93",
   "metadata": {},
   "outputs": [
    {
     "data": {
      "text/html": [
       "<div>\n",
       "<style scoped>\n",
       "    .dataframe tbody tr th:only-of-type {\n",
       "        vertical-align: middle;\n",
       "    }\n",
       "\n",
       "    .dataframe tbody tr th {\n",
       "        vertical-align: top;\n",
       "    }\n",
       "\n",
       "    .dataframe thead th {\n",
       "        text-align: right;\n",
       "    }\n",
       "</style>\n",
       "<table border=\"1\" class=\"dataframe\">\n",
       "  <thead>\n",
       "    <tr style=\"text-align: right;\">\n",
       "      <th></th>\n",
       "      <th>business_id</th>\n",
       "      <th>name</th>\n",
       "      <th>address</th>\n",
       "      <th>city</th>\n",
       "      <th>state</th>\n",
       "      <th>postal_code</th>\n",
       "      <th>latitude</th>\n",
       "      <th>longitude</th>\n",
       "      <th>stars</th>\n",
       "      <th>review_count</th>\n",
       "      <th>...</th>\n",
       "      <th>AcceptsInsurance</th>\n",
       "      <th>BestNights</th>\n",
       "      <th>BYOB</th>\n",
       "      <th>Corkage</th>\n",
       "      <th>BYOBCorkage</th>\n",
       "      <th>HairSpecializesIn</th>\n",
       "      <th>Open24Hours</th>\n",
       "      <th>RestaurantsCounterService</th>\n",
       "      <th>AgesAllowed</th>\n",
       "      <th>DietaryRestrictions</th>\n",
       "    </tr>\n",
       "  </thead>\n",
       "  <tbody>\n",
       "    <tr>\n",
       "      <th>0</th>\n",
       "      <td>Pns2l4eNsfO8kk83dixA6A</td>\n",
       "      <td>Abby Rappoport, LAC, CMQ</td>\n",
       "      <td>1616 Chapala St, Ste 2</td>\n",
       "      <td>Santa Barbara</td>\n",
       "      <td>CA</td>\n",
       "      <td>93101</td>\n",
       "      <td>34.426679</td>\n",
       "      <td>-119.711197</td>\n",
       "      <td>5.0</td>\n",
       "      <td>7</td>\n",
       "      <td>...</td>\n",
       "      <td>None</td>\n",
       "      <td>None</td>\n",
       "      <td>None</td>\n",
       "      <td>None</td>\n",
       "      <td>None</td>\n",
       "      <td>None</td>\n",
       "      <td>None</td>\n",
       "      <td>None</td>\n",
       "      <td>None</td>\n",
       "      <td>None</td>\n",
       "    </tr>\n",
       "    <tr>\n",
       "      <th>1</th>\n",
       "      <td>mpf3x-BjTdTEA3yCZrAYPw</td>\n",
       "      <td>The UPS Store</td>\n",
       "      <td>87 Grasso Plaza Shopping Center</td>\n",
       "      <td>Affton</td>\n",
       "      <td>MO</td>\n",
       "      <td>63123</td>\n",
       "      <td>38.551126</td>\n",
       "      <td>-90.335695</td>\n",
       "      <td>3.0</td>\n",
       "      <td>15</td>\n",
       "      <td>...</td>\n",
       "      <td>None</td>\n",
       "      <td>None</td>\n",
       "      <td>None</td>\n",
       "      <td>None</td>\n",
       "      <td>None</td>\n",
       "      <td>None</td>\n",
       "      <td>None</td>\n",
       "      <td>None</td>\n",
       "      <td>None</td>\n",
       "      <td>None</td>\n",
       "    </tr>\n",
       "    <tr>\n",
       "      <th>2</th>\n",
       "      <td>tUFrWirKiKi_TAnsVWINQQ</td>\n",
       "      <td>Target</td>\n",
       "      <td>5255 E Broadway Blvd</td>\n",
       "      <td>Tucson</td>\n",
       "      <td>AZ</td>\n",
       "      <td>85711</td>\n",
       "      <td>32.223236</td>\n",
       "      <td>-110.880452</td>\n",
       "      <td>3.5</td>\n",
       "      <td>22</td>\n",
       "      <td>...</td>\n",
       "      <td>None</td>\n",
       "      <td>None</td>\n",
       "      <td>None</td>\n",
       "      <td>None</td>\n",
       "      <td>None</td>\n",
       "      <td>None</td>\n",
       "      <td>None</td>\n",
       "      <td>None</td>\n",
       "      <td>None</td>\n",
       "      <td>None</td>\n",
       "    </tr>\n",
       "    <tr>\n",
       "      <th>3</th>\n",
       "      <td>MTSW4McQd7CbVtyjqoe9mw</td>\n",
       "      <td>St Honore Pastries</td>\n",
       "      <td>935 Race St</td>\n",
       "      <td>Philadelphia</td>\n",
       "      <td>PA</td>\n",
       "      <td>19107</td>\n",
       "      <td>39.955505</td>\n",
       "      <td>-75.155564</td>\n",
       "      <td>4.0</td>\n",
       "      <td>80</td>\n",
       "      <td>...</td>\n",
       "      <td>None</td>\n",
       "      <td>None</td>\n",
       "      <td>None</td>\n",
       "      <td>None</td>\n",
       "      <td>None</td>\n",
       "      <td>None</td>\n",
       "      <td>None</td>\n",
       "      <td>None</td>\n",
       "      <td>None</td>\n",
       "      <td>None</td>\n",
       "    </tr>\n",
       "    <tr>\n",
       "      <th>4</th>\n",
       "      <td>mWMc6_wTdE0EUBKIGXDVfA</td>\n",
       "      <td>Perkiomen Valley Brewery</td>\n",
       "      <td>101 Walnut St</td>\n",
       "      <td>Green Lane</td>\n",
       "      <td>PA</td>\n",
       "      <td>18054</td>\n",
       "      <td>40.338183</td>\n",
       "      <td>-75.471659</td>\n",
       "      <td>4.5</td>\n",
       "      <td>13</td>\n",
       "      <td>...</td>\n",
       "      <td>None</td>\n",
       "      <td>None</td>\n",
       "      <td>None</td>\n",
       "      <td>None</td>\n",
       "      <td>None</td>\n",
       "      <td>None</td>\n",
       "      <td>None</td>\n",
       "      <td>None</td>\n",
       "      <td>None</td>\n",
       "      <td>None</td>\n",
       "    </tr>\n",
       "  </tbody>\n",
       "</table>\n",
       "<p>5 rows × 53 columns</p>\n",
       "</div>"
      ],
      "text/plain": [
       "              business_id                      name  \\\n",
       "0  Pns2l4eNsfO8kk83dixA6A  Abby Rappoport, LAC, CMQ   \n",
       "1  mpf3x-BjTdTEA3yCZrAYPw             The UPS Store   \n",
       "2  tUFrWirKiKi_TAnsVWINQQ                    Target   \n",
       "3  MTSW4McQd7CbVtyjqoe9mw        St Honore Pastries   \n",
       "4  mWMc6_wTdE0EUBKIGXDVfA  Perkiomen Valley Brewery   \n",
       "\n",
       "                           address           city state postal_code  \\\n",
       "0           1616 Chapala St, Ste 2  Santa Barbara    CA       93101   \n",
       "1  87 Grasso Plaza Shopping Center         Affton    MO       63123   \n",
       "2             5255 E Broadway Blvd         Tucson    AZ       85711   \n",
       "3                      935 Race St   Philadelphia    PA       19107   \n",
       "4                    101 Walnut St     Green Lane    PA       18054   \n",
       "\n",
       "    latitude   longitude  stars  review_count  ...  AcceptsInsurance  \\\n",
       "0  34.426679 -119.711197    5.0             7  ...              None   \n",
       "1  38.551126  -90.335695    3.0            15  ...              None   \n",
       "2  32.223236 -110.880452    3.5            22  ...              None   \n",
       "3  39.955505  -75.155564    4.0            80  ...              None   \n",
       "4  40.338183  -75.471659    4.5            13  ...              None   \n",
       "\n",
       "  BestNights  BYOB Corkage BYOBCorkage HairSpecializesIn Open24Hours  \\\n",
       "0       None  None    None        None              None        None   \n",
       "1       None  None    None        None              None        None   \n",
       "2       None  None    None        None              None        None   \n",
       "3       None  None    None        None              None        None   \n",
       "4       None  None    None        None              None        None   \n",
       "\n",
       "  RestaurantsCounterService AgesAllowed DietaryRestrictions  \n",
       "0                      None        None                None  \n",
       "1                      None        None                None  \n",
       "2                      None        None                None  \n",
       "3                      None        None                None  \n",
       "4                      None        None                None  \n",
       "\n",
       "[5 rows x 53 columns]"
      ]
     },
     "execution_count": 10,
     "metadata": {},
     "output_type": "execute_result"
    }
   ],
   "source": [
    "df.head()"
   ]
  },
  {
   "cell_type": "code",
   "execution_count": 11,
   "id": "2d5bc575",
   "metadata": {},
   "outputs": [
    {
     "data": {
      "text/plain": [
       "None     108047\n",
       "False     26690\n",
       "True      15609\n",
       "Name: ByAppointmentOnly, dtype: int64"
      ]
     },
     "execution_count": 11,
     "metadata": {},
     "output_type": "execute_result"
    }
   ],
   "source": [
    "df['ByAppointmentOnly'].value_counts(dropna=False)"
   ]
  },
  {
   "cell_type": "code",
   "execution_count": 12,
   "id": "4a197c6d",
   "metadata": {},
   "outputs": [],
   "source": [
    "def get_dummy(x):\n",
    "    if x == \"True\":\n",
    "        return 1\n",
    "    else:\n",
    "        return 0"
   ]
  },
  {
   "cell_type": "code",
   "execution_count": 13,
   "id": "2011f5d8",
   "metadata": {},
   "outputs": [
    {
     "data": {
      "text/plain": [
       "(150346, 53)"
      ]
     },
     "execution_count": 13,
     "metadata": {},
     "output_type": "execute_result"
    }
   ],
   "source": [
    "df.shape"
   ]
  },
  {
   "cell_type": "code",
   "execution_count": 14,
   "id": "0245d7f1",
   "metadata": {},
   "outputs": [
    {
     "data": {
      "text/plain": [
       "'CoatCheck'"
      ]
     },
     "execution_count": 14,
     "metadata": {},
     "output_type": "execute_result"
    }
   ],
   "source": [
    "attribute_list[4]"
   ]
  },
  {
   "cell_type": "code",
   "execution_count": 15,
   "id": "8497fdf2",
   "metadata": {},
   "outputs": [
    {
     "data": {
      "text/plain": [
       "None    65066\n",
       "2       48581\n",
       "1       28840\n",
       "3        6667\n",
       "4        1192\n",
       "Name: RestaurantsPriceRange2, dtype: int64"
      ]
     },
     "execution_count": 15,
     "metadata": {},
     "output_type": "execute_result"
    }
   ],
   "source": [
    "df['RestaurantsPriceRange2'].value_counts()"
   ]
  },
  {
   "cell_type": "code",
   "execution_count": 16,
   "id": "79eab229",
   "metadata": {},
   "outputs": [
    {
     "data": {
      "text/plain": [
       "0    149907\n",
       "1       439\n",
       "Name: CoatCheck, dtype: int64"
      ]
     },
     "execution_count": 16,
     "metadata": {},
     "output_type": "execute_result"
    }
   ],
   "source": [
    "df['CoatCheck'].apply(get_dummy).value_counts()"
   ]
  },
  {
   "cell_type": "code",
   "execution_count": 19,
   "id": "ef1c6032",
   "metadata": {},
   "outputs": [
    {
     "data": {
      "text/plain": [
       "['ByAppointmentOnly',\n",
       " 'BusinessAcceptsCreditCards',\n",
       " 'BikeParking',\n",
       " 'CoatCheck',\n",
       " 'RestaurantsTakeOut',\n",
       " 'RestaurantsDelivery',\n",
       " 'Caters',\n",
       " 'WheelchairAccessible',\n",
       " 'HappyHour',\n",
       " 'OutdoorSeating',\n",
       " 'HasTV',\n",
       " 'RestaurantsReservations',\n",
       " 'DogsAllowed',\n",
       " 'GoodForKids',\n",
       " 'RestaurantsTableService',\n",
       " 'RestaurantsGoodForGroups',\n",
       " 'DriveThru',\n",
       " 'BusinessAcceptsBitcoin',\n",
       " 'GoodForDancing',\n",
       " 'AcceptsInsurance',\n",
       " 'BYOB',\n",
       " 'Corkage',\n",
       " 'Open24Hours',\n",
       " 'RestaurantsCounterService']"
      ]
     },
     "execution_count": 19,
     "metadata": {},
     "output_type": "execute_result"
    }
   ],
   "source": [
    "non_bool = []\n",
    "\n",
    "for i in attribute_list:\n",
    "    count =(df[i].nunique())\n",
    "    if count >3:\n",
    "        non_bool.append(i)\n",
    "# non_bool        \n",
    "subset = [k for k in attribute_list if k not in non_bool]\n",
    "subset"
   ]
  },
  {
   "cell_type": "code",
   "execution_count": 20,
   "id": "ba43ee9a",
   "metadata": {},
   "outputs": [
    {
     "data": {
      "text/plain": [
       "0    145972\n",
       "1      4374\n",
       "Name: DriveThru, dtype: int64"
      ]
     },
     "execution_count": 20,
     "metadata": {},
     "output_type": "execute_result"
    }
   ],
   "source": [
    "for i in subset:\n",
    "\n",
    "    df[i] = df[i].apply(get_dummy)\n",
    "    \n",
    "df['DriveThru'].value_counts()"
   ]
  },
  {
   "cell_type": "code",
   "execution_count": 21,
   "id": "7636b350",
   "metadata": {},
   "outputs": [],
   "source": [
    "subset.extend(['business_id'])"
   ]
  },
  {
   "cell_type": "code",
   "execution_count": 22,
   "id": "2546fa3e",
   "metadata": {},
   "outputs": [
    {
     "data": {
      "text/html": [
       "<div>\n",
       "<style scoped>\n",
       "    .dataframe tbody tr th:only-of-type {\n",
       "        vertical-align: middle;\n",
       "    }\n",
       "\n",
       "    .dataframe tbody tr th {\n",
       "        vertical-align: top;\n",
       "    }\n",
       "\n",
       "    .dataframe thead th {\n",
       "        text-align: right;\n",
       "    }\n",
       "</style>\n",
       "<table border=\"1\" class=\"dataframe\">\n",
       "  <thead>\n",
       "    <tr style=\"text-align: right;\">\n",
       "      <th></th>\n",
       "      <th>ByAppointmentOnly</th>\n",
       "      <th>BusinessAcceptsCreditCards</th>\n",
       "      <th>BikeParking</th>\n",
       "      <th>CoatCheck</th>\n",
       "      <th>RestaurantsTakeOut</th>\n",
       "      <th>RestaurantsDelivery</th>\n",
       "      <th>Caters</th>\n",
       "      <th>WheelchairAccessible</th>\n",
       "      <th>HappyHour</th>\n",
       "      <th>OutdoorSeating</th>\n",
       "      <th>...</th>\n",
       "      <th>RestaurantsGoodForGroups</th>\n",
       "      <th>DriveThru</th>\n",
       "      <th>BusinessAcceptsBitcoin</th>\n",
       "      <th>GoodForDancing</th>\n",
       "      <th>AcceptsInsurance</th>\n",
       "      <th>BYOB</th>\n",
       "      <th>Corkage</th>\n",
       "      <th>Open24Hours</th>\n",
       "      <th>RestaurantsCounterService</th>\n",
       "      <th>business_id</th>\n",
       "    </tr>\n",
       "  </thead>\n",
       "  <tbody>\n",
       "    <tr>\n",
       "      <th>0</th>\n",
       "      <td>1</td>\n",
       "      <td>0</td>\n",
       "      <td>0</td>\n",
       "      <td>0</td>\n",
       "      <td>0</td>\n",
       "      <td>0</td>\n",
       "      <td>0</td>\n",
       "      <td>0</td>\n",
       "      <td>0</td>\n",
       "      <td>0</td>\n",
       "      <td>...</td>\n",
       "      <td>0</td>\n",
       "      <td>0</td>\n",
       "      <td>0</td>\n",
       "      <td>0</td>\n",
       "      <td>0</td>\n",
       "      <td>0</td>\n",
       "      <td>0</td>\n",
       "      <td>0</td>\n",
       "      <td>0</td>\n",
       "      <td>Pns2l4eNsfO8kk83dixA6A</td>\n",
       "    </tr>\n",
       "    <tr>\n",
       "      <th>1</th>\n",
       "      <td>0</td>\n",
       "      <td>1</td>\n",
       "      <td>0</td>\n",
       "      <td>0</td>\n",
       "      <td>0</td>\n",
       "      <td>0</td>\n",
       "      <td>0</td>\n",
       "      <td>0</td>\n",
       "      <td>0</td>\n",
       "      <td>0</td>\n",
       "      <td>...</td>\n",
       "      <td>0</td>\n",
       "      <td>0</td>\n",
       "      <td>0</td>\n",
       "      <td>0</td>\n",
       "      <td>0</td>\n",
       "      <td>0</td>\n",
       "      <td>0</td>\n",
       "      <td>0</td>\n",
       "      <td>0</td>\n",
       "      <td>mpf3x-BjTdTEA3yCZrAYPw</td>\n",
       "    </tr>\n",
       "    <tr>\n",
       "      <th>2</th>\n",
       "      <td>0</td>\n",
       "      <td>1</td>\n",
       "      <td>1</td>\n",
       "      <td>0</td>\n",
       "      <td>0</td>\n",
       "      <td>0</td>\n",
       "      <td>0</td>\n",
       "      <td>1</td>\n",
       "      <td>0</td>\n",
       "      <td>0</td>\n",
       "      <td>...</td>\n",
       "      <td>0</td>\n",
       "      <td>0</td>\n",
       "      <td>0</td>\n",
       "      <td>0</td>\n",
       "      <td>0</td>\n",
       "      <td>0</td>\n",
       "      <td>0</td>\n",
       "      <td>0</td>\n",
       "      <td>0</td>\n",
       "      <td>tUFrWirKiKi_TAnsVWINQQ</td>\n",
       "    </tr>\n",
       "    <tr>\n",
       "      <th>3</th>\n",
       "      <td>0</td>\n",
       "      <td>0</td>\n",
       "      <td>1</td>\n",
       "      <td>0</td>\n",
       "      <td>1</td>\n",
       "      <td>0</td>\n",
       "      <td>1</td>\n",
       "      <td>0</td>\n",
       "      <td>0</td>\n",
       "      <td>0</td>\n",
       "      <td>...</td>\n",
       "      <td>0</td>\n",
       "      <td>0</td>\n",
       "      <td>0</td>\n",
       "      <td>0</td>\n",
       "      <td>0</td>\n",
       "      <td>0</td>\n",
       "      <td>0</td>\n",
       "      <td>0</td>\n",
       "      <td>0</td>\n",
       "      <td>MTSW4McQd7CbVtyjqoe9mw</td>\n",
       "    </tr>\n",
       "    <tr>\n",
       "      <th>4</th>\n",
       "      <td>0</td>\n",
       "      <td>1</td>\n",
       "      <td>1</td>\n",
       "      <td>0</td>\n",
       "      <td>1</td>\n",
       "      <td>0</td>\n",
       "      <td>0</td>\n",
       "      <td>1</td>\n",
       "      <td>0</td>\n",
       "      <td>0</td>\n",
       "      <td>...</td>\n",
       "      <td>0</td>\n",
       "      <td>0</td>\n",
       "      <td>0</td>\n",
       "      <td>0</td>\n",
       "      <td>0</td>\n",
       "      <td>0</td>\n",
       "      <td>0</td>\n",
       "      <td>0</td>\n",
       "      <td>0</td>\n",
       "      <td>mWMc6_wTdE0EUBKIGXDVfA</td>\n",
       "    </tr>\n",
       "  </tbody>\n",
       "</table>\n",
       "<p>5 rows × 25 columns</p>\n",
       "</div>"
      ],
      "text/plain": [
       "   ByAppointmentOnly  BusinessAcceptsCreditCards  BikeParking  CoatCheck  \\\n",
       "0                  1                           0            0          0   \n",
       "1                  0                           1            0          0   \n",
       "2                  0                           1            1          0   \n",
       "3                  0                           0            1          0   \n",
       "4                  0                           1            1          0   \n",
       "\n",
       "   RestaurantsTakeOut  RestaurantsDelivery  Caters  WheelchairAccessible  \\\n",
       "0                   0                    0       0                     0   \n",
       "1                   0                    0       0                     0   \n",
       "2                   0                    0       0                     1   \n",
       "3                   1                    0       1                     0   \n",
       "4                   1                    0       0                     1   \n",
       "\n",
       "   HappyHour  OutdoorSeating  ...  RestaurantsGoodForGroups  DriveThru  \\\n",
       "0          0               0  ...                         0          0   \n",
       "1          0               0  ...                         0          0   \n",
       "2          0               0  ...                         0          0   \n",
       "3          0               0  ...                         0          0   \n",
       "4          0               0  ...                         0          0   \n",
       "\n",
       "   BusinessAcceptsBitcoin  GoodForDancing  AcceptsInsurance  BYOB  Corkage  \\\n",
       "0                       0               0                 0     0        0   \n",
       "1                       0               0                 0     0        0   \n",
       "2                       0               0                 0     0        0   \n",
       "3                       0               0                 0     0        0   \n",
       "4                       0               0                 0     0        0   \n",
       "\n",
       "   Open24Hours  RestaurantsCounterService             business_id  \n",
       "0            0                          0  Pns2l4eNsfO8kk83dixA6A  \n",
       "1            0                          0  mpf3x-BjTdTEA3yCZrAYPw  \n",
       "2            0                          0  tUFrWirKiKi_TAnsVWINQQ  \n",
       "3            0                          0  MTSW4McQd7CbVtyjqoe9mw  \n",
       "4            0                          0  mWMc6_wTdE0EUBKIGXDVfA  \n",
       "\n",
       "[5 rows x 25 columns]"
      ]
     },
     "execution_count": 22,
     "metadata": {},
     "output_type": "execute_result"
    }
   ],
   "source": [
    "df[subset].head()"
   ]
  },
  {
   "cell_type": "code",
   "execution_count": 24,
   "id": "7f8f7e7a",
   "metadata": {},
   "outputs": [],
   "source": [
    "# df_crosstab = df.pivot_table(values='rating', index='business_id', columns='business_id', fill_value=0)\n",
    "# df_crosstab.head()"
   ]
  },
  {
   "cell_type": "code",
   "execution_count": 107,
   "id": "87b89d5d",
   "metadata": {},
   "outputs": [
    {
     "data": {
      "text/html": [
       "<div>\n",
       "<style scoped>\n",
       "    .dataframe tbody tr th:only-of-type {\n",
       "        vertical-align: middle;\n",
       "    }\n",
       "\n",
       "    .dataframe tbody tr th {\n",
       "        vertical-align: top;\n",
       "    }\n",
       "\n",
       "    .dataframe thead th {\n",
       "        text-align: right;\n",
       "    }\n",
       "</style>\n",
       "<table border=\"1\" class=\"dataframe\">\n",
       "  <thead>\n",
       "    <tr style=\"text-align: right;\">\n",
       "      <th>business_id</th>\n",
       "      <th>--ZVrH2X2QXBFdCilbirsw</th>\n",
       "      <th>--_9CAxgfXZmoFdNIRrhHA</th>\n",
       "      <th>--hF_3v1JmU9nlu4zfXJ8Q</th>\n",
       "      <th>-02xFuruu85XmDn2xiynJw</th>\n",
       "      <th>-0Ym1Wg3bXd_TDz8JtvOQg</th>\n",
       "      <th>-0fvhILrC9UsQ6gLNpZlTQ</th>\n",
       "      <th>-1ueCbvIpUPi8KT95ETTKw</th>\n",
       "      <th>-2Axhv9AZ_n7qjQefECpVw</th>\n",
       "      <th>-2bLM6nIETD4Mk-rhjIYZQ</th>\n",
       "      <th>-2ke_JDOpgTZWqirMFjZcw</th>\n",
       "      <th>...</th>\n",
       "      <th>zy7uNOvpykrq-XlmDY_wHA</th>\n",
       "      <th>zyDXW1IbVaui_26YkfgvNA</th>\n",
       "      <th>zyge4T5eSiPHq1-IaJb_Qg</th>\n",
       "      <th>zynDyrQvFZfbf5m4_Usl5g</th>\n",
       "      <th>zyr9ItPuI5x2XxQ22plsqg</th>\n",
       "      <th>zyrBKxaJD7Gj1VyYALdvZQ</th>\n",
       "      <th>zzHtFjfM7NvuVM1HTsCLGA</th>\n",
       "      <th>zzUxvYE-8Fj_dWqsPcagNg</th>\n",
       "      <th>zztOG2cKm87I6Iw_tleZsQ</th>\n",
       "      <th>zzyx5x0Z7xXWWvWnZFuxlQ</th>\n",
       "    </tr>\n",
       "  </thead>\n",
       "  <tbody>\n",
       "    <tr>\n",
       "      <th>AcceptsInsurance</th>\n",
       "      <td>0.000000</td>\n",
       "      <td>0.000000</td>\n",
       "      <td>0.000000</td>\n",
       "      <td>1.000000</td>\n",
       "      <td>0.000000</td>\n",
       "      <td>0.000000</td>\n",
       "      <td>0.000000</td>\n",
       "      <td>0.000000</td>\n",
       "      <td>0.000000</td>\n",
       "      <td>0.000000</td>\n",
       "      <td>...</td>\n",
       "      <td>0.000000</td>\n",
       "      <td>0.000000</td>\n",
       "      <td>0.000000</td>\n",
       "      <td>0.000000</td>\n",
       "      <td>0.000000</td>\n",
       "      <td>0.000000</td>\n",
       "      <td>0.000000</td>\n",
       "      <td>0.000000</td>\n",
       "      <td>0.000000</td>\n",
       "      <td>0.000000</td>\n",
       "    </tr>\n",
       "    <tr>\n",
       "      <th>BYOB</th>\n",
       "      <td>0.000000</td>\n",
       "      <td>0.000000</td>\n",
       "      <td>0.000000</td>\n",
       "      <td>0.000000</td>\n",
       "      <td>0.000000</td>\n",
       "      <td>0.000000</td>\n",
       "      <td>0.000000</td>\n",
       "      <td>0.000000</td>\n",
       "      <td>0.000000</td>\n",
       "      <td>0.000000</td>\n",
       "      <td>...</td>\n",
       "      <td>0.000000</td>\n",
       "      <td>0.000000</td>\n",
       "      <td>0.000000</td>\n",
       "      <td>0.000000</td>\n",
       "      <td>0.000000</td>\n",
       "      <td>0.000000</td>\n",
       "      <td>0.000000</td>\n",
       "      <td>0.000000</td>\n",
       "      <td>0.000000</td>\n",
       "      <td>0.000000</td>\n",
       "    </tr>\n",
       "    <tr>\n",
       "      <th>BikeParking</th>\n",
       "      <td>1.000000</td>\n",
       "      <td>0.000000</td>\n",
       "      <td>1.000000</td>\n",
       "      <td>1.000000</td>\n",
       "      <td>1.000000</td>\n",
       "      <td>1.000000</td>\n",
       "      <td>0.000000</td>\n",
       "      <td>1.000000</td>\n",
       "      <td>0.000000</td>\n",
       "      <td>1.000000</td>\n",
       "      <td>...</td>\n",
       "      <td>0.000000</td>\n",
       "      <td>0.000000</td>\n",
       "      <td>0.000000</td>\n",
       "      <td>1.000000</td>\n",
       "      <td>0.000000</td>\n",
       "      <td>0.000000</td>\n",
       "      <td>0.000000</td>\n",
       "      <td>0.000000</td>\n",
       "      <td>0.000000</td>\n",
       "      <td>1.000000</td>\n",
       "    </tr>\n",
       "    <tr>\n",
       "      <th>BusinessAcceptsBitcoin</th>\n",
       "      <td>0.000000</td>\n",
       "      <td>0.000000</td>\n",
       "      <td>0.000000</td>\n",
       "      <td>0.000000</td>\n",
       "      <td>0.000000</td>\n",
       "      <td>0.000000</td>\n",
       "      <td>0.000000</td>\n",
       "      <td>0.000000</td>\n",
       "      <td>0.000000</td>\n",
       "      <td>0.000000</td>\n",
       "      <td>...</td>\n",
       "      <td>0.000000</td>\n",
       "      <td>0.000000</td>\n",
       "      <td>0.000000</td>\n",
       "      <td>0.000000</td>\n",
       "      <td>0.000000</td>\n",
       "      <td>0.000000</td>\n",
       "      <td>0.000000</td>\n",
       "      <td>0.000000</td>\n",
       "      <td>0.000000</td>\n",
       "      <td>0.000000</td>\n",
       "    </tr>\n",
       "    <tr>\n",
       "      <th>BusinessAcceptsCreditCards</th>\n",
       "      <td>1.000000</td>\n",
       "      <td>0.000000</td>\n",
       "      <td>1.000000</td>\n",
       "      <td>1.000000</td>\n",
       "      <td>0.000000</td>\n",
       "      <td>1.000000</td>\n",
       "      <td>1.000000</td>\n",
       "      <td>1.000000</td>\n",
       "      <td>0.000000</td>\n",
       "      <td>1.000000</td>\n",
       "      <td>...</td>\n",
       "      <td>1.000000</td>\n",
       "      <td>1.000000</td>\n",
       "      <td>0.000000</td>\n",
       "      <td>1.000000</td>\n",
       "      <td>1.000000</td>\n",
       "      <td>0.000000</td>\n",
       "      <td>0.000000</td>\n",
       "      <td>1.000000</td>\n",
       "      <td>0.000000</td>\n",
       "      <td>1.000000</td>\n",
       "    </tr>\n",
       "    <tr>\n",
       "      <th>ByAppointmentOnly</th>\n",
       "      <td>0.000000</td>\n",
       "      <td>0.000000</td>\n",
       "      <td>0.000000</td>\n",
       "      <td>1.000000</td>\n",
       "      <td>0.000000</td>\n",
       "      <td>0.000000</td>\n",
       "      <td>0.000000</td>\n",
       "      <td>0.000000</td>\n",
       "      <td>0.000000</td>\n",
       "      <td>0.000000</td>\n",
       "      <td>...</td>\n",
       "      <td>0.000000</td>\n",
       "      <td>0.000000</td>\n",
       "      <td>0.000000</td>\n",
       "      <td>0.000000</td>\n",
       "      <td>0.000000</td>\n",
       "      <td>0.000000</td>\n",
       "      <td>0.000000</td>\n",
       "      <td>0.000000</td>\n",
       "      <td>0.000000</td>\n",
       "      <td>0.000000</td>\n",
       "    </tr>\n",
       "    <tr>\n",
       "      <th>Caters</th>\n",
       "      <td>1.000000</td>\n",
       "      <td>0.000000</td>\n",
       "      <td>1.000000</td>\n",
       "      <td>0.000000</td>\n",
       "      <td>1.000000</td>\n",
       "      <td>0.000000</td>\n",
       "      <td>0.000000</td>\n",
       "      <td>0.000000</td>\n",
       "      <td>0.000000</td>\n",
       "      <td>0.000000</td>\n",
       "      <td>...</td>\n",
       "      <td>0.000000</td>\n",
       "      <td>0.000000</td>\n",
       "      <td>0.000000</td>\n",
       "      <td>0.000000</td>\n",
       "      <td>0.000000</td>\n",
       "      <td>0.000000</td>\n",
       "      <td>0.000000</td>\n",
       "      <td>0.000000</td>\n",
       "      <td>0.000000</td>\n",
       "      <td>1.000000</td>\n",
       "    </tr>\n",
       "    <tr>\n",
       "      <th>CoatCheck</th>\n",
       "      <td>0.000000</td>\n",
       "      <td>0.000000</td>\n",
       "      <td>0.000000</td>\n",
       "      <td>0.000000</td>\n",
       "      <td>0.000000</td>\n",
       "      <td>0.000000</td>\n",
       "      <td>0.000000</td>\n",
       "      <td>0.000000</td>\n",
       "      <td>0.000000</td>\n",
       "      <td>0.000000</td>\n",
       "      <td>...</td>\n",
       "      <td>0.000000</td>\n",
       "      <td>0.000000</td>\n",
       "      <td>0.000000</td>\n",
       "      <td>0.000000</td>\n",
       "      <td>0.000000</td>\n",
       "      <td>0.000000</td>\n",
       "      <td>0.000000</td>\n",
       "      <td>0.000000</td>\n",
       "      <td>0.000000</td>\n",
       "      <td>0.000000</td>\n",
       "    </tr>\n",
       "    <tr>\n",
       "      <th>Corkage</th>\n",
       "      <td>0.000000</td>\n",
       "      <td>0.000000</td>\n",
       "      <td>0.000000</td>\n",
       "      <td>0.000000</td>\n",
       "      <td>0.000000</td>\n",
       "      <td>0.000000</td>\n",
       "      <td>0.000000</td>\n",
       "      <td>0.000000</td>\n",
       "      <td>0.000000</td>\n",
       "      <td>0.000000</td>\n",
       "      <td>...</td>\n",
       "      <td>0.000000</td>\n",
       "      <td>0.000000</td>\n",
       "      <td>0.000000</td>\n",
       "      <td>0.000000</td>\n",
       "      <td>0.000000</td>\n",
       "      <td>0.000000</td>\n",
       "      <td>0.000000</td>\n",
       "      <td>0.000000</td>\n",
       "      <td>0.000000</td>\n",
       "      <td>0.000000</td>\n",
       "    </tr>\n",
       "    <tr>\n",
       "      <th>DogsAllowed</th>\n",
       "      <td>0.000000</td>\n",
       "      <td>0.000000</td>\n",
       "      <td>0.000000</td>\n",
       "      <td>0.000000</td>\n",
       "      <td>1.000000</td>\n",
       "      <td>1.000000</td>\n",
       "      <td>0.000000</td>\n",
       "      <td>0.000000</td>\n",
       "      <td>0.000000</td>\n",
       "      <td>0.000000</td>\n",
       "      <td>...</td>\n",
       "      <td>0.000000</td>\n",
       "      <td>0.000000</td>\n",
       "      <td>0.000000</td>\n",
       "      <td>0.000000</td>\n",
       "      <td>0.000000</td>\n",
       "      <td>0.000000</td>\n",
       "      <td>0.000000</td>\n",
       "      <td>0.000000</td>\n",
       "      <td>0.000000</td>\n",
       "      <td>0.000000</td>\n",
       "    </tr>\n",
       "    <tr>\n",
       "      <th>DriveThru</th>\n",
       "      <td>0.000000</td>\n",
       "      <td>0.000000</td>\n",
       "      <td>0.000000</td>\n",
       "      <td>0.000000</td>\n",
       "      <td>0.000000</td>\n",
       "      <td>0.000000</td>\n",
       "      <td>0.000000</td>\n",
       "      <td>0.000000</td>\n",
       "      <td>0.000000</td>\n",
       "      <td>0.000000</td>\n",
       "      <td>...</td>\n",
       "      <td>0.000000</td>\n",
       "      <td>0.000000</td>\n",
       "      <td>0.000000</td>\n",
       "      <td>0.000000</td>\n",
       "      <td>0.000000</td>\n",
       "      <td>0.000000</td>\n",
       "      <td>0.000000</td>\n",
       "      <td>0.000000</td>\n",
       "      <td>0.000000</td>\n",
       "      <td>0.000000</td>\n",
       "    </tr>\n",
       "    <tr>\n",
       "      <th>GoodForDancing</th>\n",
       "      <td>0.000000</td>\n",
       "      <td>0.000000</td>\n",
       "      <td>0.000000</td>\n",
       "      <td>0.000000</td>\n",
       "      <td>0.000000</td>\n",
       "      <td>0.000000</td>\n",
       "      <td>0.000000</td>\n",
       "      <td>0.000000</td>\n",
       "      <td>0.000000</td>\n",
       "      <td>0.000000</td>\n",
       "      <td>...</td>\n",
       "      <td>0.000000</td>\n",
       "      <td>0.000000</td>\n",
       "      <td>0.000000</td>\n",
       "      <td>0.000000</td>\n",
       "      <td>0.000000</td>\n",
       "      <td>0.000000</td>\n",
       "      <td>0.000000</td>\n",
       "      <td>0.000000</td>\n",
       "      <td>0.000000</td>\n",
       "      <td>0.000000</td>\n",
       "    </tr>\n",
       "    <tr>\n",
       "      <th>GoodForKids</th>\n",
       "      <td>1.000000</td>\n",
       "      <td>0.000000</td>\n",
       "      <td>0.000000</td>\n",
       "      <td>0.000000</td>\n",
       "      <td>0.000000</td>\n",
       "      <td>0.000000</td>\n",
       "      <td>0.000000</td>\n",
       "      <td>1.000000</td>\n",
       "      <td>0.000000</td>\n",
       "      <td>0.000000</td>\n",
       "      <td>...</td>\n",
       "      <td>1.000000</td>\n",
       "      <td>0.000000</td>\n",
       "      <td>0.000000</td>\n",
       "      <td>0.000000</td>\n",
       "      <td>0.000000</td>\n",
       "      <td>0.000000</td>\n",
       "      <td>0.000000</td>\n",
       "      <td>0.000000</td>\n",
       "      <td>0.000000</td>\n",
       "      <td>1.000000</td>\n",
       "    </tr>\n",
       "    <tr>\n",
       "      <th>HappyHour</th>\n",
       "      <td>0.000000</td>\n",
       "      <td>0.000000</td>\n",
       "      <td>0.000000</td>\n",
       "      <td>0.000000</td>\n",
       "      <td>0.000000</td>\n",
       "      <td>0.000000</td>\n",
       "      <td>0.000000</td>\n",
       "      <td>0.000000</td>\n",
       "      <td>0.000000</td>\n",
       "      <td>0.000000</td>\n",
       "      <td>...</td>\n",
       "      <td>0.000000</td>\n",
       "      <td>0.000000</td>\n",
       "      <td>0.000000</td>\n",
       "      <td>0.000000</td>\n",
       "      <td>0.000000</td>\n",
       "      <td>0.000000</td>\n",
       "      <td>0.000000</td>\n",
       "      <td>0.000000</td>\n",
       "      <td>0.000000</td>\n",
       "      <td>0.000000</td>\n",
       "    </tr>\n",
       "    <tr>\n",
       "      <th>HasTV</th>\n",
       "      <td>1.000000</td>\n",
       "      <td>0.000000</td>\n",
       "      <td>0.000000</td>\n",
       "      <td>0.000000</td>\n",
       "      <td>0.000000</td>\n",
       "      <td>0.000000</td>\n",
       "      <td>0.000000</td>\n",
       "      <td>1.000000</td>\n",
       "      <td>0.000000</td>\n",
       "      <td>1.000000</td>\n",
       "      <td>...</td>\n",
       "      <td>0.000000</td>\n",
       "      <td>0.000000</td>\n",
       "      <td>0.000000</td>\n",
       "      <td>0.000000</td>\n",
       "      <td>0.000000</td>\n",
       "      <td>0.000000</td>\n",
       "      <td>0.000000</td>\n",
       "      <td>0.000000</td>\n",
       "      <td>0.000000</td>\n",
       "      <td>0.000000</td>\n",
       "    </tr>\n",
       "    <tr>\n",
       "      <th>Open24Hours</th>\n",
       "      <td>0.000000</td>\n",
       "      <td>0.000000</td>\n",
       "      <td>0.000000</td>\n",
       "      <td>0.000000</td>\n",
       "      <td>0.000000</td>\n",
       "      <td>0.000000</td>\n",
       "      <td>0.000000</td>\n",
       "      <td>0.000000</td>\n",
       "      <td>0.000000</td>\n",
       "      <td>0.000000</td>\n",
       "      <td>...</td>\n",
       "      <td>0.000000</td>\n",
       "      <td>0.000000</td>\n",
       "      <td>0.000000</td>\n",
       "      <td>0.000000</td>\n",
       "      <td>0.000000</td>\n",
       "      <td>0.000000</td>\n",
       "      <td>0.000000</td>\n",
       "      <td>0.000000</td>\n",
       "      <td>0.000000</td>\n",
       "      <td>0.000000</td>\n",
       "    </tr>\n",
       "    <tr>\n",
       "      <th>OutdoorSeating</th>\n",
       "      <td>0.000000</td>\n",
       "      <td>0.000000</td>\n",
       "      <td>1.000000</td>\n",
       "      <td>0.000000</td>\n",
       "      <td>0.000000</td>\n",
       "      <td>0.000000</td>\n",
       "      <td>0.000000</td>\n",
       "      <td>0.000000</td>\n",
       "      <td>0.000000</td>\n",
       "      <td>0.000000</td>\n",
       "      <td>...</td>\n",
       "      <td>1.000000</td>\n",
       "      <td>0.000000</td>\n",
       "      <td>0.000000</td>\n",
       "      <td>0.000000</td>\n",
       "      <td>0.000000</td>\n",
       "      <td>0.000000</td>\n",
       "      <td>0.000000</td>\n",
       "      <td>0.000000</td>\n",
       "      <td>0.000000</td>\n",
       "      <td>0.000000</td>\n",
       "    </tr>\n",
       "    <tr>\n",
       "      <th>RestaurantsCounterService</th>\n",
       "      <td>0.000000</td>\n",
       "      <td>0.000000</td>\n",
       "      <td>0.000000</td>\n",
       "      <td>0.000000</td>\n",
       "      <td>0.000000</td>\n",
       "      <td>0.000000</td>\n",
       "      <td>0.000000</td>\n",
       "      <td>0.000000</td>\n",
       "      <td>0.000000</td>\n",
       "      <td>0.000000</td>\n",
       "      <td>...</td>\n",
       "      <td>0.000000</td>\n",
       "      <td>0.000000</td>\n",
       "      <td>0.000000</td>\n",
       "      <td>0.000000</td>\n",
       "      <td>0.000000</td>\n",
       "      <td>0.000000</td>\n",
       "      <td>0.000000</td>\n",
       "      <td>0.000000</td>\n",
       "      <td>0.000000</td>\n",
       "      <td>0.000000</td>\n",
       "    </tr>\n",
       "    <tr>\n",
       "      <th>RestaurantsDelivery</th>\n",
       "      <td>0.000000</td>\n",
       "      <td>0.000000</td>\n",
       "      <td>1.000000</td>\n",
       "      <td>0.000000</td>\n",
       "      <td>1.000000</td>\n",
       "      <td>0.000000</td>\n",
       "      <td>0.000000</td>\n",
       "      <td>1.000000</td>\n",
       "      <td>0.000000</td>\n",
       "      <td>1.000000</td>\n",
       "      <td>...</td>\n",
       "      <td>0.000000</td>\n",
       "      <td>0.000000</td>\n",
       "      <td>0.000000</td>\n",
       "      <td>0.000000</td>\n",
       "      <td>0.000000</td>\n",
       "      <td>0.000000</td>\n",
       "      <td>0.000000</td>\n",
       "      <td>0.000000</td>\n",
       "      <td>0.000000</td>\n",
       "      <td>0.000000</td>\n",
       "    </tr>\n",
       "    <tr>\n",
       "      <th>RestaurantsGoodForGroups</th>\n",
       "      <td>1.000000</td>\n",
       "      <td>0.000000</td>\n",
       "      <td>0.000000</td>\n",
       "      <td>0.000000</td>\n",
       "      <td>0.000000</td>\n",
       "      <td>0.000000</td>\n",
       "      <td>0.000000</td>\n",
       "      <td>1.000000</td>\n",
       "      <td>0.000000</td>\n",
       "      <td>1.000000</td>\n",
       "      <td>...</td>\n",
       "      <td>1.000000</td>\n",
       "      <td>0.000000</td>\n",
       "      <td>0.000000</td>\n",
       "      <td>0.000000</td>\n",
       "      <td>0.000000</td>\n",
       "      <td>0.000000</td>\n",
       "      <td>0.000000</td>\n",
       "      <td>0.000000</td>\n",
       "      <td>0.000000</td>\n",
       "      <td>0.000000</td>\n",
       "    </tr>\n",
       "    <tr>\n",
       "      <th>RestaurantsReservations</th>\n",
       "      <td>0.000000</td>\n",
       "      <td>0.000000</td>\n",
       "      <td>0.000000</td>\n",
       "      <td>0.000000</td>\n",
       "      <td>0.000000</td>\n",
       "      <td>0.000000</td>\n",
       "      <td>0.000000</td>\n",
       "      <td>1.000000</td>\n",
       "      <td>0.000000</td>\n",
       "      <td>0.000000</td>\n",
       "      <td>...</td>\n",
       "      <td>0.000000</td>\n",
       "      <td>0.000000</td>\n",
       "      <td>0.000000</td>\n",
       "      <td>0.000000</td>\n",
       "      <td>0.000000</td>\n",
       "      <td>0.000000</td>\n",
       "      <td>0.000000</td>\n",
       "      <td>0.000000</td>\n",
       "      <td>0.000000</td>\n",
       "      <td>0.000000</td>\n",
       "    </tr>\n",
       "    <tr>\n",
       "      <th>RestaurantsTableService</th>\n",
       "      <td>0.000000</td>\n",
       "      <td>0.000000</td>\n",
       "      <td>0.000000</td>\n",
       "      <td>0.000000</td>\n",
       "      <td>0.000000</td>\n",
       "      <td>0.000000</td>\n",
       "      <td>0.000000</td>\n",
       "      <td>0.000000</td>\n",
       "      <td>0.000000</td>\n",
       "      <td>0.000000</td>\n",
       "      <td>...</td>\n",
       "      <td>0.000000</td>\n",
       "      <td>0.000000</td>\n",
       "      <td>0.000000</td>\n",
       "      <td>0.000000</td>\n",
       "      <td>0.000000</td>\n",
       "      <td>0.000000</td>\n",
       "      <td>0.000000</td>\n",
       "      <td>0.000000</td>\n",
       "      <td>0.000000</td>\n",
       "      <td>0.000000</td>\n",
       "    </tr>\n",
       "    <tr>\n",
       "      <th>RestaurantsTakeOut</th>\n",
       "      <td>1.000000</td>\n",
       "      <td>0.000000</td>\n",
       "      <td>1.000000</td>\n",
       "      <td>0.000000</td>\n",
       "      <td>1.000000</td>\n",
       "      <td>1.000000</td>\n",
       "      <td>0.000000</td>\n",
       "      <td>1.000000</td>\n",
       "      <td>0.000000</td>\n",
       "      <td>1.000000</td>\n",
       "      <td>...</td>\n",
       "      <td>1.000000</td>\n",
       "      <td>0.000000</td>\n",
       "      <td>0.000000</td>\n",
       "      <td>0.000000</td>\n",
       "      <td>0.000000</td>\n",
       "      <td>0.000000</td>\n",
       "      <td>0.000000</td>\n",
       "      <td>0.000000</td>\n",
       "      <td>0.000000</td>\n",
       "      <td>1.000000</td>\n",
       "    </tr>\n",
       "    <tr>\n",
       "      <th>WheelchairAccessible</th>\n",
       "      <td>0.000000</td>\n",
       "      <td>0.000000</td>\n",
       "      <td>1.000000</td>\n",
       "      <td>0.000000</td>\n",
       "      <td>0.000000</td>\n",
       "      <td>0.000000</td>\n",
       "      <td>0.000000</td>\n",
       "      <td>0.000000</td>\n",
       "      <td>0.000000</td>\n",
       "      <td>0.000000</td>\n",
       "      <td>...</td>\n",
       "      <td>0.000000</td>\n",
       "      <td>0.000000</td>\n",
       "      <td>0.000000</td>\n",
       "      <td>1.000000</td>\n",
       "      <td>0.000000</td>\n",
       "      <td>0.000000</td>\n",
       "      <td>0.000000</td>\n",
       "      <td>0.000000</td>\n",
       "      <td>0.000000</td>\n",
       "      <td>1.000000</td>\n",
       "    </tr>\n",
       "    <tr>\n",
       "      <th>is_open</th>\n",
       "      <td>0.000000</td>\n",
       "      <td>1.000000</td>\n",
       "      <td>1.000000</td>\n",
       "      <td>1.000000</td>\n",
       "      <td>1.000000</td>\n",
       "      <td>0.000000</td>\n",
       "      <td>1.000000</td>\n",
       "      <td>0.000000</td>\n",
       "      <td>1.000000</td>\n",
       "      <td>1.000000</td>\n",
       "      <td>...</td>\n",
       "      <td>0.000000</td>\n",
       "      <td>1.000000</td>\n",
       "      <td>1.000000</td>\n",
       "      <td>1.000000</td>\n",
       "      <td>0.000000</td>\n",
       "      <td>1.000000</td>\n",
       "      <td>0.000000</td>\n",
       "      <td>1.000000</td>\n",
       "      <td>1.000000</td>\n",
       "      <td>0.000000</td>\n",
       "    </tr>\n",
       "    <tr>\n",
       "      <th>latitude</th>\n",
       "      <td>39.997299</td>\n",
       "      <td>27.772845</td>\n",
       "      <td>39.767888</td>\n",
       "      <td>32.251039</td>\n",
       "      <td>53.518487</td>\n",
       "      <td>40.046191</td>\n",
       "      <td>39.504421</td>\n",
       "      <td>36.216608</td>\n",
       "      <td>39.768684</td>\n",
       "      <td>39.715310</td>\n",
       "      <td>...</td>\n",
       "      <td>40.063543</td>\n",
       "      <td>27.895154</td>\n",
       "      <td>40.060970</td>\n",
       "      <td>29.954541</td>\n",
       "      <td>32.173344</td>\n",
       "      <td>39.527538</td>\n",
       "      <td>40.042065</td>\n",
       "      <td>32.196817</td>\n",
       "      <td>40.092606</td>\n",
       "      <td>39.949183</td>\n",
       "    </tr>\n",
       "    <tr>\n",
       "      <th>longitude</th>\n",
       "      <td>-75.292207</td>\n",
       "      <td>-82.676156</td>\n",
       "      <td>-86.158351</td>\n",
       "      <td>-110.833173</td>\n",
       "      <td>-113.493183</td>\n",
       "      <td>-75.015090</td>\n",
       "      <td>-119.779589</td>\n",
       "      <td>-86.596364</td>\n",
       "      <td>-86.153515</td>\n",
       "      <td>-86.081227</td>\n",
       "      <td>...</td>\n",
       "      <td>-75.153158</td>\n",
       "      <td>-82.785361</td>\n",
       "      <td>-75.167412</td>\n",
       "      <td>-90.071783</td>\n",
       "      <td>-110.968500</td>\n",
       "      <td>-119.817717</td>\n",
       "      <td>-75.485834</td>\n",
       "      <td>-110.965636</td>\n",
       "      <td>-75.393004</td>\n",
       "      <td>-75.164777</td>\n",
       "    </tr>\n",
       "    <tr>\n",
       "      <th>review_count</th>\n",
       "      <td>32.000000</td>\n",
       "      <td>11.000000</td>\n",
       "      <td>15.000000</td>\n",
       "      <td>109.000000</td>\n",
       "      <td>105.000000</td>\n",
       "      <td>18.000000</td>\n",
       "      <td>167.000000</td>\n",
       "      <td>21.000000</td>\n",
       "      <td>8.000000</td>\n",
       "      <td>17.000000</td>\n",
       "      <td>...</td>\n",
       "      <td>6.000000</td>\n",
       "      <td>16.000000</td>\n",
       "      <td>10.000000</td>\n",
       "      <td>8.000000</td>\n",
       "      <td>5.000000</td>\n",
       "      <td>5.000000</td>\n",
       "      <td>35.000000</td>\n",
       "      <td>25.000000</td>\n",
       "      <td>6.000000</td>\n",
       "      <td>6.000000</td>\n",
       "    </tr>\n",
       "    <tr>\n",
       "      <th>stars</th>\n",
       "      <td>4.500000</td>\n",
       "      <td>3.500000</td>\n",
       "      <td>4.500000</td>\n",
       "      <td>4.500000</td>\n",
       "      <td>4.500000</td>\n",
       "      <td>4.500000</td>\n",
       "      <td>4.000000</td>\n",
       "      <td>3.500000</td>\n",
       "      <td>5.000000</td>\n",
       "      <td>3.500000</td>\n",
       "      <td>...</td>\n",
       "      <td>3.000000</td>\n",
       "      <td>2.500000</td>\n",
       "      <td>2.000000</td>\n",
       "      <td>2.000000</td>\n",
       "      <td>3.000000</td>\n",
       "      <td>5.000000</td>\n",
       "      <td>4.500000</td>\n",
       "      <td>2.000000</td>\n",
       "      <td>5.000000</td>\n",
       "      <td>2.500000</td>\n",
       "    </tr>\n",
       "  </tbody>\n",
       "</table>\n",
       "<p>29 rows × 10000 columns</p>\n",
       "</div>"
      ],
      "text/plain": [
       "business_id                 --ZVrH2X2QXBFdCilbirsw  --_9CAxgfXZmoFdNIRrhHA  \\\n",
       "AcceptsInsurance                          0.000000                0.000000   \n",
       "BYOB                                      0.000000                0.000000   \n",
       "BikeParking                               1.000000                0.000000   \n",
       "BusinessAcceptsBitcoin                    0.000000                0.000000   \n",
       "BusinessAcceptsCreditCards                1.000000                0.000000   \n",
       "ByAppointmentOnly                         0.000000                0.000000   \n",
       "Caters                                    1.000000                0.000000   \n",
       "CoatCheck                                 0.000000                0.000000   \n",
       "Corkage                                   0.000000                0.000000   \n",
       "DogsAllowed                               0.000000                0.000000   \n",
       "DriveThru                                 0.000000                0.000000   \n",
       "GoodForDancing                            0.000000                0.000000   \n",
       "GoodForKids                               1.000000                0.000000   \n",
       "HappyHour                                 0.000000                0.000000   \n",
       "HasTV                                     1.000000                0.000000   \n",
       "Open24Hours                               0.000000                0.000000   \n",
       "OutdoorSeating                            0.000000                0.000000   \n",
       "RestaurantsCounterService                 0.000000                0.000000   \n",
       "RestaurantsDelivery                       0.000000                0.000000   \n",
       "RestaurantsGoodForGroups                  1.000000                0.000000   \n",
       "RestaurantsReservations                   0.000000                0.000000   \n",
       "RestaurantsTableService                   0.000000                0.000000   \n",
       "RestaurantsTakeOut                        1.000000                0.000000   \n",
       "WheelchairAccessible                      0.000000                0.000000   \n",
       "is_open                                   0.000000                1.000000   \n",
       "latitude                                 39.997299               27.772845   \n",
       "longitude                               -75.292207              -82.676156   \n",
       "review_count                             32.000000               11.000000   \n",
       "stars                                     4.500000                3.500000   \n",
       "\n",
       "business_id                 --hF_3v1JmU9nlu4zfXJ8Q  -02xFuruu85XmDn2xiynJw  \\\n",
       "AcceptsInsurance                          0.000000                1.000000   \n",
       "BYOB                                      0.000000                0.000000   \n",
       "BikeParking                               1.000000                1.000000   \n",
       "BusinessAcceptsBitcoin                    0.000000                0.000000   \n",
       "BusinessAcceptsCreditCards                1.000000                1.000000   \n",
       "ByAppointmentOnly                         0.000000                1.000000   \n",
       "Caters                                    1.000000                0.000000   \n",
       "CoatCheck                                 0.000000                0.000000   \n",
       "Corkage                                   0.000000                0.000000   \n",
       "DogsAllowed                               0.000000                0.000000   \n",
       "DriveThru                                 0.000000                0.000000   \n",
       "GoodForDancing                            0.000000                0.000000   \n",
       "GoodForKids                               0.000000                0.000000   \n",
       "HappyHour                                 0.000000                0.000000   \n",
       "HasTV                                     0.000000                0.000000   \n",
       "Open24Hours                               0.000000                0.000000   \n",
       "OutdoorSeating                            1.000000                0.000000   \n",
       "RestaurantsCounterService                 0.000000                0.000000   \n",
       "RestaurantsDelivery                       1.000000                0.000000   \n",
       "RestaurantsGoodForGroups                  0.000000                0.000000   \n",
       "RestaurantsReservations                   0.000000                0.000000   \n",
       "RestaurantsTableService                   0.000000                0.000000   \n",
       "RestaurantsTakeOut                        1.000000                0.000000   \n",
       "WheelchairAccessible                      1.000000                0.000000   \n",
       "is_open                                   1.000000                1.000000   \n",
       "latitude                                 39.767888               32.251039   \n",
       "longitude                               -86.158351             -110.833173   \n",
       "review_count                             15.000000              109.000000   \n",
       "stars                                     4.500000                4.500000   \n",
       "\n",
       "business_id                 -0Ym1Wg3bXd_TDz8JtvOQg  -0fvhILrC9UsQ6gLNpZlTQ  \\\n",
       "AcceptsInsurance                          0.000000                0.000000   \n",
       "BYOB                                      0.000000                0.000000   \n",
       "BikeParking                               1.000000                1.000000   \n",
       "BusinessAcceptsBitcoin                    0.000000                0.000000   \n",
       "BusinessAcceptsCreditCards                0.000000                1.000000   \n",
       "ByAppointmentOnly                         0.000000                0.000000   \n",
       "Caters                                    1.000000                0.000000   \n",
       "CoatCheck                                 0.000000                0.000000   \n",
       "Corkage                                   0.000000                0.000000   \n",
       "DogsAllowed                               1.000000                1.000000   \n",
       "DriveThru                                 0.000000                0.000000   \n",
       "GoodForDancing                            0.000000                0.000000   \n",
       "GoodForKids                               0.000000                0.000000   \n",
       "HappyHour                                 0.000000                0.000000   \n",
       "HasTV                                     0.000000                0.000000   \n",
       "Open24Hours                               0.000000                0.000000   \n",
       "OutdoorSeating                            0.000000                0.000000   \n",
       "RestaurantsCounterService                 0.000000                0.000000   \n",
       "RestaurantsDelivery                       1.000000                0.000000   \n",
       "RestaurantsGoodForGroups                  0.000000                0.000000   \n",
       "RestaurantsReservations                   0.000000                0.000000   \n",
       "RestaurantsTableService                   0.000000                0.000000   \n",
       "RestaurantsTakeOut                        1.000000                1.000000   \n",
       "WheelchairAccessible                      0.000000                0.000000   \n",
       "is_open                                   1.000000                0.000000   \n",
       "latitude                                 53.518487               40.046191   \n",
       "longitude                              -113.493183              -75.015090   \n",
       "review_count                            105.000000               18.000000   \n",
       "stars                                     4.500000                4.500000   \n",
       "\n",
       "business_id                 -1ueCbvIpUPi8KT95ETTKw  -2Axhv9AZ_n7qjQefECpVw  \\\n",
       "AcceptsInsurance                          0.000000                0.000000   \n",
       "BYOB                                      0.000000                0.000000   \n",
       "BikeParking                               0.000000                1.000000   \n",
       "BusinessAcceptsBitcoin                    0.000000                0.000000   \n",
       "BusinessAcceptsCreditCards                1.000000                1.000000   \n",
       "ByAppointmentOnly                         0.000000                0.000000   \n",
       "Caters                                    0.000000                0.000000   \n",
       "CoatCheck                                 0.000000                0.000000   \n",
       "Corkage                                   0.000000                0.000000   \n",
       "DogsAllowed                               0.000000                0.000000   \n",
       "DriveThru                                 0.000000                0.000000   \n",
       "GoodForDancing                            0.000000                0.000000   \n",
       "GoodForKids                               0.000000                1.000000   \n",
       "HappyHour                                 0.000000                0.000000   \n",
       "HasTV                                     0.000000                1.000000   \n",
       "Open24Hours                               0.000000                0.000000   \n",
       "OutdoorSeating                            0.000000                0.000000   \n",
       "RestaurantsCounterService                 0.000000                0.000000   \n",
       "RestaurantsDelivery                       0.000000                1.000000   \n",
       "RestaurantsGoodForGroups                  0.000000                1.000000   \n",
       "RestaurantsReservations                   0.000000                1.000000   \n",
       "RestaurantsTableService                   0.000000                0.000000   \n",
       "RestaurantsTakeOut                        0.000000                1.000000   \n",
       "WheelchairAccessible                      0.000000                0.000000   \n",
       "is_open                                   1.000000                0.000000   \n",
       "latitude                                 39.504421               36.216608   \n",
       "longitude                              -119.779589              -86.596364   \n",
       "review_count                            167.000000               21.000000   \n",
       "stars                                     4.000000                3.500000   \n",
       "\n",
       "business_id                 -2bLM6nIETD4Mk-rhjIYZQ  -2ke_JDOpgTZWqirMFjZcw  \\\n",
       "AcceptsInsurance                          0.000000                0.000000   \n",
       "BYOB                                      0.000000                0.000000   \n",
       "BikeParking                               0.000000                1.000000   \n",
       "BusinessAcceptsBitcoin                    0.000000                0.000000   \n",
       "BusinessAcceptsCreditCards                0.000000                1.000000   \n",
       "ByAppointmentOnly                         0.000000                0.000000   \n",
       "Caters                                    0.000000                0.000000   \n",
       "CoatCheck                                 0.000000                0.000000   \n",
       "Corkage                                   0.000000                0.000000   \n",
       "DogsAllowed                               0.000000                0.000000   \n",
       "DriveThru                                 0.000000                0.000000   \n",
       "GoodForDancing                            0.000000                0.000000   \n",
       "GoodForKids                               0.000000                0.000000   \n",
       "HappyHour                                 0.000000                0.000000   \n",
       "HasTV                                     0.000000                1.000000   \n",
       "Open24Hours                               0.000000                0.000000   \n",
       "OutdoorSeating                            0.000000                0.000000   \n",
       "RestaurantsCounterService                 0.000000                0.000000   \n",
       "RestaurantsDelivery                       0.000000                1.000000   \n",
       "RestaurantsGoodForGroups                  0.000000                1.000000   \n",
       "RestaurantsReservations                   0.000000                0.000000   \n",
       "RestaurantsTableService                   0.000000                0.000000   \n",
       "RestaurantsTakeOut                        0.000000                1.000000   \n",
       "WheelchairAccessible                      0.000000                0.000000   \n",
       "is_open                                   1.000000                1.000000   \n",
       "latitude                                 39.768684               39.715310   \n",
       "longitude                               -86.153515              -86.081227   \n",
       "review_count                              8.000000               17.000000   \n",
       "stars                                     5.000000                3.500000   \n",
       "\n",
       "business_id                 ...  zy7uNOvpykrq-XlmDY_wHA  \\\n",
       "AcceptsInsurance            ...                0.000000   \n",
       "BYOB                        ...                0.000000   \n",
       "BikeParking                 ...                0.000000   \n",
       "BusinessAcceptsBitcoin      ...                0.000000   \n",
       "BusinessAcceptsCreditCards  ...                1.000000   \n",
       "ByAppointmentOnly           ...                0.000000   \n",
       "Caters                      ...                0.000000   \n",
       "CoatCheck                   ...                0.000000   \n",
       "Corkage                     ...                0.000000   \n",
       "DogsAllowed                 ...                0.000000   \n",
       "DriveThru                   ...                0.000000   \n",
       "GoodForDancing              ...                0.000000   \n",
       "GoodForKids                 ...                1.000000   \n",
       "HappyHour                   ...                0.000000   \n",
       "HasTV                       ...                0.000000   \n",
       "Open24Hours                 ...                0.000000   \n",
       "OutdoorSeating              ...                1.000000   \n",
       "RestaurantsCounterService   ...                0.000000   \n",
       "RestaurantsDelivery         ...                0.000000   \n",
       "RestaurantsGoodForGroups    ...                1.000000   \n",
       "RestaurantsReservations     ...                0.000000   \n",
       "RestaurantsTableService     ...                0.000000   \n",
       "RestaurantsTakeOut          ...                1.000000   \n",
       "WheelchairAccessible        ...                0.000000   \n",
       "is_open                     ...                0.000000   \n",
       "latitude                    ...               40.063543   \n",
       "longitude                   ...              -75.153158   \n",
       "review_count                ...                6.000000   \n",
       "stars                       ...                3.000000   \n",
       "\n",
       "business_id                 zyDXW1IbVaui_26YkfgvNA  zyge4T5eSiPHq1-IaJb_Qg  \\\n",
       "AcceptsInsurance                          0.000000                0.000000   \n",
       "BYOB                                      0.000000                0.000000   \n",
       "BikeParking                               0.000000                0.000000   \n",
       "BusinessAcceptsBitcoin                    0.000000                0.000000   \n",
       "BusinessAcceptsCreditCards                1.000000                0.000000   \n",
       "ByAppointmentOnly                         0.000000                0.000000   \n",
       "Caters                                    0.000000                0.000000   \n",
       "CoatCheck                                 0.000000                0.000000   \n",
       "Corkage                                   0.000000                0.000000   \n",
       "DogsAllowed                               0.000000                0.000000   \n",
       "DriveThru                                 0.000000                0.000000   \n",
       "GoodForDancing                            0.000000                0.000000   \n",
       "GoodForKids                               0.000000                0.000000   \n",
       "HappyHour                                 0.000000                0.000000   \n",
       "HasTV                                     0.000000                0.000000   \n",
       "Open24Hours                               0.000000                0.000000   \n",
       "OutdoorSeating                            0.000000                0.000000   \n",
       "RestaurantsCounterService                 0.000000                0.000000   \n",
       "RestaurantsDelivery                       0.000000                0.000000   \n",
       "RestaurantsGoodForGroups                  0.000000                0.000000   \n",
       "RestaurantsReservations                   0.000000                0.000000   \n",
       "RestaurantsTableService                   0.000000                0.000000   \n",
       "RestaurantsTakeOut                        0.000000                0.000000   \n",
       "WheelchairAccessible                      0.000000                0.000000   \n",
       "is_open                                   1.000000                1.000000   \n",
       "latitude                                 27.895154               40.060970   \n",
       "longitude                               -82.785361              -75.167412   \n",
       "review_count                             16.000000               10.000000   \n",
       "stars                                     2.500000                2.000000   \n",
       "\n",
       "business_id                 zynDyrQvFZfbf5m4_Usl5g  zyr9ItPuI5x2XxQ22plsqg  \\\n",
       "AcceptsInsurance                          0.000000                0.000000   \n",
       "BYOB                                      0.000000                0.000000   \n",
       "BikeParking                               1.000000                0.000000   \n",
       "BusinessAcceptsBitcoin                    0.000000                0.000000   \n",
       "BusinessAcceptsCreditCards                1.000000                1.000000   \n",
       "ByAppointmentOnly                         0.000000                0.000000   \n",
       "Caters                                    0.000000                0.000000   \n",
       "CoatCheck                                 0.000000                0.000000   \n",
       "Corkage                                   0.000000                0.000000   \n",
       "DogsAllowed                               0.000000                0.000000   \n",
       "DriveThru                                 0.000000                0.000000   \n",
       "GoodForDancing                            0.000000                0.000000   \n",
       "GoodForKids                               0.000000                0.000000   \n",
       "HappyHour                                 0.000000                0.000000   \n",
       "HasTV                                     0.000000                0.000000   \n",
       "Open24Hours                               0.000000                0.000000   \n",
       "OutdoorSeating                            0.000000                0.000000   \n",
       "RestaurantsCounterService                 0.000000                0.000000   \n",
       "RestaurantsDelivery                       0.000000                0.000000   \n",
       "RestaurantsGoodForGroups                  0.000000                0.000000   \n",
       "RestaurantsReservations                   0.000000                0.000000   \n",
       "RestaurantsTableService                   0.000000                0.000000   \n",
       "RestaurantsTakeOut                        0.000000                0.000000   \n",
       "WheelchairAccessible                      1.000000                0.000000   \n",
       "is_open                                   1.000000                0.000000   \n",
       "latitude                                 29.954541               32.173344   \n",
       "longitude                               -90.071783             -110.968500   \n",
       "review_count                              8.000000                5.000000   \n",
       "stars                                     2.000000                3.000000   \n",
       "\n",
       "business_id                 zyrBKxaJD7Gj1VyYALdvZQ  zzHtFjfM7NvuVM1HTsCLGA  \\\n",
       "AcceptsInsurance                          0.000000                0.000000   \n",
       "BYOB                                      0.000000                0.000000   \n",
       "BikeParking                               0.000000                0.000000   \n",
       "BusinessAcceptsBitcoin                    0.000000                0.000000   \n",
       "BusinessAcceptsCreditCards                0.000000                0.000000   \n",
       "ByAppointmentOnly                         0.000000                0.000000   \n",
       "Caters                                    0.000000                0.000000   \n",
       "CoatCheck                                 0.000000                0.000000   \n",
       "Corkage                                   0.000000                0.000000   \n",
       "DogsAllowed                               0.000000                0.000000   \n",
       "DriveThru                                 0.000000                0.000000   \n",
       "GoodForDancing                            0.000000                0.000000   \n",
       "GoodForKids                               0.000000                0.000000   \n",
       "HappyHour                                 0.000000                0.000000   \n",
       "HasTV                                     0.000000                0.000000   \n",
       "Open24Hours                               0.000000                0.000000   \n",
       "OutdoorSeating                            0.000000                0.000000   \n",
       "RestaurantsCounterService                 0.000000                0.000000   \n",
       "RestaurantsDelivery                       0.000000                0.000000   \n",
       "RestaurantsGoodForGroups                  0.000000                0.000000   \n",
       "RestaurantsReservations                   0.000000                0.000000   \n",
       "RestaurantsTableService                   0.000000                0.000000   \n",
       "RestaurantsTakeOut                        0.000000                0.000000   \n",
       "WheelchairAccessible                      0.000000                0.000000   \n",
       "is_open                                   1.000000                0.000000   \n",
       "latitude                                 39.527538               40.042065   \n",
       "longitude                              -119.817717              -75.485834   \n",
       "review_count                              5.000000               35.000000   \n",
       "stars                                     5.000000                4.500000   \n",
       "\n",
       "business_id                 zzUxvYE-8Fj_dWqsPcagNg  zztOG2cKm87I6Iw_tleZsQ  \\\n",
       "AcceptsInsurance                          0.000000                0.000000   \n",
       "BYOB                                      0.000000                0.000000   \n",
       "BikeParking                               0.000000                0.000000   \n",
       "BusinessAcceptsBitcoin                    0.000000                0.000000   \n",
       "BusinessAcceptsCreditCards                1.000000                0.000000   \n",
       "ByAppointmentOnly                         0.000000                0.000000   \n",
       "Caters                                    0.000000                0.000000   \n",
       "CoatCheck                                 0.000000                0.000000   \n",
       "Corkage                                   0.000000                0.000000   \n",
       "DogsAllowed                               0.000000                0.000000   \n",
       "DriveThru                                 0.000000                0.000000   \n",
       "GoodForDancing                            0.000000                0.000000   \n",
       "GoodForKids                               0.000000                0.000000   \n",
       "HappyHour                                 0.000000                0.000000   \n",
       "HasTV                                     0.000000                0.000000   \n",
       "Open24Hours                               0.000000                0.000000   \n",
       "OutdoorSeating                            0.000000                0.000000   \n",
       "RestaurantsCounterService                 0.000000                0.000000   \n",
       "RestaurantsDelivery                       0.000000                0.000000   \n",
       "RestaurantsGoodForGroups                  0.000000                0.000000   \n",
       "RestaurantsReservations                   0.000000                0.000000   \n",
       "RestaurantsTableService                   0.000000                0.000000   \n",
       "RestaurantsTakeOut                        0.000000                0.000000   \n",
       "WheelchairAccessible                      0.000000                0.000000   \n",
       "is_open                                   1.000000                1.000000   \n",
       "latitude                                 32.196817               40.092606   \n",
       "longitude                              -110.965636              -75.393004   \n",
       "review_count                             25.000000                6.000000   \n",
       "stars                                     2.000000                5.000000   \n",
       "\n",
       "business_id                 zzyx5x0Z7xXWWvWnZFuxlQ  \n",
       "AcceptsInsurance                          0.000000  \n",
       "BYOB                                      0.000000  \n",
       "BikeParking                               1.000000  \n",
       "BusinessAcceptsBitcoin                    0.000000  \n",
       "BusinessAcceptsCreditCards                1.000000  \n",
       "ByAppointmentOnly                         0.000000  \n",
       "Caters                                    1.000000  \n",
       "CoatCheck                                 0.000000  \n",
       "Corkage                                   0.000000  \n",
       "DogsAllowed                               0.000000  \n",
       "DriveThru                                 0.000000  \n",
       "GoodForDancing                            0.000000  \n",
       "GoodForKids                               1.000000  \n",
       "HappyHour                                 0.000000  \n",
       "HasTV                                     0.000000  \n",
       "Open24Hours                               0.000000  \n",
       "OutdoorSeating                            0.000000  \n",
       "RestaurantsCounterService                 0.000000  \n",
       "RestaurantsDelivery                       0.000000  \n",
       "RestaurantsGoodForGroups                  0.000000  \n",
       "RestaurantsReservations                   0.000000  \n",
       "RestaurantsTableService                   0.000000  \n",
       "RestaurantsTakeOut                        1.000000  \n",
       "WheelchairAccessible                      1.000000  \n",
       "is_open                                   0.000000  \n",
       "latitude                                 39.949183  \n",
       "longitude                               -75.164777  \n",
       "review_count                              6.000000  \n",
       "stars                                     2.500000  \n",
       "\n",
       "[29 rows x 10000 columns]"
      ]
     },
     "execution_count": 107,
     "metadata": {},
     "output_type": "execute_result"
    }
   ],
   "source": [
    "df_crosstab = df[:10000].pivot_table(columns='business_id')\n",
    "df_crosstab"
   ]
  },
  {
   "cell_type": "code",
   "execution_count": 108,
   "id": "ec93b291",
   "metadata": {},
   "outputs": [],
   "source": [
    "import sklearn\n",
    "from sklearn.decomposition import TruncatedSVD\n",
    "import numpy as np"
   ]
  },
  {
   "cell_type": "code",
   "execution_count": 109,
   "id": "85611231",
   "metadata": {},
   "outputs": [
    {
     "data": {
      "text/plain": [
       "(10000, 29)"
      ]
     },
     "execution_count": 109,
     "metadata": {},
     "output_type": "execute_result"
    }
   ],
   "source": [
    "X = df_crosstab.T\n",
    "X.shape "
   ]
  },
  {
   "cell_type": "code",
   "execution_count": 110,
   "id": "d54c253d",
   "metadata": {},
   "outputs": [
    {
     "data": {
      "text/plain": [
       "(10000, 12)"
      ]
     },
     "execution_count": 110,
     "metadata": {},
     "output_type": "execute_result"
    }
   ],
   "source": [
    "SVD = TruncatedSVD(n_components=12, random_state=17)\n",
    "\n",
    "resultant_matrix = SVD.fit_transform(X)\n",
    "\n",
    "resultant_matrix.shape"
   ]
  },
  {
   "cell_type": "code",
   "execution_count": 111,
   "id": "16b98c84",
   "metadata": {},
   "outputs": [
    {
     "data": {
      "text/plain": [
       "(10000, 10000)"
      ]
     },
     "execution_count": 111,
     "metadata": {},
     "output_type": "execute_result"
    }
   ],
   "source": [
    "corr_mat = np.corrcoef(resultant_matrix)\n",
    "corr_mat.shape"
   ]
  },
  {
   "cell_type": "code",
   "execution_count": 112,
   "id": "99b1e4e4",
   "metadata": {},
   "outputs": [
    {
     "data": {
      "text/plain": [
       "array([[1.        , 0.9606171 , 0.97983146, ..., 0.96923037, 0.96396349,\n",
       "        0.96364968],\n",
       "       [0.9606171 , 1.        , 0.99364594, ..., 0.99621229, 0.98732646,\n",
       "        0.98673455],\n",
       "       [0.97983146, 0.99364594, 1.        , ..., 0.98944104, 0.99535295,\n",
       "        0.99526187],\n",
       "       ...,\n",
       "       [0.96923037, 0.99621229, 0.98944104, ..., 1.        , 0.9752374 ,\n",
       "        0.97525053],\n",
       "       [0.96396349, 0.98732646, 0.99535295, ..., 0.9752374 , 1.        ,\n",
       "        0.99913376],\n",
       "       [0.96364968, 0.98673455, 0.99526187, ..., 0.97525053, 0.99913376,\n",
       "        1.        ]])"
      ]
     },
     "execution_count": 112,
     "metadata": {},
     "output_type": "execute_result"
    }
   ],
   "source": [
    "corr_mat"
   ]
  },
  {
   "cell_type": "code",
   "execution_count": 114,
   "id": "2190fc0e",
   "metadata": {},
   "outputs": [
    {
     "name": "stdout",
     "output_type": "stream",
     "text": [
      "The index number to the business is: \n",
      "15\n"
     ]
    }
   ],
   "source": [
    "biz_id = df_crosstab.columns\n",
    "biz_list = list(biz_id)\n",
    "biz_names = [df[df.business_id == k]['name'].values[0] for k in biz_id]\n",
    "\n",
    "Pathmark = biz_list.index('-4dYswJy7SPcbcERvitmIg')\n",
    "print (\"The index number to the business is: \")\n",
    "print (Pathmark)"
   ]
  },
  {
   "cell_type": "code",
   "execution_count": 115,
   "id": "13d7a3ee",
   "metadata": {},
   "outputs": [
    {
     "data": {
      "text/plain": [
       "76    Pathmark\n",
       "Name: name, dtype: object"
      ]
     },
     "execution_count": 115,
     "metadata": {},
     "output_type": "execute_result"
    }
   ],
   "source": [
    "df[df.business_id == '-4dYswJy7SPcbcERvitmIg']['name']"
   ]
  },
  {
   "cell_type": "code",
   "execution_count": 116,
   "id": "68d85888",
   "metadata": {},
   "outputs": [
    {
     "data": {
      "text/plain": [
       "array([1.        , 0.9606171 , 0.97983146, ..., 0.96923037, 0.96396349,\n",
       "       0.96364968])"
      ]
     },
     "execution_count": 116,
     "metadata": {},
     "output_type": "execute_result"
    }
   ],
   "source": [
    "corr_Pathmark = corr_mat[0]\n",
    "corr_Pathmark"
   ]
  },
  {
   "cell_type": "code",
   "execution_count": 37,
   "id": "7b60f455",
   "metadata": {},
   "outputs": [],
   "source": [
    "# len(biz_id)"
   ]
  },
  {
   "cell_type": "code",
   "execution_count": 151,
   "id": "6083865c",
   "metadata": {},
   "outputs": [
    {
     "data": {
      "text/plain": [
       "'-0Ym1Wg3bXd_TDz8JtvOQg'"
      ]
     },
     "execution_count": 151,
     "metadata": {},
     "output_type": "execute_result"
    }
   ],
   "source": [
    "INDEX = 4\n",
    "biz_list[INDEX]"
   ]
  },
  {
   "cell_type": "code",
   "execution_count": 153,
   "id": "6086ef91",
   "metadata": {},
   "outputs": [
    {
     "data": {
      "text/plain": [
       "4"
      ]
     },
     "execution_count": 153,
     "metadata": {},
     "output_type": "execute_result"
    }
   ],
   "source": [
    "biz_list.index(biz_list[4])"
   ]
  },
  {
   "cell_type": "code",
   "execution_count": 154,
   "id": "fbc8c4dc",
   "metadata": {},
   "outputs": [
    {
     "data": {
      "text/plain": [
       "8217    Yelo'd Ice Cream\n",
       "Name: name, dtype: object"
      ]
     },
     "execution_count": 154,
     "metadata": {},
     "output_type": "execute_result"
    }
   ],
   "source": [
    "df[df.business_id == biz_list[INDEX]]['name']"
   ]
  },
  {
   "cell_type": "code",
   "execution_count": 155,
   "id": "753edb98",
   "metadata": {},
   "outputs": [],
   "source": [
    "biz_index = zip(biz_id, range(0, len(biz_id)), biz_names)\n",
    "biz_index = list(biz_index)"
   ]
  },
  {
   "cell_type": "code",
   "execution_count": 156,
   "id": "7c3a8fab",
   "metadata": {},
   "outputs": [
    {
     "data": {
      "text/plain": [
       "[('--ZVrH2X2QXBFdCilbirsw', 0, \"Chris's Sandwich Shop\"),\n",
       " ('--_9CAxgfXZmoFdNIRrhHA', 1, 'USPS'),\n",
       " ('--hF_3v1JmU9nlu4zfXJ8Q', 2, 'Green District Salads - Monument Circle'),\n",
       " ('-02xFuruu85XmDn2xiynJw', 3, 'Family Vision Center'),\n",
       " ('-0Ym1Wg3bXd_TDz8JtvOQg', 4, \"Yelo'd Ice Cream\")]"
      ]
     },
     "execution_count": 156,
     "metadata": {},
     "output_type": "execute_result"
    }
   ],
   "source": [
    "biz_index[:5]"
   ]
  },
  {
   "cell_type": "code",
   "execution_count": 163,
   "id": "19c0b85c",
   "metadata": {},
   "outputs": [
    {
     "data": {
      "text/plain": [
       "[('BneXfQCiGY7yBiumOe7GCw', 2000, \"Rilling's Bucks County Bakery\"),\n",
       " ('BoZxrV1sidq6C7sMNpxdXQ', 2001, 'Kenyon & Associates'),\n",
       " ('BpMY8lZ0Q82q2Ix3yeu8YA', 2002, 'Rod The Roofer'),\n",
       " ('Bpsjv33VVejQHpTFjKw-4A', 2003, \"Heaven's Best Carpet Cleaning Lake Tahoe\"),\n",
       " ('BrYoQyygyIb-FsVJ0AMpLg', 2004, 'A Matter of Taste'),\n",
       " ('Brfjd29eQybUzNlgN4Snxw', 2005, \"Sam's Clothing & Shoes\"),\n",
       " ('BsLdamQG0pW4h9yF0oygWA', 2006, 'Spring Valley Dental Group'),\n",
       " ('BsfZ3P6huGAVXG1TdZpQ6A', 2007, 'Kirshner Landscapes'),\n",
       " ('Bt7NBqA31uOI4H_hvasLLg', 2008, \"HORN'S EATERY\"),\n",
       " ('BtXwqcJq0xS607Hsq5Wq1A', 2009, 'Starbucks')]"
      ]
     },
     "execution_count": 163,
     "metadata": {},
     "output_type": "execute_result"
    }
   ],
   "source": [
    "biz_index[2000:2010]"
   ]
  },
  {
   "cell_type": "code",
   "execution_count": 164,
   "id": "35c900f1",
   "metadata": {},
   "outputs": [
    {
     "data": {
      "text/plain": [
       "[\"Chris's Sandwich Shop\",\n",
       " 'USPS',\n",
       " 'Green District Salads - Monument Circle',\n",
       " \"David's Southern Fried Pies\",\n",
       " 'Greek Sotir Grill']"
      ]
     },
     "execution_count": 164,
     "metadata": {},
     "output_type": "execute_result"
    }
   ],
   "source": [
    "INDEX = 2002\n",
    "\n",
    "corr_biz = corr_mat[INDEX]\n",
    "\n",
    "biz_sim = list(biz_id[(corr_biz<1.0) & (corr_biz > 0.9)])[:5]\n",
    "[df[df.business_id == k]['name'].values[0] for k in biz_sim]"
   ]
  },
  {
   "cell_type": "code",
   "execution_count": 41,
   "id": "85ea6360",
   "metadata": {},
   "outputs": [],
   "source": [
    "# list(biz_id[(corr_biz<1.0) & (corr_biz > 0.9)])"
   ]
  },
  {
   "cell_type": "code",
   "execution_count": 38,
   "id": "c06d0405",
   "metadata": {},
   "outputs": [
    {
     "data": {
      "text/plain": [
       "120    1\n",
       "Name: is_open, dtype: int64"
      ]
     },
     "execution_count": 38,
     "metadata": {},
     "output_type": "execute_result"
    }
   ],
   "source": [
    "df[(df.name == 'Tinkle Belle Diaper Service')]['is_open']"
   ]
  },
  {
   "cell_type": "markdown",
   "id": "f446152f",
   "metadata": {},
   "source": [
    "https://medium.com/sfu-cspmp/recommendation-systems-collaborative-filtering-using-matrix-factorization-simplified-2118f4ef2cd3"
   ]
  },
  {
   "cell_type": "markdown",
   "id": "87d79c86",
   "metadata": {},
   "source": [
    "## Build Count Vectorizer for Yelp Categories"
   ]
  },
  {
   "cell_type": "code",
   "execution_count": 1,
   "id": "ea5ef6c0",
   "metadata": {},
   "outputs": [],
   "source": [
    "from sklearn.feature_extraction.text import CountVectorizer, TfidfVectorizer\n",
    "from sklearn.metrics.pairwise import cosine_similarity\n",
    "import pandas as pd\n",
    "import numpy as np\n",
    "import pymongo\n",
    "from pymongo import MongoClient\n",
    "from sklearn.model_selection import train_test_split"
   ]
  },
  {
   "cell_type": "code",
   "execution_count": 2,
   "id": "955a670a",
   "metadata": {},
   "outputs": [],
   "source": [
    "client = MongoClient()\n",
    "client.list_database_names()\n",
    "db = client.yelp\n",
    "collection = db.yelp"
   ]
  },
  {
   "cell_type": "code",
   "execution_count": 3,
   "id": "bc850466",
   "metadata": {},
   "outputs": [
    {
     "data": {
      "text/plain": [
       "{'_id': ObjectId('622df7606737c2d75b919c1b'),\n",
       " 'business_id': 'Pns2l4eNsfO8kk83dixA6A',\n",
       " 'name': 'Abby Rappoport, LAC, CMQ',\n",
       " 'address': '1616 Chapala St, Ste 2',\n",
       " 'city': 'Santa Barbara',\n",
       " 'state': 'CA',\n",
       " 'postal_code': '93101',\n",
       " 'latitude': 34.4266787,\n",
       " 'longitude': -119.7111968,\n",
       " 'stars': 5.0,\n",
       " 'review_count': 7,\n",
       " 'is_open': 0,\n",
       " 'attributes': {'ByAppointmentOnly': 'True'},\n",
       " 'categories': 'Doctors, Traditional Chinese Medicine, Naturopathic/Holistic, Acupuncture, Health & Medical, Nutritionists',\n",
       " 'hours': None}"
      ]
     },
     "execution_count": 3,
     "metadata": {},
     "output_type": "execute_result"
    }
   ],
   "source": [
    "db.yelp.find_one({})"
   ]
  },
  {
   "cell_type": "code",
   "execution_count": 4,
   "id": "606ddec1",
   "metadata": {},
   "outputs": [
    {
     "data": {
      "text/plain": [
       "(150346, 15)"
      ]
     },
     "execution_count": 4,
     "metadata": {},
     "output_type": "execute_result"
    }
   ],
   "source": [
    "# load data from MongoDB:\n",
    "# db.drop_collection('yelp')\n",
    "\n",
    "df_biz = pd.DataFrame(list(collection.find()))\n",
    "df_biz.shape"
   ]
  },
  {
   "cell_type": "code",
   "execution_count": 5,
   "id": "57d955a1",
   "metadata": {},
   "outputs": [
    {
     "data": {
      "text/plain": [
       "Database(MongoClient(host=['localhost:27017'], document_class=dict, tz_aware=False, connect=True), 'yelp')"
      ]
     },
     "execution_count": 5,
     "metadata": {},
     "output_type": "execute_result"
    }
   ],
   "source": [
    "db"
   ]
  },
  {
   "cell_type": "code",
   "execution_count": 6,
   "id": "a8a42fea",
   "metadata": {},
   "outputs": [
    {
     "data": {
      "text/plain": [
       "(150346, 54)"
      ]
     },
     "execution_count": 6,
     "metadata": {},
     "output_type": "execute_result"
    }
   ],
   "source": [
    "# df_biz = load_data(\"yelp_academic_dataset_business.json\")\n",
    "df = pd.concat([df_biz, pd.json_normalize(df_biz['attributes']).fillna('None')], axis=1)\n",
    "df['categories'] = [str(k).split(',') for k in df_biz['categories']]\n",
    "del df_biz\n",
    "df.shape"
   ]
  },
  {
   "cell_type": "code",
   "execution_count": 7,
   "id": "ce33c5e5",
   "metadata": {},
   "outputs": [
    {
     "data": {
      "text/plain": [
       "0    [Doctors,  Traditional Chinese Medicine,  Natu...\n",
       "1    [Shipping Centers,  Local Services,  Notaries,...\n",
       "2    [Department Stores,  Shopping,  Fashion,  Home...\n",
       "3    [Restaurants,  Food,  Bubble Tea,  Coffee & Te...\n",
       "4                        [Brewpubs,  Breweries,  Food]\n",
       "Name: categories, dtype: object"
      ]
     },
     "execution_count": 7,
     "metadata": {},
     "output_type": "execute_result"
    }
   ],
   "source": [
    "df.categories.head()"
   ]
  },
  {
   "cell_type": "markdown",
   "id": "ffa29299",
   "metadata": {},
   "source": [
    "An end user goes onto a particular business' profile, and quickly learned that the business is currently not `open`! Yelp needs to quickly create a list of very similar businesses to eat at given their current selection:"
   ]
  },
  {
   "cell_type": "code",
   "execution_count": 8,
   "id": "866444c6",
   "metadata": {},
   "outputs": [
    {
     "data": {
      "text/html": [
       "<div>\n",
       "<style scoped>\n",
       "    .dataframe tbody tr th:only-of-type {\n",
       "        vertical-align: middle;\n",
       "    }\n",
       "\n",
       "    .dataframe tbody tr th {\n",
       "        vertical-align: top;\n",
       "    }\n",
       "\n",
       "    .dataframe thead th {\n",
       "        text-align: right;\n",
       "    }\n",
       "</style>\n",
       "<table border=\"1\" class=\"dataframe\">\n",
       "  <thead>\n",
       "    <tr style=\"text-align: right;\">\n",
       "      <th></th>\n",
       "      <th>_id</th>\n",
       "      <th>business_id</th>\n",
       "      <th>name</th>\n",
       "      <th>address</th>\n",
       "      <th>city</th>\n",
       "      <th>state</th>\n",
       "      <th>postal_code</th>\n",
       "      <th>latitude</th>\n",
       "      <th>longitude</th>\n",
       "      <th>stars</th>\n",
       "      <th>...</th>\n",
       "      <th>AcceptsInsurance</th>\n",
       "      <th>BestNights</th>\n",
       "      <th>BYOB</th>\n",
       "      <th>Corkage</th>\n",
       "      <th>BYOBCorkage</th>\n",
       "      <th>HairSpecializesIn</th>\n",
       "      <th>Open24Hours</th>\n",
       "      <th>RestaurantsCounterService</th>\n",
       "      <th>AgesAllowed</th>\n",
       "      <th>DietaryRestrictions</th>\n",
       "    </tr>\n",
       "  </thead>\n",
       "  <tbody>\n",
       "    <tr>\n",
       "      <th>0</th>\n",
       "      <td>622df7606737c2d75b919c1b</td>\n",
       "      <td>Pns2l4eNsfO8kk83dixA6A</td>\n",
       "      <td>Abby Rappoport, LAC, CMQ</td>\n",
       "      <td>1616 Chapala St, Ste 2</td>\n",
       "      <td>Santa Barbara</td>\n",
       "      <td>CA</td>\n",
       "      <td>93101</td>\n",
       "      <td>34.426679</td>\n",
       "      <td>-119.711197</td>\n",
       "      <td>5.0</td>\n",
       "      <td>...</td>\n",
       "      <td>None</td>\n",
       "      <td>None</td>\n",
       "      <td>None</td>\n",
       "      <td>None</td>\n",
       "      <td>None</td>\n",
       "      <td>None</td>\n",
       "      <td>None</td>\n",
       "      <td>None</td>\n",
       "      <td>None</td>\n",
       "      <td>None</td>\n",
       "    </tr>\n",
       "    <tr>\n",
       "      <th>53</th>\n",
       "      <td>622df7616737c2d75b919c50</td>\n",
       "      <td>cVBxfMC4lp3DnocjYA3FHQ</td>\n",
       "      <td>Paws The Cat Cafe</td>\n",
       "      <td>10588 109 Street</td>\n",
       "      <td>Edmonton</td>\n",
       "      <td>AB</td>\n",
       "      <td>T5H 3B2</td>\n",
       "      <td>53.549633</td>\n",
       "      <td>-113.508780</td>\n",
       "      <td>5.0</td>\n",
       "      <td>...</td>\n",
       "      <td>None</td>\n",
       "      <td>None</td>\n",
       "      <td>None</td>\n",
       "      <td>None</td>\n",
       "      <td>None</td>\n",
       "      <td>None</td>\n",
       "      <td>None</td>\n",
       "      <td>None</td>\n",
       "      <td>None</td>\n",
       "      <td>None</td>\n",
       "    </tr>\n",
       "    <tr>\n",
       "      <th>168</th>\n",
       "      <td>622df7616737c2d75b919cc3</td>\n",
       "      <td>yswijv6wP2fKbMqAiEZ0vw</td>\n",
       "      <td>Reno Bighorns</td>\n",
       "      <td>400 N Center St</td>\n",
       "      <td>Reno</td>\n",
       "      <td>NV</td>\n",
       "      <td>89501</td>\n",
       "      <td>39.530924</td>\n",
       "      <td>-119.812260</td>\n",
       "      <td>5.0</td>\n",
       "      <td>...</td>\n",
       "      <td>None</td>\n",
       "      <td>None</td>\n",
       "      <td>None</td>\n",
       "      <td>None</td>\n",
       "      <td>None</td>\n",
       "      <td>None</td>\n",
       "      <td>None</td>\n",
       "      <td>None</td>\n",
       "      <td>None</td>\n",
       "      <td>None</td>\n",
       "    </tr>\n",
       "    <tr>\n",
       "      <th>289</th>\n",
       "      <td>622df7616737c2d75b919d3c</td>\n",
       "      <td>gRHd5bRosRWQBckzPawf-w</td>\n",
       "      <td>Blue Wren Studio</td>\n",
       "      <td>1043 Virginia Ave, Ste 214</td>\n",
       "      <td>Indianapolis</td>\n",
       "      <td>IN</td>\n",
       "      <td>46203</td>\n",
       "      <td>39.752691</td>\n",
       "      <td>-86.140975</td>\n",
       "      <td>5.0</td>\n",
       "      <td>...</td>\n",
       "      <td>None</td>\n",
       "      <td>None</td>\n",
       "      <td>None</td>\n",
       "      <td>None</td>\n",
       "      <td>None</td>\n",
       "      <td>None</td>\n",
       "      <td>None</td>\n",
       "      <td>None</td>\n",
       "      <td>None</td>\n",
       "      <td>None</td>\n",
       "    </tr>\n",
       "    <tr>\n",
       "      <th>307</th>\n",
       "      <td>622df7616737c2d75b919d4e</td>\n",
       "      <td>aNLr1j_3CZ46rqiUeLaQ-A</td>\n",
       "      <td>Chinatown Market Shoe Repair And Tailor</td>\n",
       "      <td>143 N 11th St</td>\n",
       "      <td>Philadelphia</td>\n",
       "      <td>PA</td>\n",
       "      <td>19107</td>\n",
       "      <td>39.955127</td>\n",
       "      <td>-75.157442</td>\n",
       "      <td>5.0</td>\n",
       "      <td>...</td>\n",
       "      <td>None</td>\n",
       "      <td>None</td>\n",
       "      <td>None</td>\n",
       "      <td>None</td>\n",
       "      <td>None</td>\n",
       "      <td>None</td>\n",
       "      <td>None</td>\n",
       "      <td>None</td>\n",
       "      <td>None</td>\n",
       "      <td>None</td>\n",
       "    </tr>\n",
       "  </tbody>\n",
       "</table>\n",
       "<p>5 rows × 54 columns</p>\n",
       "</div>"
      ],
      "text/plain": [
       "                          _id             business_id  \\\n",
       "0    622df7606737c2d75b919c1b  Pns2l4eNsfO8kk83dixA6A   \n",
       "53   622df7616737c2d75b919c50  cVBxfMC4lp3DnocjYA3FHQ   \n",
       "168  622df7616737c2d75b919cc3  yswijv6wP2fKbMqAiEZ0vw   \n",
       "289  622df7616737c2d75b919d3c  gRHd5bRosRWQBckzPawf-w   \n",
       "307  622df7616737c2d75b919d4e  aNLr1j_3CZ46rqiUeLaQ-A   \n",
       "\n",
       "                                        name                     address  \\\n",
       "0                   Abby Rappoport, LAC, CMQ      1616 Chapala St, Ste 2   \n",
       "53                         Paws The Cat Cafe            10588 109 Street   \n",
       "168                            Reno Bighorns             400 N Center St   \n",
       "289                         Blue Wren Studio  1043 Virginia Ave, Ste 214   \n",
       "307  Chinatown Market Shoe Repair And Tailor               143 N 11th St   \n",
       "\n",
       "              city state postal_code   latitude   longitude  stars  ...  \\\n",
       "0    Santa Barbara    CA       93101  34.426679 -119.711197    5.0  ...   \n",
       "53        Edmonton    AB     T5H 3B2  53.549633 -113.508780    5.0  ...   \n",
       "168           Reno    NV       89501  39.530924 -119.812260    5.0  ...   \n",
       "289   Indianapolis    IN       46203  39.752691  -86.140975    5.0  ...   \n",
       "307   Philadelphia    PA       19107  39.955127  -75.157442    5.0  ...   \n",
       "\n",
       "     AcceptsInsurance  BestNights  BYOB Corkage BYOBCorkage HairSpecializesIn  \\\n",
       "0                None        None  None    None        None              None   \n",
       "53               None        None  None    None        None              None   \n",
       "168              None        None  None    None        None              None   \n",
       "289              None        None  None    None        None              None   \n",
       "307              None        None  None    None        None              None   \n",
       "\n",
       "    Open24Hours RestaurantsCounterService AgesAllowed DietaryRestrictions  \n",
       "0          None                      None        None                None  \n",
       "53         None                      None        None                None  \n",
       "168        None                      None        None                None  \n",
       "289        None                      None        None                None  \n",
       "307        None                      None        None                None  \n",
       "\n",
       "[5 rows x 54 columns]"
      ]
     },
     "execution_count": 8,
     "metadata": {},
     "output_type": "execute_result"
    }
   ],
   "source": [
    "df[(df.is_open == 0) & (df.stars == 5.0)].head()"
   ]
  },
  {
   "cell_type": "code",
   "execution_count": 9,
   "id": "05c94786",
   "metadata": {},
   "outputs": [
    {
     "data": {
      "text/plain": [
       "0    145972\n",
       "1      4374\n",
       "Name: DriveThru, dtype: int64"
      ]
     },
     "execution_count": 9,
     "metadata": {},
     "output_type": "execute_result"
    }
   ],
   "source": [
    "def get_dummy(x):\n",
    "    if x == \"True\":\n",
    "        return 1\n",
    "    else:\n",
    "        return 0\n",
    "\n",
    "attribute_list = list(pd.json_normalize(df['attributes']).columns)\n",
    "\n",
    "non_bool = []\n",
    "\n",
    "for i in attribute_list:\n",
    "    count =(df[i].nunique())\n",
    "    if count >3:\n",
    "        non_bool.append(i)\n",
    "        \n",
    "subset = [k for k in attribute_list if k not in non_bool]\n",
    "\n",
    "\n",
    "for i in subset:\n",
    "\n",
    "    df[i] = df[i].apply(get_dummy)\n",
    "    \n",
    "subset.extend(['business_id', 'stars'])    \n",
    "df['DriveThru'].value_counts()"
   ]
  },
  {
   "cell_type": "code",
   "execution_count": 10,
   "id": "2a29f192",
   "metadata": {},
   "outputs": [
    {
     "data": {
      "text/plain": [
       "[(0, 'Abby Rappoport, LAC, CMQ', 'Pns2l4eNsfO8kk83dixA6A'),\n",
       " (1, 'The UPS Store', 'mpf3x-BjTdTEA3yCZrAYPw'),\n",
       " (2, 'Target', 'tUFrWirKiKi_TAnsVWINQQ'),\n",
       " (3, 'St Honore Pastries', 'MTSW4McQd7CbVtyjqoe9mw'),\n",
       " (4, 'Perkiomen Valley Brewery', 'mWMc6_wTdE0EUBKIGXDVfA')]"
      ]
     },
     "execution_count": 10,
     "metadata": {},
     "output_type": "execute_result"
    }
   ],
   "source": [
    "list(zip(df.index, df.name, df.business_id))[:5]"
   ]
  },
  {
   "cell_type": "code",
   "execution_count": 11,
   "id": "2a8658bf",
   "metadata": {},
   "outputs": [],
   "source": [
    "# define X and y\n",
    "x = df.categories.to_list()\n",
    "\n",
    "# y = stars\n",
    "# # Null accuracy\n",
    "# y.value_counts(normalize = True)\n",
    "\n",
    "# # split data into training and testing sets\n",
    "# X_train, X_test, y_train, y_test = train_test_split(X, y, random_state=1)"
   ]
  },
  {
   "cell_type": "code",
   "execution_count": 12,
   "id": "fe5e8814",
   "metadata": {},
   "outputs": [
    {
     "data": {
      "text/plain": [
       "[['Doctors',\n",
       "  ' Traditional Chinese Medicine',\n",
       "  ' Naturopathic/Holistic',\n",
       "  ' Acupuncture',\n",
       "  ' Health & Medical',\n",
       "  ' Nutritionists'],\n",
       " ['Shipping Centers',\n",
       "  ' Local Services',\n",
       "  ' Notaries',\n",
       "  ' Mailbox Centers',\n",
       "  ' Printing Services']]"
      ]
     },
     "execution_count": 12,
     "metadata": {},
     "output_type": "execute_result"
    }
   ],
   "source": [
    "x[:2]"
   ]
  },
  {
   "cell_type": "code",
   "execution_count": 13,
   "id": "783209fe",
   "metadata": {},
   "outputs": [
    {
     "data": {
      "text/plain": [
       "(150346, 2455)"
      ]
     },
     "execution_count": 13,
     "metadata": {},
     "output_type": "execute_result"
    }
   ],
   "source": [
    "# Count vectorizer for list of lists (x):\n",
    "vectorizer = CountVectorizer(analyzer=lambda x: x)\n",
    "X_vect = vectorizer.fit_transform(x)\n",
    "X_vect.shape"
   ]
  },
  {
   "cell_type": "code",
   "execution_count": 14,
   "id": "5336543b",
   "metadata": {},
   "outputs": [
    {
     "name": "stdout",
     "output_type": "stream",
     "text": [
      "[' & Probates', ' 3D Printing', ' ATV Rentals/Tours', ' Acai Bowls', ' Accessories']\n"
     ]
    }
   ],
   "source": [
    "print(vectorizer.get_feature_names()[:5])"
   ]
  },
  {
   "cell_type": "code",
   "execution_count": 15,
   "id": "05b40af7",
   "metadata": {},
   "outputs": [],
   "source": [
    "prodn_dict = {}\n",
    "prodn_dict['categories'] = vectorizer.get_feature_names()\n",
    "prodn_dict['attributes'] = list(df[subset].columns)"
   ]
  },
  {
   "cell_type": "code",
   "execution_count": 16,
   "id": "b6655e7c",
   "metadata": {},
   "outputs": [],
   "source": [
    "# np.concatenate((X_vect.toarray(), np.array(df_[subset])),axis=1).shape"
   ]
  },
  {
   "cell_type": "code",
   "execution_count": 17,
   "id": "3fd67f48",
   "metadata": {},
   "outputs": [
    {
     "data": {
      "text/plain": [
       "is_open\n",
       "0    20380\n",
       "1    79620\n",
       "Name: _id, dtype: int64"
      ]
     },
     "execution_count": 17,
     "metadata": {},
     "output_type": "execute_result"
    }
   ],
   "source": [
    "df[:100000].groupby('is_open')['_id'].count()"
   ]
  },
  {
   "cell_type": "code",
   "execution_count": 18,
   "id": "8ab08a42",
   "metadata": {},
   "outputs": [
    {
     "data": {
      "text/plain": [
       "numpy.ndarray"
      ]
     },
     "execution_count": 18,
     "metadata": {},
     "output_type": "execute_result"
    }
   ],
   "source": [
    "dist = cosine_similarityine_similarity(X_vect[:100000].toarray().astype('float32'))\n",
    "type(dist)"
   ]
  },
  {
   "cell_type": "code",
   "execution_count": 20,
   "id": "669444ac",
   "metadata": {},
   "outputs": [],
   "source": [
    "# SAVE FILES:\n",
    "np.save('/Users/darrenlee/Documents/YELP_DATA/cosineSim_modelFile.npy', dist) # save\n",
    "# LOAD\n",
    "# new_num_arr = np.load('/Users/darrenlee/Documents/YELP_DATA/cosineSim_modelFile.npy') "
   ]
  },
  {
   "cell_type": "code",
   "execution_count": 29,
   "id": "a115222e",
   "metadata": {},
   "outputs": [
    {
     "data": {
      "text/plain": [
       "(100000, 100000)"
      ]
     },
     "execution_count": 29,
     "metadata": {},
     "output_type": "execute_result"
    }
   ],
   "source": [
    "dist = np.load('/Users/darrenlee/Documents/YELP_DATA/cosineSim_modelFile.npy') \n",
    "dist.shape"
   ]
  },
  {
   "cell_type": "code",
   "execution_count": 30,
   "id": "e0e77dfb",
   "metadata": {},
   "outputs": [],
   "source": [
    "del dist_np"
   ]
  },
  {
   "cell_type": "code",
   "execution_count": 20,
   "id": "d09f0235",
   "metadata": {},
   "outputs": [
    {
     "data": {
      "text/plain": [
       "(100000, 100000)"
      ]
     },
     "execution_count": 20,
     "metadata": {},
     "output_type": "execute_result"
    }
   ],
   "source": [
    "df_dist = pd.DataFrame(dist)\n",
    "df_dist.shape"
   ]
  },
  {
   "cell_type": "code",
   "execution_count": null,
   "id": "d1434c5f",
   "metadata": {
    "scrolled": true
   },
   "outputs": [],
   "source": [
    "df_dist.to_csv('/Users/darrenlee/Documents/YELP_DATA/cosineSim_modelFile.csv', sep=',', index=True)"
   ]
  },
  {
   "cell_type": "code",
   "execution_count": 52,
   "id": "aa74b704",
   "metadata": {},
   "outputs": [
    {
     "data": {
      "text/plain": [
       "46161"
      ]
     },
     "execution_count": 52,
     "metadata": {},
     "output_type": "execute_result"
    }
   ],
   "source": [
    "df[df.name == 'Beanstalk Kids'].index[0]"
   ]
  },
  {
   "cell_type": "code",
   "execution_count": 53,
   "id": "fe161a9d",
   "metadata": {
    "scrolled": true
   },
   "outputs": [
    {
     "data": {
      "text/plain": [
       "'Beanstalk Kids'"
      ]
     },
     "execution_count": 53,
     "metadata": {},
     "output_type": "execute_result"
    }
   ],
   "source": [
    "INDEX = 46161\n",
    "dist_column = df_dist[INDEX]\n",
    "df.iloc[INDEX]['name']"
   ]
  },
  {
   "cell_type": "code",
   "execution_count": 54,
   "id": "06fdd01e",
   "metadata": {},
   "outputs": [
    {
     "data": {
      "text/plain": [
       "['Used',\n",
       " ' Vintage & Consignment',\n",
       " ' Baby Gear & Furniture',\n",
       " ' Shopping',\n",
       " ' Maternity Wear',\n",
       " ' Musical Instruments & Teachers',\n",
       " ' Fashion']"
      ]
     },
     "execution_count": 54,
     "metadata": {},
     "output_type": "execute_result"
    }
   ],
   "source": [
    "df.iloc[INDEX]['categories']"
   ]
  },
  {
   "cell_type": "code",
   "execution_count": 55,
   "id": "1efaba60",
   "metadata": {},
   "outputs": [
    {
     "data": {
      "text/plain": [
       "[55896,\n",
       " 90946,\n",
       " 48478,\n",
       " 6682,\n",
       " 9526,\n",
       " 16961,\n",
       " 20567,\n",
       " 29137,\n",
       " 38433,\n",
       " 47898,\n",
       " 52552,\n",
       " 57446,\n",
       " 60633,\n",
       " 61895,\n",
       " 68711,\n",
       " 83406,\n",
       " 84712,\n",
       " 97128,\n",
       " 13395]"
      ]
     },
     "execution_count": 55,
     "metadata": {},
     "output_type": "execute_result"
    }
   ],
   "source": [
    "#Get the index values of the 10 \n",
    "\n",
    "closest_index = dist_column.nlargest(20).index[1:].tolist()\n",
    "closest_index"
   ]
  },
  {
   "cell_type": "code",
   "execution_count": 57,
   "id": "124cb6fa",
   "metadata": {
    "scrolled": true
   },
   "outputs": [
    {
     "name": "stdout",
     "output_type": "stream",
     "text": [
      "Beanstalk Kids :  ['Used', ' Vintage & Consignment', ' Baby Gear & Furniture', ' Shopping', ' Maternity Wear', ' Musical Instruments & Teachers', ' Fashion'] {'BusinessParking': \"{'garage': False, 'street': False, 'validated': False, 'lot': False, 'valet': False}\", 'BusinessAcceptsCreditCards': 'True', 'RestaurantsPriceRange2': '4', 'WheelchairAccessible': 'True', 'BikeParking': 'True'}\n",
      "\n",
      "55896\n",
      "Once Upon a Child :  ['Used', ' Vintage & Consignment', ' Shopping', ' Baby Gear & Furniture', ' Fashion'] {'BusinessAcceptsCreditCards': 'True', 'BusinessParking': \"{'garage': False, 'street': False, 'validated': False, 'lot': True, 'valet': False}\", 'WheelchairAccessible': 'True', 'BikeParking': 'False', 'RestaurantsPriceRange2': '2'}\n",
      "Cosine Similarity Score: 0.9958262\n",
      "\n",
      "6682\n",
      "Goodwill Industries :  ['Used', ' Vintage & Consignment', ' Shopping', ' Fashion'] {'BusinessParking': \"{'garage': False, 'street': False, 'validated': False, 'lot': True, 'valet': False}\", 'BusinessAcceptsCreditCards': 'True', 'BikeParking': 'True', 'RestaurantsPriceRange2': '1'}\n",
      "Cosine Similarity Score: 0.99251384\n",
      "\n",
      "20567\n",
      "Donna's Consignment Boutique Consignment :  ['Used', ' Vintage & Consignment', ' Shopping', ' Fashion'] {'BusinessAcceptsCreditCards': 'True', 'BusinessParking': \"{'garage': False, 'street': False, 'validated': False, 'lot': False, 'valet': False}\", 'BikeParking': 'True', 'RestaurantsPriceRange2': '2'}\n",
      "Cosine Similarity Score: 0.99251384\n",
      "\n",
      "47898\n",
      "Second Seitz :  ['Used', ' Vintage & Consignment', ' Shopping', ' Fashion'] {'RestaurantsPriceRange2': '1'}\n",
      "Cosine Similarity Score: 0.99251384\n",
      "\n",
      "52552\n",
      "Once & Again Consignment :  ['Used', ' Vintage & Consignment', ' Fashion', ' Shopping'] {'BusinessAcceptsCreditCards': 'True'}\n",
      "Cosine Similarity Score: 0.99251384\n",
      "\n",
      "57446\n",
      "Revivals Boutique :  ['Used', ' Vintage & Consignment', ' Fashion', ' Shopping'] {'RestaurantsPriceRange2': '3', 'BusinessParking': \"{'garage': False, 'street': True, 'validated': False, 'lot': False, 'valet': False}\", 'BikeParking': 'True', 'BusinessAcceptsCreditCards': 'True'}\n",
      "Cosine Similarity Score: 0.99251384\n",
      "\n",
      "60633\n",
      "Nicole Rae Styer Boutique :  ['Used', ' Vintage & Consignment', ' Shopping', ' Fashion'] {'BusinessParking': \"{'garage': False, 'street': False, 'validated': False, 'lot': False, 'valet': False}\", 'BusinessAcceptsCreditCards': 'True', 'BikeParking': 'True', 'RestaurantsPriceRange2': '2'}\n",
      "Cosine Similarity Score: 0.99251384\n",
      "\n",
      "68711\n",
      "Goodwill Industries :  ['Used', ' Vintage & Consignment', ' Shopping', ' Fashion'] {'RestaurantsPriceRange2': '1'}\n",
      "Cosine Similarity Score: 0.99251384\n",
      "\n",
      "84712\n",
      "Maria Fe's Upscale Consignment Boutique :  ['Used', ' Vintage & Consignment', ' Fashion', ' Shopping'] None\n",
      "Cosine Similarity Score: 0.99251384\n",
      "\n"
     ]
    }
   ],
   "source": [
    "print (df.iloc[INDEX]['name'], \": \", df.iloc[INDEX]['categories'], df.iloc[INDEX]['attributes'])\n",
    "print ()\n",
    "for i in closest_index:\n",
    "    if df.iloc[i]['is_open'] == 1:\n",
    "        print (i)\n",
    "        print (df.iloc[i]['name'], \": \", df.iloc[i]['categories'], df.iloc[i]['attributes'])\n",
    "        print ('Cosine Similarity Score:', cosine_similarity(dist[INDEX].reshape(1,-1), dist[i].reshape(1,-1))[0][0])\n",
    "        print()"
   ]
  },
  {
   "cell_type": "code",
   "execution_count": null,
   "id": "c876fec3",
   "metadata": {},
   "outputs": [],
   "source": []
  },
  {
   "cell_type": "code",
   "execution_count": null,
   "id": "b872e0f1",
   "metadata": {},
   "outputs": [],
   "source": []
  },
  {
   "cell_type": "code",
   "execution_count": 29,
   "id": "1d6c9c66",
   "metadata": {
    "scrolled": false
   },
   "outputs": [
    {
     "data": {
      "text/html": [
       "<div>\n",
       "<style scoped>\n",
       "    .dataframe tbody tr th:only-of-type {\n",
       "        vertical-align: middle;\n",
       "    }\n",
       "\n",
       "    .dataframe tbody tr th {\n",
       "        vertical-align: top;\n",
       "    }\n",
       "\n",
       "    .dataframe thead th {\n",
       "        text-align: right;\n",
       "    }\n",
       "</style>\n",
       "<table border=\"1\" class=\"dataframe\">\n",
       "  <thead>\n",
       "    <tr style=\"text-align: right;\">\n",
       "      <th></th>\n",
       "      <th>business_id</th>\n",
       "      <th>name</th>\n",
       "      <th>address</th>\n",
       "      <th>city</th>\n",
       "      <th>state</th>\n",
       "      <th>postal_code</th>\n",
       "      <th>latitude</th>\n",
       "      <th>longitude</th>\n",
       "      <th>stars</th>\n",
       "      <th>review_count</th>\n",
       "      <th>...</th>\n",
       "      <th>BestNights</th>\n",
       "      <th>BYOB</th>\n",
       "      <th>Corkage</th>\n",
       "      <th>BYOBCorkage</th>\n",
       "      <th>HairSpecializesIn</th>\n",
       "      <th>Open24Hours</th>\n",
       "      <th>RestaurantsCounterService</th>\n",
       "      <th>AgesAllowed</th>\n",
       "      <th>DietaryRestrictions</th>\n",
       "      <th>lat_long</th>\n",
       "    </tr>\n",
       "  </thead>\n",
       "  <tbody>\n",
       "    <tr>\n",
       "      <th>55527</th>\n",
       "      <td>y_GSgWHAMoyVzR4b09IeIw</td>\n",
       "      <td>AGAPÉ PIZZA</td>\n",
       "      <td>1201 Greenwood Park E Dr</td>\n",
       "      <td>Greenwood</td>\n",
       "      <td>IN</td>\n",
       "      <td>46142</td>\n",
       "      <td>39.633497</td>\n",
       "      <td>-86.1168</td>\n",
       "      <td>4.5</td>\n",
       "      <td>15</td>\n",
       "      <td>...</td>\n",
       "      <td>None</td>\n",
       "      <td>None</td>\n",
       "      <td>None</td>\n",
       "      <td>None</td>\n",
       "      <td>None</td>\n",
       "      <td>None</td>\n",
       "      <td>None</td>\n",
       "      <td>None</td>\n",
       "      <td>None</td>\n",
       "      <td>(39.6334965446, -86.1168004222)</td>\n",
       "    </tr>\n",
       "  </tbody>\n",
       "</table>\n",
       "<p>1 rows × 54 columns</p>\n",
       "</div>"
      ],
      "text/plain": [
       "                  business_id         name                   address  \\\n",
       "55527  y_GSgWHAMoyVzR4b09IeIw  AGAPÉ PIZZA  1201 Greenwood Park E Dr   \n",
       "\n",
       "            city state postal_code   latitude  longitude  stars  review_count  \\\n",
       "55527  Greenwood    IN       46142  39.633497   -86.1168    4.5            15   \n",
       "\n",
       "       ...  BestNights  BYOB Corkage BYOBCorkage HairSpecializesIn  \\\n",
       "55527  ...        None  None    None        None              None   \n",
       "\n",
       "      Open24Hours RestaurantsCounterService AgesAllowed DietaryRestrictions  \\\n",
       "55527        None                      None        None                None   \n",
       "\n",
       "                              lat_long  \n",
       "55527  (39.6334965446, -86.1168004222)  \n",
       "\n",
       "[1 rows x 54 columns]"
      ]
     },
     "execution_count": 29,
     "metadata": {},
     "output_type": "execute_result"
    }
   ],
   "source": [
    "df[(df[\"name\"].str.contains(\"GAP\"))][:5]"
   ]
  },
  {
   "cell_type": "code",
   "execution_count": null,
   "id": "5b8c401f",
   "metadata": {},
   "outputs": [],
   "source": []
  },
  {
   "cell_type": "code",
   "execution_count": null,
   "id": "af680ccf",
   "metadata": {},
   "outputs": [],
   "source": []
  },
  {
   "cell_type": "markdown",
   "id": "33a957ed",
   "metadata": {},
   "source": [
    "## Supervised Learning with `categories` & `attributes` to predict `stars` ratings:"
   ]
  },
  {
   "cell_type": "code",
   "execution_count": 23,
   "id": "0b35b623",
   "metadata": {},
   "outputs": [
    {
     "data": {
      "text/html": [
       "<div>\n",
       "<style scoped>\n",
       "    .dataframe tbody tr th:only-of-type {\n",
       "        vertical-align: middle;\n",
       "    }\n",
       "\n",
       "    .dataframe tbody tr th {\n",
       "        vertical-align: top;\n",
       "    }\n",
       "\n",
       "    .dataframe thead th {\n",
       "        text-align: right;\n",
       "    }\n",
       "</style>\n",
       "<table border=\"1\" class=\"dataframe\">\n",
       "  <thead>\n",
       "    <tr style=\"text-align: right;\">\n",
       "      <th></th>\n",
       "      <th>&amp; Probates</th>\n",
       "      <th>3D Printing</th>\n",
       "      <th>ATV Rentals/Tours</th>\n",
       "      <th>Acai Bowls</th>\n",
       "      <th>Accessories</th>\n",
       "      <th>Accountants</th>\n",
       "      <th>Acne Treatment</th>\n",
       "      <th>Active Life</th>\n",
       "      <th>Acupuncture</th>\n",
       "      <th>Addiction Medicine</th>\n",
       "      <th>...</th>\n",
       "      <th>RestaurantsGoodForGroups</th>\n",
       "      <th>DriveThru</th>\n",
       "      <th>BusinessAcceptsBitcoin</th>\n",
       "      <th>GoodForDancing</th>\n",
       "      <th>AcceptsInsurance</th>\n",
       "      <th>BYOB</th>\n",
       "      <th>Corkage</th>\n",
       "      <th>Open24Hours</th>\n",
       "      <th>RestaurantsCounterService</th>\n",
       "      <th>stars</th>\n",
       "    </tr>\n",
       "    <tr>\n",
       "      <th>business_id</th>\n",
       "      <th></th>\n",
       "      <th></th>\n",
       "      <th></th>\n",
       "      <th></th>\n",
       "      <th></th>\n",
       "      <th></th>\n",
       "      <th></th>\n",
       "      <th></th>\n",
       "      <th></th>\n",
       "      <th></th>\n",
       "      <th></th>\n",
       "      <th></th>\n",
       "      <th></th>\n",
       "      <th></th>\n",
       "      <th></th>\n",
       "      <th></th>\n",
       "      <th></th>\n",
       "      <th></th>\n",
       "      <th></th>\n",
       "      <th></th>\n",
       "      <th></th>\n",
       "    </tr>\n",
       "  </thead>\n",
       "  <tbody>\n",
       "    <tr>\n",
       "      <th>Pns2l4eNsfO8kk83dixA6A</th>\n",
       "      <td>0</td>\n",
       "      <td>0</td>\n",
       "      <td>0</td>\n",
       "      <td>0</td>\n",
       "      <td>0</td>\n",
       "      <td>0</td>\n",
       "      <td>0</td>\n",
       "      <td>0</td>\n",
       "      <td>1</td>\n",
       "      <td>0</td>\n",
       "      <td>...</td>\n",
       "      <td>0</td>\n",
       "      <td>0</td>\n",
       "      <td>0</td>\n",
       "      <td>0</td>\n",
       "      <td>0</td>\n",
       "      <td>0</td>\n",
       "      <td>0</td>\n",
       "      <td>0</td>\n",
       "      <td>0</td>\n",
       "      <td>5.0</td>\n",
       "    </tr>\n",
       "    <tr>\n",
       "      <th>mpf3x-BjTdTEA3yCZrAYPw</th>\n",
       "      <td>0</td>\n",
       "      <td>0</td>\n",
       "      <td>0</td>\n",
       "      <td>0</td>\n",
       "      <td>0</td>\n",
       "      <td>0</td>\n",
       "      <td>0</td>\n",
       "      <td>0</td>\n",
       "      <td>0</td>\n",
       "      <td>0</td>\n",
       "      <td>...</td>\n",
       "      <td>0</td>\n",
       "      <td>0</td>\n",
       "      <td>0</td>\n",
       "      <td>0</td>\n",
       "      <td>0</td>\n",
       "      <td>0</td>\n",
       "      <td>0</td>\n",
       "      <td>0</td>\n",
       "      <td>0</td>\n",
       "      <td>3.0</td>\n",
       "    </tr>\n",
       "    <tr>\n",
       "      <th>tUFrWirKiKi_TAnsVWINQQ</th>\n",
       "      <td>0</td>\n",
       "      <td>0</td>\n",
       "      <td>0</td>\n",
       "      <td>0</td>\n",
       "      <td>0</td>\n",
       "      <td>0</td>\n",
       "      <td>0</td>\n",
       "      <td>0</td>\n",
       "      <td>0</td>\n",
       "      <td>0</td>\n",
       "      <td>...</td>\n",
       "      <td>0</td>\n",
       "      <td>0</td>\n",
       "      <td>0</td>\n",
       "      <td>0</td>\n",
       "      <td>0</td>\n",
       "      <td>0</td>\n",
       "      <td>0</td>\n",
       "      <td>0</td>\n",
       "      <td>0</td>\n",
       "      <td>3.5</td>\n",
       "    </tr>\n",
       "    <tr>\n",
       "      <th>MTSW4McQd7CbVtyjqoe9mw</th>\n",
       "      <td>0</td>\n",
       "      <td>0</td>\n",
       "      <td>0</td>\n",
       "      <td>0</td>\n",
       "      <td>0</td>\n",
       "      <td>0</td>\n",
       "      <td>0</td>\n",
       "      <td>0</td>\n",
       "      <td>0</td>\n",
       "      <td>0</td>\n",
       "      <td>...</td>\n",
       "      <td>0</td>\n",
       "      <td>0</td>\n",
       "      <td>0</td>\n",
       "      <td>0</td>\n",
       "      <td>0</td>\n",
       "      <td>0</td>\n",
       "      <td>0</td>\n",
       "      <td>0</td>\n",
       "      <td>0</td>\n",
       "      <td>4.0</td>\n",
       "    </tr>\n",
       "    <tr>\n",
       "      <th>mWMc6_wTdE0EUBKIGXDVfA</th>\n",
       "      <td>0</td>\n",
       "      <td>0</td>\n",
       "      <td>0</td>\n",
       "      <td>0</td>\n",
       "      <td>0</td>\n",
       "      <td>0</td>\n",
       "      <td>0</td>\n",
       "      <td>0</td>\n",
       "      <td>0</td>\n",
       "      <td>0</td>\n",
       "      <td>...</td>\n",
       "      <td>0</td>\n",
       "      <td>0</td>\n",
       "      <td>0</td>\n",
       "      <td>0</td>\n",
       "      <td>0</td>\n",
       "      <td>0</td>\n",
       "      <td>0</td>\n",
       "      <td>0</td>\n",
       "      <td>0</td>\n",
       "      <td>4.5</td>\n",
       "    </tr>\n",
       "  </tbody>\n",
       "</table>\n",
       "<p>5 rows × 2480 columns</p>\n",
       "</div>"
      ],
      "text/plain": [
       "                         & Probates   3D Printing   ATV Rentals/Tours  \\\n",
       "business_id                                                             \n",
       "Pns2l4eNsfO8kk83dixA6A            0             0                   0   \n",
       "mpf3x-BjTdTEA3yCZrAYPw            0             0                   0   \n",
       "tUFrWirKiKi_TAnsVWINQQ            0             0                   0   \n",
       "MTSW4McQd7CbVtyjqoe9mw            0             0                   0   \n",
       "mWMc6_wTdE0EUBKIGXDVfA            0             0                   0   \n",
       "\n",
       "                         Acai Bowls   Accessories   Accountants  \\\n",
       "business_id                                                       \n",
       "Pns2l4eNsfO8kk83dixA6A            0             0             0   \n",
       "mpf3x-BjTdTEA3yCZrAYPw            0             0             0   \n",
       "tUFrWirKiKi_TAnsVWINQQ            0             0             0   \n",
       "MTSW4McQd7CbVtyjqoe9mw            0             0             0   \n",
       "mWMc6_wTdE0EUBKIGXDVfA            0             0             0   \n",
       "\n",
       "                         Acne Treatment   Active Life   Acupuncture  \\\n",
       "business_id                                                           \n",
       "Pns2l4eNsfO8kk83dixA6A                0             0             1   \n",
       "mpf3x-BjTdTEA3yCZrAYPw                0             0             0   \n",
       "tUFrWirKiKi_TAnsVWINQQ                0             0             0   \n",
       "MTSW4McQd7CbVtyjqoe9mw                0             0             0   \n",
       "mWMc6_wTdE0EUBKIGXDVfA                0             0             0   \n",
       "\n",
       "                         Addiction Medicine  ...  RestaurantsGoodForGroups  \\\n",
       "business_id                                  ...                             \n",
       "Pns2l4eNsfO8kk83dixA6A                    0  ...                         0   \n",
       "mpf3x-BjTdTEA3yCZrAYPw                    0  ...                         0   \n",
       "tUFrWirKiKi_TAnsVWINQQ                    0  ...                         0   \n",
       "MTSW4McQd7CbVtyjqoe9mw                    0  ...                         0   \n",
       "mWMc6_wTdE0EUBKIGXDVfA                    0  ...                         0   \n",
       "\n",
       "                        DriveThru  BusinessAcceptsBitcoin  GoodForDancing  \\\n",
       "business_id                                                                 \n",
       "Pns2l4eNsfO8kk83dixA6A          0                       0               0   \n",
       "mpf3x-BjTdTEA3yCZrAYPw          0                       0               0   \n",
       "tUFrWirKiKi_TAnsVWINQQ          0                       0               0   \n",
       "MTSW4McQd7CbVtyjqoe9mw          0                       0               0   \n",
       "mWMc6_wTdE0EUBKIGXDVfA          0                       0               0   \n",
       "\n",
       "                        AcceptsInsurance  BYOB  Corkage  Open24Hours  \\\n",
       "business_id                                                            \n",
       "Pns2l4eNsfO8kk83dixA6A                 0     0        0            0   \n",
       "mpf3x-BjTdTEA3yCZrAYPw                 0     0        0            0   \n",
       "tUFrWirKiKi_TAnsVWINQQ                 0     0        0            0   \n",
       "MTSW4McQd7CbVtyjqoe9mw                 0     0        0            0   \n",
       "mWMc6_wTdE0EUBKIGXDVfA                 0     0        0            0   \n",
       "\n",
       "                        RestaurantsCounterService  stars  \n",
       "business_id                                               \n",
       "Pns2l4eNsfO8kk83dixA6A                          0    5.0  \n",
       "mpf3x-BjTdTEA3yCZrAYPw                          0    3.0  \n",
       "tUFrWirKiKi_TAnsVWINQQ                          0    3.5  \n",
       "MTSW4McQd7CbVtyjqoe9mw                          0    4.0  \n",
       "mWMc6_wTdE0EUBKIGXDVfA                          0    4.5  \n",
       "\n",
       "[5 rows x 2480 columns]"
      ]
     },
     "execution_count": 23,
     "metadata": {},
     "output_type": "execute_result"
    }
   ],
   "source": [
    "df_merge = pd.concat([pd.DataFrame(X_vect.toarray(), columns= vectorizer.get_feature_names()), df[subset]], axis=1)\n",
    "df_merge.set_index('business_id', inplace=True)\n",
    "df_merge.head()"
   ]
  },
  {
   "cell_type": "code",
   "execution_count": 46,
   "id": "9d8f10ee",
   "metadata": {},
   "outputs": [],
   "source": [
    "df_merge.reset_index(inplace=True)"
   ]
  },
  {
   "cell_type": "code",
   "execution_count": 48,
   "id": "08afaeb3",
   "metadata": {},
   "outputs": [],
   "source": [
    "ids = y = df_merge.business_id"
   ]
  },
  {
   "cell_type": "code",
   "execution_count": 49,
   "id": "395c9005",
   "metadata": {},
   "outputs": [],
   "source": [
    "df_merge.drop('business_id', axis=1, inplace=True)"
   ]
  },
  {
   "cell_type": "code",
   "execution_count": 52,
   "id": "f97d351d",
   "metadata": {},
   "outputs": [
    {
     "name": "stdout",
     "output_type": "stream",
     "text": [
      "4.0    0.207022\n",
      "4.5    0.180790\n",
      "3.5    0.176386\n",
      "3.0    0.122737\n",
      "5.0    0.108463\n",
      "2.5    0.095220\n",
      "2.0    0.063367\n",
      "1.5    0.032804\n",
      "1.0    0.013210\n",
      "Name: stars, dtype: float64\n"
     ]
    }
   ],
   "source": [
    "# define X and y\n",
    "X = df_merge.drop('stars', axis=1)\n",
    "y = df_merge.stars.astype(str)\n",
    "\n",
    "#Null accuracy\n",
    "print (y.value_counts(normalize=True))\n",
    "\n",
    "# split data into training and testing sets\n",
    "X_train, X_test, y_train, y_test = train_test_split(X, y, random_state=1)"
   ]
  },
  {
   "cell_type": "code",
   "execution_count": 53,
   "id": "0674d71d",
   "metadata": {},
   "outputs": [],
   "source": [
    "from sklearn.naive_bayes import MultinomialNB"
   ]
  },
  {
   "cell_type": "code",
   "execution_count": 54,
   "id": "ddd5ebcc",
   "metadata": {},
   "outputs": [
    {
     "name": "stdout",
     "output_type": "stream",
     "text": [
      "Features:  2479\n",
      "Training Score:  0.25780647221064396\n",
      "Testing Score:  0.24370127969776784\n"
     ]
    }
   ],
   "source": [
    "nb = MultinomialNB()\n",
    "nb.fit(X_train, y_train)\n",
    "print (\"Features: \", X_train.shape[1])\n",
    "print (\"Training Score: \", nb.score(X_train, y_train))\n",
    "print (\"Testing Score: \", nb.score(X_test, y_test))"
   ]
  },
  {
   "cell_type": "markdown",
   "id": "4052ad1a",
   "metadata": {},
   "source": [
    "OK, well that was bad. Let's try loading in Reviews from another dataset."
   ]
  },
  {
   "cell_type": "code",
   "execution_count": null,
   "id": "471c1674",
   "metadata": {},
   "outputs": [],
   "source": []
  },
  {
   "cell_type": "markdown",
   "id": "5b56e8e2",
   "metadata": {},
   "source": [
    "# Load Yelp Review:"
   ]
  },
  {
   "cell_type": "code",
   "execution_count": 62,
   "id": "ded3e328",
   "metadata": {},
   "outputs": [
    {
     "data": {
      "text/plain": [
       "Database(MongoClient(host=['localhost:27017'], document_class=dict, tz_aware=False, connect=True), 'yelp_reviews')"
      ]
     },
     "execution_count": 62,
     "metadata": {},
     "output_type": "execute_result"
    }
   ],
   "source": [
    "db"
   ]
  },
  {
   "cell_type": "code",
   "execution_count": 77,
   "id": "e26de375",
   "metadata": {},
   "outputs": [
    {
     "data": {
      "text/plain": [
       "{'_id': ObjectId('622e1848600cac85c1329fa2'),\n",
       " 'review_id': 'KU_O5udG6zpxOg-VcAEodg',\n",
       " 'user_id': 'mh_-eMZ6K5RLWhZyISBhwA',\n",
       " 'business_id': 'XQfwVwDr-v0ZS3_CbbE5Xw',\n",
       " 'stars': 3.0,\n",
       " 'useful': 0,\n",
       " 'funny': 0,\n",
       " 'cool': 0,\n",
       " 'text': \"If you decide to eat here, just be aware it is going to take about 2 hours from beginning to end. We have tried it multiple times, because I want to like it! I have been to it's other locations in NJ and never had a bad experience. \\n\\nThe food is good, but it takes a very long time to come out. The waitstaff is very young, but usually pleasant. We have just had too many experiences where we spent way too long waiting. We usually opt for another diner or restaurant on the weekends, in order to be done quicker.\",\n",
       " 'date': '2018-07-07 22:09:11'}"
      ]
     },
     "execution_count": 77,
     "metadata": {},
     "output_type": "execute_result"
    }
   ],
   "source": [
    "db.yelp_reviews.find_one({})"
   ]
  },
  {
   "cell_type": "code",
   "execution_count": 84,
   "id": "4f5535db",
   "metadata": {},
   "outputs": [
    {
     "data": {
      "text/plain": [
       "[{'_id': ObjectId('622e1848600cac85c1329fa2'),\n",
       "  'business_id': 'XQfwVwDr-v0ZS3_CbbE5Xw',\n",
       "  'stars': 3.0,\n",
       "  'text': \"If you decide to eat here, just be aware it is going to take about 2 hours from beginning to end. We have tried it multiple times, because I want to like it! I have been to it's other locations in NJ and never had a bad experience. \\n\\nThe food is good, but it takes a very long time to come out. The waitstaff is very young, but usually pleasant. We have just had too many experiences where we spent way too long waiting. We usually opt for another diner or restaurant on the weekends, in order to be done quicker.\"},\n",
       " {'_id': ObjectId('622e1850600cac85c132b762'),\n",
       "  'business_id': 'XQfwVwDr-v0ZS3_CbbE5Xw',\n",
       "  'stars': 2.0,\n",
       "  'text': 'This is the second time we tried turning point at this location. The first time we had a long wait for food after ordering, this time we had an even longer wait of over 40 minutes. I had the omelette skillet and there was hardly any egg in it, I felt like I was eating chopped onions and chopped tomatoes. My wife had a BLT and had a hard time finding the tomato and the avocado that was supposed be on it. Overall,The experience was stressful, mainly because of the long wait.'}]"
      ]
     },
     "execution_count": 84,
     "metadata": {},
     "output_type": "execute_result"
    }
   ],
   "source": [
    "ID ='XQfwVwDr-v0ZS3_CbbE5Xw'\n",
    "list(db.yelp_reviews.find({'business_id': ID}, {'business_id': 1, \"text\": 1, 'stars':1}).limit(2))"
   ]
  },
  {
   "cell_type": "code",
   "execution_count": 165,
   "id": "1b720c7e",
   "metadata": {},
   "outputs": [
    {
     "data": {
      "text/plain": [
       "(50000, 4)"
      ]
     },
     "execution_count": 165,
     "metadata": {},
     "output_type": "execute_result"
    }
   ],
   "source": [
    "db = client.yelp_reviews\n",
    "collection = db.yelp_reviews\n",
    "df_rw_good = pd.DataFrame(list(collection.find({\"stars\":{\"$gte\":4}}, {'business_id': 1, \"text\": 1, 'stars':1}).limit(50000)))\n",
    "df_rw_good.shape"
   ]
  },
  {
   "cell_type": "code",
   "execution_count": 164,
   "id": "f4b40061",
   "metadata": {},
   "outputs": [],
   "source": [
    "del df_rw"
   ]
  },
  {
   "cell_type": "code",
   "execution_count": 166,
   "id": "4c5ccc75",
   "metadata": {},
   "outputs": [
    {
     "data": {
      "text/plain": [
       "(50000, 4)"
      ]
     },
     "execution_count": 166,
     "metadata": {},
     "output_type": "execute_result"
    }
   ],
   "source": [
    "df_rw_bad = pd.DataFrame(list(collection.find({\"stars\":{\"$lt\":4}}, {'business_id': 1, \"text\": 1, 'stars':1}).limit(50000)))\n",
    "df_rw_bad.shape"
   ]
  },
  {
   "cell_type": "code",
   "execution_count": 167,
   "id": "d153fd6e",
   "metadata": {},
   "outputs": [
    {
     "data": {
      "text/html": [
       "<div>\n",
       "<style scoped>\n",
       "    .dataframe tbody tr th:only-of-type {\n",
       "        vertical-align: middle;\n",
       "    }\n",
       "\n",
       "    .dataframe tbody tr th {\n",
       "        vertical-align: top;\n",
       "    }\n",
       "\n",
       "    .dataframe thead th {\n",
       "        text-align: right;\n",
       "    }\n",
       "</style>\n",
       "<table border=\"1\" class=\"dataframe\">\n",
       "  <thead>\n",
       "    <tr style=\"text-align: right;\">\n",
       "      <th></th>\n",
       "      <th>_id</th>\n",
       "      <th>business_id</th>\n",
       "      <th>stars</th>\n",
       "      <th>text</th>\n",
       "    </tr>\n",
       "  </thead>\n",
       "  <tbody>\n",
       "    <tr>\n",
       "      <th>0</th>\n",
       "      <td>622e1848600cac85c1329fa2</td>\n",
       "      <td>XQfwVwDr-v0ZS3_CbbE5Xw</td>\n",
       "      <td>3.0</td>\n",
       "      <td>If you decide to eat here, just be aware it is...</td>\n",
       "    </tr>\n",
       "    <tr>\n",
       "      <th>1</th>\n",
       "      <td>622e1848600cac85c1329fa4</td>\n",
       "      <td>YjUWPpI6HXG530lwP-fb2A</td>\n",
       "      <td>3.0</td>\n",
       "      <td>Family diner. Had the buffet. Eclectic assortm...</td>\n",
       "    </tr>\n",
       "    <tr>\n",
       "      <th>2</th>\n",
       "      <td>622e1848600cac85c1329fa7</td>\n",
       "      <td>04UD14gamNjLY0IDYVhHJg</td>\n",
       "      <td>1.0</td>\n",
       "      <td>I am a long term frequent customer of this est...</td>\n",
       "    </tr>\n",
       "    <tr>\n",
       "      <th>3</th>\n",
       "      <td>622e1848600cac85c1329faa</td>\n",
       "      <td>B5XSoSG3SfvQGtKEGQ1tSQ</td>\n",
       "      <td>3.0</td>\n",
       "      <td>This easter instead of going to Lopez Lake we ...</td>\n",
       "    </tr>\n",
       "    <tr>\n",
       "      <th>4</th>\n",
       "      <td>622e1848600cac85c1329fab</td>\n",
       "      <td>gebiRewfieSdtt17PTW6Zg</td>\n",
       "      <td>3.0</td>\n",
       "      <td>Had a party of 6 here for hibachi. Our waitres...</td>\n",
       "    </tr>\n",
       "    <tr>\n",
       "      <th>...</th>\n",
       "      <td>...</td>\n",
       "      <td>...</td>\n",
       "      <td>...</td>\n",
       "      <td>...</td>\n",
       "    </tr>\n",
       "    <tr>\n",
       "      <th>49995</th>\n",
       "      <td>622e1870600cac85c13524c1</td>\n",
       "      <td>OEGTOJpePA_GkSEPIRrdgQ</td>\n",
       "      <td>1.0</td>\n",
       "      <td>Had a mortgage with them and everything was ju...</td>\n",
       "    </tr>\n",
       "    <tr>\n",
       "      <th>49996</th>\n",
       "      <td>622e1870600cac85c13524c2</td>\n",
       "      <td>Envz99GhwMkfMg7LzDQeUQ</td>\n",
       "      <td>1.0</td>\n",
       "      <td>I suppose, if you are hoping to improve your p...</td>\n",
       "    </tr>\n",
       "    <tr>\n",
       "      <th>49997</th>\n",
       "      <td>622e1870600cac85c13524c3</td>\n",
       "      <td>VRGYwKE_Z77frm5NwLvJhw</td>\n",
       "      <td>3.0</td>\n",
       "      <td>It's a burger. It's a good burger but a good b...</td>\n",
       "    </tr>\n",
       "    <tr>\n",
       "      <th>49998</th>\n",
       "      <td>622e1870600cac85c13524c5</td>\n",
       "      <td>OHzX-ZD9qyoeoxR8Z0dlIA</td>\n",
       "      <td>3.0</td>\n",
       "      <td>I didn't have any food, but the service was go...</td>\n",
       "    </tr>\n",
       "    <tr>\n",
       "      <th>49999</th>\n",
       "      <td>622e1870600cac85c13524c6</td>\n",
       "      <td>ERl6OCSEIFBOqfjai_jIUg</td>\n",
       "      <td>2.0</td>\n",
       "      <td>I didn't like this place at all. I was in town...</td>\n",
       "    </tr>\n",
       "  </tbody>\n",
       "</table>\n",
       "<p>50000 rows × 4 columns</p>\n",
       "</div>"
      ],
      "text/plain": [
       "                            _id             business_id  stars  \\\n",
       "0      622e1848600cac85c1329fa2  XQfwVwDr-v0ZS3_CbbE5Xw    3.0   \n",
       "1      622e1848600cac85c1329fa4  YjUWPpI6HXG530lwP-fb2A    3.0   \n",
       "2      622e1848600cac85c1329fa7  04UD14gamNjLY0IDYVhHJg    1.0   \n",
       "3      622e1848600cac85c1329faa  B5XSoSG3SfvQGtKEGQ1tSQ    3.0   \n",
       "4      622e1848600cac85c1329fab  gebiRewfieSdtt17PTW6Zg    3.0   \n",
       "...                         ...                     ...    ...   \n",
       "49995  622e1870600cac85c13524c1  OEGTOJpePA_GkSEPIRrdgQ    1.0   \n",
       "49996  622e1870600cac85c13524c2  Envz99GhwMkfMg7LzDQeUQ    1.0   \n",
       "49997  622e1870600cac85c13524c3  VRGYwKE_Z77frm5NwLvJhw    3.0   \n",
       "49998  622e1870600cac85c13524c5  OHzX-ZD9qyoeoxR8Z0dlIA    3.0   \n",
       "49999  622e1870600cac85c13524c6  ERl6OCSEIFBOqfjai_jIUg    2.0   \n",
       "\n",
       "                                                    text  \n",
       "0      If you decide to eat here, just be aware it is...  \n",
       "1      Family diner. Had the buffet. Eclectic assortm...  \n",
       "2      I am a long term frequent customer of this est...  \n",
       "3      This easter instead of going to Lopez Lake we ...  \n",
       "4      Had a party of 6 here for hibachi. Our waitres...  \n",
       "...                                                  ...  \n",
       "49995  Had a mortgage with them and everything was ju...  \n",
       "49996  I suppose, if you are hoping to improve your p...  \n",
       "49997  It's a burger. It's a good burger but a good b...  \n",
       "49998  I didn't have any food, but the service was go...  \n",
       "49999  I didn't like this place at all. I was in town...  \n",
       "\n",
       "[50000 rows x 4 columns]"
      ]
     },
     "execution_count": 167,
     "metadata": {},
     "output_type": "execute_result"
    }
   ],
   "source": [
    "df_rw_bad"
   ]
  },
  {
   "cell_type": "code",
   "execution_count": 169,
   "id": "0c60dedc",
   "metadata": {},
   "outputs": [
    {
     "data": {
      "text/plain": [
       "(100000, 4)"
      ]
     },
     "execution_count": 169,
     "metadata": {},
     "output_type": "execute_result"
    }
   ],
   "source": [
    "df_rw = pd.concat([df_rw_bad, df_rw_good], axis=0)\n",
    "df_rw.shape"
   ]
  },
  {
   "cell_type": "code",
   "execution_count": 170,
   "id": "b147563a",
   "metadata": {},
   "outputs": [],
   "source": [
    "def good_bad_review(x):\n",
    "    if x >= 4:\n",
    "        return \"good\"\n",
    "    else:\n",
    "        return \"bad\""
   ]
  },
  {
   "cell_type": "code",
   "execution_count": 171,
   "id": "d00d773c",
   "metadata": {},
   "outputs": [
    {
     "name": "stderr",
     "output_type": "stream",
     "text": [
      "/var/folders/hw/rwj0lwbx6g39k9_wsky35jkr0000gn/T/ipykernel_23074/1645088311.py:1: UserWarning: Pandas doesn't allow columns to be created via a new attribute name - see https://pandas.pydata.org/pandas-docs/stable/indexing.html#attribute-access\n",
      "  df_rw.target = df_rw['stars'].apply(good_bad_review)\n"
     ]
    },
    {
     "data": {
      "text/plain": [
       "bad     50000\n",
       "good    50000\n",
       "Name: stars, dtype: int64"
      ]
     },
     "execution_count": 171,
     "metadata": {},
     "output_type": "execute_result"
    }
   ],
   "source": [
    "df_rw.target = df_rw['stars'].apply(good_bad_review)\n",
    "df_rw.target.value_counts()"
   ]
  },
  {
   "cell_type": "code",
   "execution_count": 173,
   "id": "10b670de",
   "metadata": {},
   "outputs": [
    {
     "name": "stdout",
     "output_type": "stream",
     "text": [
      "bad     0.5\n",
      "good    0.5\n",
      "Name: stars, dtype: float64\n"
     ]
    }
   ],
   "source": [
    "# LIMIT = 50000\n",
    "# define X and y\n",
    "X = df_rw.text\n",
    "y = df_rw.target\n",
    "# X = X[:LIMIT]\n",
    "# y = y[:LIMIT]\n",
    "\n",
    "#Null accuracy\n",
    "print (y.value_counts(normalize=True))\n",
    "\n",
    "# split data into training and testing sets\n",
    "X_train, X_test, y_train, y_test = train_test_split(X, y, random_state=1)"
   ]
  },
  {
   "cell_type": "code",
   "execution_count": null,
   "id": "b231826b",
   "metadata": {},
   "outputs": [],
   "source": []
  },
  {
   "cell_type": "code",
   "execution_count": 174,
   "id": "93be58f8",
   "metadata": {},
   "outputs": [],
   "source": [
    "# define a function that accepts text and returns a list of stems\n",
    "def word_tokenize_stem(text):\n",
    "    words = TextBlob(text).words\n",
    "    stemmer = SnowballStemmer(\"english\")\n",
    "    return [stemmer.stem(word) for word in words]\n",
    "\n",
    "# define a function that accepts text and returns a list of lemons (noun version)\n",
    "\n",
    "def word_tokenize_lemma(text):\n",
    "    words = TextBlob(text).words\n",
    "    return [word.lemmatize() for word in words]\n",
    "\n",
    "# define a function that accepts text and returns a list of lemons (verb version)\n",
    "def word_tokenize_lemma_verb(text):\n",
    "    words = TextBlob(text).words\n",
    "    return [word.lemmatize(pos = \"v\") for word in words]"
   ]
  },
  {
   "cell_type": "code",
   "execution_count": 175,
   "id": "3466d53f",
   "metadata": {},
   "outputs": [],
   "source": [
    "# !pip install TextBlob\n",
    "# from textblob import TextBlob\n",
    "# !pip install nltk\n",
    "# nltk.download('punkt')\n",
    "# nltk.download('wordnet')"
   ]
  },
  {
   "cell_type": "code",
   "execution_count": 176,
   "id": "b24e7a9a",
   "metadata": {},
   "outputs": [],
   "source": [
    "import nltk\n",
    "from nltk.tokenize import sent_tokenize, word_tokenize, wordpunct_tokenize\n",
    "from nltk.tokenize import TreebankWordTokenizer\n",
    "from nltk.tag import pos_tag\n",
    "from nltk.corpus import stopwords\n",
    "from string import punctuation\n",
    "from nltk.stem.snowball import SnowballStemmer\n",
    "from nltk.stem.wordnet import WordNetLemmatizer\n",
    "from nltk.util import ngrams"
   ]
  },
  {
   "cell_type": "code",
   "execution_count": 201,
   "id": "15e5ac6f",
   "metadata": {},
   "outputs": [
    {
     "data": {
      "text/plain": [
       "WordList(['I', \"'ve\", 'taken', 'a', 'lot', 'of', 'spin', 'classes', 'over', 'the', 'years', 'and', 'nothing', 'compares', 'to', 'the', 'classes', 'at', 'Body', 'Cycle', 'From', 'the', 'nice', 'clean', 'space', 'and', 'amazing', 'bikes', 'to', 'the', 'welcoming', 'and', 'motivating', 'instructors', 'every', 'class', 'is', 'a', 'top', 'notch', 'work', 'out', 'For', 'anyone', 'who', 'struggles', 'to', 'fit', 'workouts', 'in', 'the', 'online', 'scheduling', 'system', 'makes', 'it', 'easy', 'to', 'plan', 'ahead', 'and', 'there', \"'s\", 'no', 'need', 'to', 'line', 'up', 'way', 'in', 'advanced', 'like', 'many', 'gyms', 'make', 'you', 'do', 'There', 'is', 'no', 'way', 'I', 'can', 'write', 'this', 'review', 'without', 'giving', 'Russell', 'the', 'owner', 'of', 'Body', 'Cycle', 'a', 'shout', 'out', 'Russell', \"'s\", 'passion', 'for', 'fitness', 'and', 'cycling', 'is', 'so', 'evident', 'as', 'is', 'his', 'desire', 'for', 'all', 'of', 'his', 'clients', 'to', 'succeed', 'He', 'is', 'always', 'dropping', 'in', 'to', 'classes', 'to', 'check', 'in/provide', 'encouragement', 'and', 'is', 'open', 'to', 'ideas', 'and', 'recommendations', 'from', 'anyone', 'Russell', 'always', 'wears', 'a', 'smile', 'on', 'his', 'face', 'even', 'when', 'he', \"'s\", 'kicking', 'your', 'butt', 'in', 'class'])"
      ]
     },
     "execution_count": 201,
     "metadata": {},
     "output_type": "execute_result"
    }
   ],
   "source": [
    "TextBlob(df_rw.text[0].values[1]).words"
   ]
  },
  {
   "cell_type": "code",
   "execution_count": 216,
   "id": "8b16e35e",
   "metadata": {},
   "outputs": [],
   "source": [
    "def text_model_evaluator(vect):\n",
    "    X_train_dtm = vect.fit_transform(X_train)\n",
    "    X_test_dtm = vect.transform(X_test)\n",
    "    nb = MultinomialNB()\n",
    "    nb.fit(X_train_dtm, y_train)\n",
    "    print (\"Features: \", X_train_dtm.shape[1])\n",
    "    print (\"Training Score: \", nb.score(X_train_dtm, y_train))\n",
    "    print (\"Testing Score: \", nb.score(X_test_dtm, y_test))"
   ]
  },
  {
   "cell_type": "code",
   "execution_count": 133,
   "id": "57da594b",
   "metadata": {},
   "outputs": [
    {
     "name": "stdout",
     "output_type": "stream",
     "text": [
      "Features:  17403\n",
      "Training Score:  0.9162666666666667\n",
      "Testing Score:  0.856\n"
     ]
    }
   ],
   "source": [
    "#Intialize Count Vectorizer with stop_words set to english and analyzer to word_tokenize_stem\n",
    "\n",
    "vect = CountVectorizer(stop_words=\"english\", analyzer=word_tokenize_stem)\n",
    "#Pass vectorizer into function\n",
    "text_model_evaluator(vect)"
   ]
  },
  {
   "cell_type": "code",
   "execution_count": 138,
   "id": "5352d756",
   "metadata": {},
   "outputs": [
    {
     "name": "stdout",
     "output_type": "stream",
     "text": [
      "Features:  26819\n",
      "Training Score:  0.9269333333333334\n",
      "Testing Score:  0.8664\n"
     ]
    }
   ],
   "source": [
    "#Intialize Count Vectorizer with stop_words set to english and analyzer to word_tokenize_lemma\n",
    "\n",
    "vect = CountVectorizer(stop_words=\"english\", analyzer=word_tokenize_lemma)\n",
    "\n",
    "#Pass vectorizer into function\n",
    "text_model_evaluator(vect)"
   ]
  },
  {
   "cell_type": "code",
   "execution_count": 217,
   "id": "8d22eddf",
   "metadata": {},
   "outputs": [
    {
     "name": "stdout",
     "output_type": "stream",
     "text": [
      "Features:  10000\n",
      "Training Score:  0.8505466666666667\n",
      "Testing Score:  0.84268\n"
     ]
    }
   ],
   "source": [
    "#Intialize Count Vectorizer with stop_words set to english and analyzer to word_tokenize_lemma_verb\n",
    "\n",
    "vect = CountVectorizer(stop_words=\"english\", \n",
    "                       analyzer=word_tokenize_lemma_verb,\n",
    "                      max_features=10000)\n",
    "\n",
    "#Pass vectorizer into function\n",
    "text_model_evaluator(vect)"
   ]
  },
  {
   "cell_type": "code",
   "execution_count": 142,
   "id": "fb07a61c",
   "metadata": {
    "scrolled": true
   },
   "outputs": [
    {
     "data": {
      "text/plain": [
       "sklearn.feature_extraction.text.CountVectorizer"
      ]
     },
     "execution_count": 142,
     "metadata": {},
     "output_type": "execute_result"
    }
   ],
   "source": [
    "type(vect)"
   ]
  },
  {
   "cell_type": "code",
   "execution_count": 178,
   "id": "431b1566",
   "metadata": {},
   "outputs": [],
   "source": [
    "import pickle\n",
    "\n",
    "filename = \"/Users/darrenlee/Documents/YELP_DATA/Yelp_Review_CountVectorizer.pkl\"\n",
    "\n",
    "with open(filename, 'wb') as fout:\n",
    "    pickle.dump(vect, fout)"
   ]
  },
  {
   "cell_type": "code",
   "execution_count": 179,
   "id": "6e383650",
   "metadata": {},
   "outputs": [],
   "source": [
    "with open('/Users/darrenlee/Documents/YELP_DATA/Yelp_Review_CountVectorizer.pkl', 'rb') as f:\n",
    "    vect_2 = pickle.load(f)"
   ]
  },
  {
   "cell_type": "code",
   "execution_count": null,
   "id": "aebff75c",
   "metadata": {},
   "outputs": [],
   "source": []
  },
  {
   "cell_type": "code",
   "execution_count": 183,
   "id": "73b84c98",
   "metadata": {},
   "outputs": [],
   "source": [
    "# cos_sim = cosine_similarity(vect).toarray()"
   ]
  },
  {
   "cell_type": "code",
   "execution_count": 214,
   "id": "4554deca",
   "metadata": {},
   "outputs": [
    {
     "ename": "TypeError",
     "evalue": "The `text` argument passed to `__init__(text)` must be a string, not <class 'pandas.core.series.Series'>",
     "output_type": "error",
     "traceback": [
      "\u001b[0;31m---------------------------------------------------------------------------\u001b[0m",
      "\u001b[0;31mTypeError\u001b[0m                                 Traceback (most recent call last)",
      "\u001b[0;32m/var/folders/hw/rwj0lwbx6g39k9_wsky35jkr0000gn/T/ipykernel_23074/2643706415.py\u001b[0m in \u001b[0;36m<module>\u001b[0;34m\u001b[0m\n\u001b[0;32m----> 1\u001b[0;31m \u001b[0mTextBlob\u001b[0m\u001b[0;34m(\u001b[0m\u001b[0mdf_rw\u001b[0m\u001b[0;34m.\u001b[0m\u001b[0mtext\u001b[0m\u001b[0;34m[\u001b[0m\u001b[0;36m100\u001b[0m\u001b[0;34m]\u001b[0m\u001b[0;34m)\u001b[0m\u001b[0;34m.\u001b[0m\u001b[0mwords\u001b[0m\u001b[0;34m\u001b[0m\u001b[0;34m\u001b[0m\u001b[0m\n\u001b[0m",
      "\u001b[0;32m/opt/anaconda3/lib/python3.9/site-packages/textblob/blob.py\u001b[0m in \u001b[0;36m__init__\u001b[0;34m(self, text, tokenizer, pos_tagger, np_extractor, analyzer, parser, classifier, clean_html)\u001b[0m\n\u001b[1;32m    382\u001b[0m                 parser=None, classifier=None, clean_html=False):\n\u001b[1;32m    383\u001b[0m         \u001b[0;32mif\u001b[0m \u001b[0;32mnot\u001b[0m \u001b[0misinstance\u001b[0m\u001b[0;34m(\u001b[0m\u001b[0mtext\u001b[0m\u001b[0;34m,\u001b[0m \u001b[0mbasestring\u001b[0m\u001b[0;34m)\u001b[0m\u001b[0;34m:\u001b[0m\u001b[0;34m\u001b[0m\u001b[0;34m\u001b[0m\u001b[0m\n\u001b[0;32m--> 384\u001b[0;31m             raise TypeError('The `text` argument passed to `__init__(text)` '\n\u001b[0m\u001b[1;32m    385\u001b[0m                             'must be a string, not {0}'.format(type(text)))\n\u001b[1;32m    386\u001b[0m         \u001b[0;32mif\u001b[0m \u001b[0mclean_html\u001b[0m\u001b[0;34m:\u001b[0m\u001b[0;34m\u001b[0m\u001b[0;34m\u001b[0m\u001b[0m\n",
      "\u001b[0;31mTypeError\u001b[0m: The `text` argument passed to `__init__(text)` must be a string, not <class 'pandas.core.series.Series'>"
     ]
    }
   ],
   "source": [
    "TextBlob(df_rw.text[100]).words"
   ]
  },
  {
   "cell_type": "code",
   "execution_count": null,
   "id": "045f84a8",
   "metadata": {},
   "outputs": [],
   "source": []
  },
  {
   "cell_type": "code",
   "execution_count": null,
   "id": "c5f8260c",
   "metadata": {},
   "outputs": [],
   "source": []
  },
  {
   "cell_type": "code",
   "execution_count": null,
   "id": "f89d4181",
   "metadata": {},
   "outputs": [],
   "source": []
  },
  {
   "cell_type": "code",
   "execution_count": 23,
   "id": "b85ea276",
   "metadata": {},
   "outputs": [
    {
     "name": "stdout",
     "output_type": "stream",
     "text": [
      "1652.821828985768\n"
     ]
    }
   ],
   "source": [
    "# !pip install geopy\n",
    "from geopy.distance import geodesic\n",
    "df['lat_long'] = list(zip(df['latitude'], df['longitude']))\n",
    "\n",
    "# Loading the lat-long data for Kolkata & Delhi\n",
    "a = (34.426679, -119.711197)\n",
    "b = (38.551126, -90.335695)\n",
    "\n",
    "print (geodesic(a, b).miles)\n",
    "\n",
    "# create a formula to get geo from two companies.. get the one closest!\n",
    "\n"
   ]
  },
  {
   "cell_type": "code",
   "execution_count": null,
   "id": "ab457b4b",
   "metadata": {},
   "outputs": [],
   "source": []
  }
 ],
 "metadata": {
  "kernelspec": {
   "display_name": "Python 3 (ipykernel)",
   "language": "python",
   "name": "python3"
  },
  "language_info": {
   "codemirror_mode": {
    "name": "ipython",
    "version": 3
   },
   "file_extension": ".py",
   "mimetype": "text/x-python",
   "name": "python",
   "nbconvert_exporter": "python",
   "pygments_lexer": "ipython3",
   "version": "3.9.7"
  }
 },
 "nbformat": 4,
 "nbformat_minor": 5
}
