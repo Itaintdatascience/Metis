{
 "cells": [
  {
   "cell_type": "markdown",
   "id": "dd227980",
   "metadata": {},
   "source": [
    "# Web Scrape Yelp"
   ]
  },
  {
   "cell_type": "code",
   "execution_count": 91,
   "id": "8923ef31",
   "metadata": {},
   "outputs": [
    {
     "name": "stderr",
     "output_type": "stream",
     "text": [
      "usage: ipykernel_launcher.py [-h] page_no_file\n",
      "ipykernel_launcher.py: error: unrecognized arguments: -f\n"
     ]
    },
    {
     "ename": "SystemExit",
     "evalue": "2",
     "output_type": "error",
     "traceback": [
      "An exception has occurred, use %tb to see the full traceback.\n",
      "\u001b[0;31mSystemExit\u001b[0m\u001b[0;31m:\u001b[0m 2\n"
     ]
    },
    {
     "name": "stderr",
     "output_type": "stream",
     "text": [
      "/opt/anaconda3/lib/python3.9/site-packages/IPython/core/interactiveshell.py:3452: UserWarning: To exit: use 'exit', 'quit', or Ctrl-D.\n",
      "  warn(\"To exit: use 'exit', 'quit', or Ctrl-D.\", stacklevel=1)\n"
     ]
    }
   ],
   "source": [
    "from bs4 import BeautifulSoup\n",
    "import requests\n",
    "from lxml import html  \n",
    "import csv\n",
    "import requests\n",
    "from time import sleep\n",
    "import re\n",
    "import argparse\n",
    "import sys\n",
    "import pandas as pd\n",
    "import time as t\n",
    "import sys\n",
    "import numpy as np\n",
    "\n",
    "headers = {'User-Agent':'Mozilla/5.0 (X11; Linux x86_64) AppleWebKit/537.36 (KHTML, like Gecko) Chrome/88.0.4324.96 Safari/537.36'}\n",
    "links_with_text = []\n",
    "final_city_links =[]\n",
    "info_scraped = {}\n",
    "\n",
    "#scraps all urls on the page\n",
    "def parse_url(url) :\n",
    "\tresponse=requests.get(url,headers=headers)\n",
    "\tsoup=BeautifulSoup(response.content,'lxml')\n",
    "\tt.sleep(3)\n",
    "\n",
    "\tfor a in soup.find_all('a', href=True, class_ = 'css-166la90'): \n",
    "    \t\tif a.text: \n",
    "        \t\tlinks_with_text.append(a['href'])\n",
    "\n",
    "#save only business URL\n",
    "def clean_urls(links_with_text):\n",
    "\tfor link in links_with_text:\n",
    "\t\tif (link[0:5] ==\"/biz/\"):\n",
    "\t\t\tinfo_scraped['URL'] = \"https://www.yelp.com\"+link\n",
    "\t\t\tfinal_city_links.append(info_scraped['URL'])\n",
    "\tprint(final_city_links)\t\t\n",
    "\tdf = pd.DataFrame({'URL':final_city_links})\n",
    "\treturn(df)\n",
    "\t\t\t\t\t\t\n",
    "#main function takes in list of page numbers as input and scraps it\t\t\n",
    "if __name__==\"__main__\":\n",
    "\targparser = argparse.ArgumentParser()\n",
    "\targparser.add_argument('page_no_file')\n",
    "\targparser.parse_args()\n",
    "\tfilename= sys.argv[1]\n",
    "\tpage_no = np.loadtxt(filename, delimiter=',')\n",
    "\tfor m in page_no:\n",
    "\t\tyelp_url  = \"https://www.yelp.com/search?cflt=restaurants&find_loc=Chicago&start=%s\"%(m)\n",
    "\t\tprint(m)\n",
    "\t\tscraped_data = parse_url(yelp_url)\n",
    "\tfinal_links = clean_urls(links_with_text)\n",
    "\tfinal_links.to_csv(\"url_yelp.csv\")"
   ]
  },
  {
   "cell_type": "code",
   "execution_count": null,
   "id": "ffef4f6f",
   "metadata": {},
   "outputs": [],
   "source": []
  },
  {
   "cell_type": "code",
   "execution_count": null,
   "id": "981f98dc",
   "metadata": {},
   "outputs": [],
   "source": []
  },
  {
   "cell_type": "code",
   "execution_count": null,
   "id": "aa5aea1e",
   "metadata": {},
   "outputs": [],
   "source": []
  },
  {
   "cell_type": "code",
   "execution_count": null,
   "id": "9d1159ec",
   "metadata": {},
   "outputs": [],
   "source": []
  },
  {
   "cell_type": "code",
   "execution_count": null,
   "id": "0f582757",
   "metadata": {},
   "outputs": [],
   "source": []
  },
  {
   "cell_type": "code",
   "execution_count": null,
   "id": "71901653",
   "metadata": {},
   "outputs": [],
   "source": []
  },
  {
   "cell_type": "code",
   "execution_count": 109,
   "id": "1f9a0db8",
   "metadata": {},
   "outputs": [],
   "source": [
    "import os\n",
    "cwd = os.getcwd()"
   ]
  },
  {
   "cell_type": "code",
   "execution_count": 110,
   "id": "0f0e6d82",
   "metadata": {},
   "outputs": [],
   "source": [
    "def load_feat_importance():\n",
    "    featureImportance = pd.read_csv(cwd+'/featureImportance.csv')\n",
    "    return featureImportance\n",
    "\n",
    "featureImportance = load_feat_importance()"
   ]
  },
  {
   "cell_type": "code",
   "execution_count": 112,
   "id": "a403b591",
   "metadata": {},
   "outputs": [
    {
     "data": {
      "text/html": [
       "<div>\n",
       "<style scoped>\n",
       "    .dataframe tbody tr th:only-of-type {\n",
       "        vertical-align: middle;\n",
       "    }\n",
       "\n",
       "    .dataframe tbody tr th {\n",
       "        vertical-align: top;\n",
       "    }\n",
       "\n",
       "    .dataframe thead th {\n",
       "        text-align: right;\n",
       "    }\n",
       "</style>\n",
       "<table border=\"1\" class=\"dataframe\">\n",
       "  <thead>\n",
       "    <tr style=\"text-align: right;\">\n",
       "      <th></th>\n",
       "      <th>Unnamed: 0</th>\n",
       "      <th>index</th>\n",
       "      <th>featureImportance</th>\n",
       "    </tr>\n",
       "  </thead>\n",
       "  <tbody>\n",
       "    <tr>\n",
       "      <th>0</th>\n",
       "      <td>3693</td>\n",
       "      <td>be</td>\n",
       "      <td>-2.978328</td>\n",
       "    </tr>\n",
       "    <tr>\n",
       "      <th>1</th>\n",
       "      <td>9227</td>\n",
       "      <td>the</td>\n",
       "      <td>-3.192172</td>\n",
       "    </tr>\n",
       "    <tr>\n",
       "      <th>2</th>\n",
       "      <td>3388</td>\n",
       "      <td>and</td>\n",
       "      <td>-3.255406</td>\n",
       "    </tr>\n",
       "    <tr>\n",
       "      <th>3</th>\n",
       "      <td>1518</td>\n",
       "      <td>I</td>\n",
       "      <td>-3.558863</td>\n",
       "    </tr>\n",
       "    <tr>\n",
       "      <th>4</th>\n",
       "      <td>3168</td>\n",
       "      <td>a</td>\n",
       "      <td>-3.629951</td>\n",
       "    </tr>\n",
       "  </tbody>\n",
       "</table>\n",
       "</div>"
      ],
      "text/plain": [
       "   Unnamed: 0 index  featureImportance\n",
       "0        3693    be          -2.978328\n",
       "1        9227   the          -3.192172\n",
       "2        3388   and          -3.255406\n",
       "3        1518     I          -3.558863\n",
       "4        3168     a          -3.629951"
      ]
     },
     "execution_count": 112,
     "metadata": {},
     "output_type": "execute_result"
    }
   ],
   "source": [
    "featureImportance.head()"
   ]
  },
  {
   "cell_type": "code",
   "execution_count": 104,
   "id": "632edef5",
   "metadata": {},
   "outputs": [],
   "source": [
    "string = \"\"\"I keep hearing about how good Kitchen Story is, but I feel like I was let down or my expectations were too high. The presentation of everything was great and I feel like this place might be more of an \"aesthetic\" because everything looks SO good. Unfortunately, some dishes missed the mark in terms of flavor. We came here for dinner on a weekend and it was pretty empty for around 6:30pm, so we were seated down quickly (yay!).\"\"\""
   ]
  },
  {
   "cell_type": "code",
   "execution_count": 114,
   "id": "53f9a80c",
   "metadata": {},
   "outputs": [
    {
     "name": "stdout",
     "output_type": "stream",
     "text": [
      "['I', 'keep', 'hearing', 'about', 'how', 'good', 'Kitchen', 'Story', 'is,', 'but', 'I', 'feel', 'like', 'I', 'was', 'let', 'down', 'or', 'my', 'expectations', 'were', 'too', 'high.', 'The', 'presentation', 'of', 'everything', 'was', 'great', 'and', 'I', 'feel', 'like', 'this', 'place', 'might', 'be', 'more', 'of', 'an', '\"aesthetic\"', 'because', 'everything', 'looks', 'SO', 'good.', 'Unfortunately,', 'some', 'dishes', 'missed', 'the', 'mark', 'in', 'terms', 'of', 'flavor.', 'We', 'came', 'here', 'for', 'dinner', 'on', 'a', 'weekend', 'and', 'it', 'was', 'pretty', 'empty', 'for', 'around', '6:30pm,', 'so', 'we', 'were', 'seated', 'down', 'quickly', '(yay!).']\n"
     ]
    }
   ],
   "source": [
    "list_string = string.split(' ')\n",
    "print (list_string)"
   ]
  },
  {
   "cell_type": "code",
   "execution_count": 130,
   "id": "69b00f1e",
   "metadata": {
    "scrolled": true
   },
   "outputs": [
    {
     "name": "stdout",
     "output_type": "stream",
     "text": [
      "['I', 'keep', 'about', 'how', 'good', 'Kitchen', 'but', 'I', 'feel', 'like', 'I', 'let', 'down', 'or', 'my', 'expectations', 'too', 'The', 'presentation', 'of', 'everything', 'great', 'and', 'I', 'feel', 'like', 'this', 'place', 'might', 'be', 'more', 'of', 'an', 'because', 'everything', 'SO', 'some', 'the', 'mark', 'in', 'of', 'We', 'here', 'for', 'dinner', 'on', 'a', 'weekend', 'and', 'it', 'pretty', 'empty', 'for', 'around', 'so', 'we', 'down', 'quickly']\n"
     ]
    }
   ],
   "source": [
    "slim = [k for k in list_string if k in list(featureImportance['index'])]\n",
    "print (slim)"
   ]
  },
  {
   "cell_type": "code",
   "execution_count": null,
   "id": "6ac69334",
   "metadata": {},
   "outputs": [],
   "source": []
  },
  {
   "cell_type": "code",
   "execution_count": 132,
   "id": "90fd9261",
   "metadata": {},
   "outputs": [
    {
     "data": {
      "text/plain": [
       "'I keep hearing about how good Kitchen Story is, but I feel like I was let down or my expectations were too high. The presentation of everything was great and I feel like this place might be more of an \"aesthetic\" because everything looks SO good. Unfortunately, some dishes missed the mark in terms of flavor. We came here for dinner on a weekend and it was pretty empty for around 6:30pm, so we were seated down quickly (yay!).'"
      ]
     },
     "execution_count": 132,
     "metadata": {},
     "output_type": "execute_result"
    }
   ],
   "source": [
    "\" \".join(list_string)"
   ]
  },
  {
   "cell_type": "code",
   "execution_count": null,
   "id": "4addae5a",
   "metadata": {},
   "outputs": [],
   "source": []
  },
  {
   "cell_type": "code",
   "execution_count": 139,
   "id": "3f48434d",
   "metadata": {},
   "outputs": [
    {
     "data": {
      "text/plain": [
       "'`I` `keep` hearing `about` `how` `good` `Kitchen` Story is, `but` `I` `feel` `like` `I` was `let` `down` `or` `my` `expectations` were `too` high. `The` `presentation` `of` `everything` was `great` `and` `I` `feel` `like` `this` `place` `might` `be` `more` `of` `an` \"aesthetic\" `because` `everything` looks `SO` good. Unfortunately, `some` dishes missed `the` `mark` `in` terms `of` flavor. `We` came `here` `for` `dinner` `on` `a` `weekend` `and` `it` was `pretty` `empty` `for` `around` 6:30pm, `so` `we` were seated `down` `quickly` (yay!).'"
      ]
     },
     "execution_count": 139,
     "metadata": {},
     "output_type": "execute_result"
    }
   ],
   "source": [
    "\n",
    "list_string = string.split(' ')\n",
    "slim = [k for k in list_string if k in list(featureImportance['index'])]\n",
    "\n",
    "def get_feat_text(slim, list_string):\n",
    "    list_a = []\n",
    "\n",
    "    for i in list_string:\n",
    "\n",
    "        if i in slim:\n",
    "            p = \"`\"+str(i)+\"`\"\n",
    "            list_a.append(p)\n",
    "        else:\n",
    "            list_a.append(i)\n",
    "    return \" \".join(list_a)   "
   ]
  },
  {
   "cell_type": "code",
   "execution_count": null,
   "id": "861eb759",
   "metadata": {},
   "outputs": [],
   "source": []
  },
  {
   "cell_type": "code",
   "execution_count": null,
   "id": "11590b77",
   "metadata": {},
   "outputs": [],
   "source": []
  }
 ],
 "metadata": {
  "kernelspec": {
   "display_name": "Python 3 (ipykernel)",
   "language": "python",
   "name": "python3"
  },
  "language_info": {
   "codemirror_mode": {
    "name": "ipython",
    "version": 3
   },
   "file_extension": ".py",
   "mimetype": "text/x-python",
   "name": "python",
   "nbconvert_exporter": "python",
   "pygments_lexer": "ipython3",
   "version": "3.9.7"
  }
 },
 "nbformat": 4,
 "nbformat_minor": 5
}
